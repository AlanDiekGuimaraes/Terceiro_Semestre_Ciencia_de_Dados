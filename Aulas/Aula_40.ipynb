{
 "cells": [
  {
   "metadata": {},
   "cell_type": "markdown",
   "source": [
    "## 3. Criando Arrays NumPy\n",
    "\n",
    "### 3.1 Métodos Básicos de Criação"
   ],
   "id": "22731496b0d84e26"
  },
  {
   "cell_type": "code",
   "id": "initial_id",
   "metadata": {
    "collapsed": true,
    "ExecuteTime": {
     "end_time": "2025-04-02T23:56:51.403228Z",
     "start_time": "2025-04-02T23:56:51.298215Z"
    }
   },
   "source": [
    "import numpy as np\n",
    "\n",
    "from Terceiro_Semestre_Ciencia_de_Dados.MADA.explicação import identity"
   ],
   "outputs": [],
   "execution_count": 2
  },
  {
   "metadata": {
    "ExecuteTime": {
     "end_time": "2025-04-02T23:56:51.419377Z",
     "start_time": "2025-04-02T23:56:51.414364Z"
    }
   },
   "cell_type": "code",
   "source": [
    "array1d = np.array([10, 15,14])\n",
    "print(array1d)"
   ],
   "id": "856cd36a128103ba",
   "outputs": [
    {
     "name": "stdout",
     "output_type": "stream",
     "text": [
      "[10 15 14]\n"
     ]
    }
   ],
   "execution_count": 3
  },
  {
   "metadata": {
    "ExecuteTime": {
     "end_time": "2025-04-02T23:56:51.477540Z",
     "start_time": "2025-04-02T23:56:51.472289Z"
    }
   },
   "cell_type": "code",
   "source": [
    "array2d = np.array([[15, 10, 18, 16], [19, 25, 30, 80]])\n",
    "print(array2d)"
   ],
   "id": "fa5821534b6f936f",
   "outputs": [
    {
     "name": "stdout",
     "output_type": "stream",
     "text": [
      "[[15 10 18 16]\n",
      " [19 25 30 80]]\n"
     ]
    }
   ],
   "execution_count": 4
  },
  {
   "metadata": {},
   "cell_type": "markdown",
   "source": "",
   "id": "a8c82c5f3a9cc94a"
  },
  {
   "metadata": {
    "ExecuteTime": {
     "end_time": "2025-04-02T23:57:26.099374Z",
     "start_time": "2025-04-02T23:57:26.095401Z"
    }
   },
   "cell_type": "code",
   "source": [
    "zeros = np.zeros((3, 3))\n",
    "print(zeros)"
   ],
   "id": "75468d4541339083",
   "outputs": [
    {
     "name": "stdout",
     "output_type": "stream",
     "text": [
      "[[0. 0. 0.]\n",
      " [0. 0. 0.]\n",
      " [0. 0. 0.]]\n"
     ]
    }
   ],
   "execution_count": 7
  },
  {
   "metadata": {
    "ExecuteTime": {
     "end_time": "2025-04-02T23:58:17.020915Z",
     "start_time": "2025-04-02T23:58:17.016115Z"
    }
   },
   "cell_type": "code",
   "source": [
    "ones = np.ones((5, 5))\n",
    "print(ones)"
   ],
   "id": "ddb8c58c46ab638b",
   "outputs": [
    {
     "name": "stdout",
     "output_type": "stream",
     "text": [
      "[[1. 1. 1. 1. 1.]\n",
      " [1. 1. 1. 1. 1.]\n",
      " [1. 1. 1. 1. 1.]\n",
      " [1. 1. 1. 1. 1.]\n",
      " [1. 1. 1. 1. 1.]]\n"
     ]
    }
   ],
   "execution_count": 9
  },
  {
   "metadata": {
    "ExecuteTime": {
     "end_time": "2025-04-02T23:59:24.287513Z",
     "start_time": "2025-04-02T23:59:24.282852Z"
    }
   },
   "cell_type": "code",
   "source": [
    "full = np.full(10, 8)\n",
    "print(full)"
   ],
   "id": "349c7379bbd10353",
   "outputs": [
    {
     "name": "stdout",
     "output_type": "stream",
     "text": [
      "[8 8 8 8 8 8 8 8 8 8]\n"
     ]
    }
   ],
   "execution_count": 12
  },
  {
   "metadata": {
    "ExecuteTime": {
     "end_time": "2025-04-03T00:00:01.765202Z",
     "start_time": "2025-04-03T00:00:01.760201Z"
    }
   },
   "cell_type": "code",
   "source": [
    "identity = np.identity(5)\n",
    "print(identity)"
   ],
   "id": "f085f5efd64e9b61",
   "outputs": [
    {
     "name": "stdout",
     "output_type": "stream",
     "text": [
      "[[1. 0. 0. 0. 0.]\n",
      " [0. 1. 0. 0. 0.]\n",
      " [0. 0. 1. 0. 0.]\n",
      " [0. 0. 0. 1. 0.]\n",
      " [0. 0. 0. 0. 1.]]\n"
     ]
    }
   ],
   "execution_count": 13
  },
  {
   "metadata": {
    "ExecuteTime": {
     "end_time": "2025-04-03T00:01:55.020767Z",
     "start_time": "2025-04-03T00:01:55.015231Z"
    }
   },
   "cell_type": "code",
   "source": [
    "range_arr = np.arange(0, 16, 2 )\n",
    "print(range_arr)"
   ],
   "id": "f63a3a7121020f94",
   "outputs": [
    {
     "name": "stdout",
     "output_type": "stream",
     "text": [
      "[ 0  2  4  6  8 10 12 14]\n"
     ]
    }
   ],
   "execution_count": 16
  },
  {
   "metadata": {
    "ExecuteTime": {
     "end_time": "2025-04-03T00:02:48.754272Z",
     "start_time": "2025-04-03T00:02:48.749037Z"
    }
   },
   "cell_type": "code",
   "source": [
    "random_a = np.random.rand(5)\n",
    "print(random_a)"
   ],
   "id": "485fd4658027513e",
   "outputs": [
    {
     "name": "stdout",
     "output_type": "stream",
     "text": [
      "[0.24454818 0.77629799 0.16366337 0.13357349 0.46552552]\n"
     ]
    }
   ],
   "execution_count": 19
  },
  {
   "metadata": {
    "ExecuteTime": {
     "end_time": "2025-04-03T00:09:15.665774Z",
     "start_time": "2025-04-03T00:09:15.661486Z"
    }
   },
   "cell_type": "code",
   "source": [
    "arr = np.random.rand(3,4,2)\n",
    "\n",
    "print(arr)"
   ],
   "id": "828c287f5b642b1",
   "outputs": [
    {
     "name": "stdout",
     "output_type": "stream",
     "text": [
      "[[[0.2957873  0.22691707]\n",
      "  [0.4864434  0.53066786]\n",
      "  [0.09706843 0.87086247]\n",
      "  [0.73808557 0.75302591]]\n",
      "\n",
      " [[0.47649308 0.27395734]\n",
      "  [0.28317304 0.751968  ]\n",
      "  [0.57811912 0.16404828]\n",
      "  [0.72307724 0.28942198]]\n",
      "\n",
      " [[0.65847616 0.23637865]\n",
      "  [0.96333835 0.43405827]\n",
      "  [0.73263948 0.33804446]\n",
      "  [0.86465849 0.34786656]]]\n"
     ]
    }
   ],
   "execution_count": 32
  },
  {
   "metadata": {
    "ExecuteTime": {
     "end_time": "2025-04-03T00:09:11.902345Z",
     "start_time": "2025-04-03T00:09:11.894178Z"
    }
   },
   "cell_type": "code",
   "source": "print(arr.shape)",
   "id": "1e38391ba939fb5c",
   "outputs": [
    {
     "name": "stdout",
     "output_type": "stream",
     "text": [
      "(3, 4, 2)\n"
     ]
    }
   ],
   "execution_count": 31
  },
  {
   "metadata": {
    "ExecuteTime": {
     "end_time": "2025-04-03T00:09:00.847593Z",
     "start_time": "2025-04-03T00:09:00.839369Z"
    }
   },
   "cell_type": "code",
   "source": [
    "ndim = arr.ndim\n",
    "print(ndim)"
   ],
   "id": "743fa3d674cc00c2",
   "outputs": [
    {
     "name": "stdout",
     "output_type": "stream",
     "text": [
      "3\n"
     ]
    }
   ],
   "execution_count": 30
  },
  {
   "metadata": {
    "ExecuteTime": {
     "end_time": "2025-04-03T00:08:50.437100Z",
     "start_time": "2025-04-03T00:08:50.433200Z"
    }
   },
   "cell_type": "code",
   "source": "print(arr.size)",
   "id": "73908e5773fbfd1b",
   "outputs": [
    {
     "name": "stdout",
     "output_type": "stream",
     "text": [
      "24\n"
     ]
    }
   ],
   "execution_count": 29
  },
  {
   "metadata": {
    "ExecuteTime": {
     "end_time": "2025-04-03T00:06:54.171529Z",
     "start_time": "2025-04-03T00:06:54.161417Z"
    }
   },
   "cell_type": "code",
   "source": "print(arr.dtype)",
   "id": "a8b1e01582c754c4",
   "outputs": [
    {
     "name": "stdout",
     "output_type": "stream",
     "text": [
      "float64\n"
     ]
    }
   ],
   "execution_count": 26
  },
  {
   "metadata": {
    "ExecuteTime": {
     "end_time": "2025-04-03T00:07:20.016649Z",
     "start_time": "2025-04-03T00:07:19.998064Z"
    }
   },
   "cell_type": "code",
   "source": "print(arr.itemsize)",
   "id": "4b66216a126f6300",
   "outputs": [
    {
     "name": "stdout",
     "output_type": "stream",
     "text": [
      "8\n"
     ]
    }
   ],
   "execution_count": 27
  },
  {
   "metadata": {
    "ExecuteTime": {
     "end_time": "2025-04-03T00:08:18.213666Z",
     "start_time": "2025-04-03T00:08:18.209505Z"
    }
   },
   "cell_type": "code",
   "source": "print(arr.nbytes)",
   "id": "5d5ae887bf7afffa",
   "outputs": [
    {
     "name": "stdout",
     "output_type": "stream",
     "text": [
      "192\n"
     ]
    }
   ],
   "execution_count": 28
  }
 ],
 "metadata": {
  "kernelspec": {
   "display_name": "Python 3",
   "language": "python",
   "name": "python3"
  },
  "language_info": {
   "codemirror_mode": {
    "name": "ipython",
    "version": 2
   },
   "file_extension": ".py",
   "mimetype": "text/x-python",
   "name": "python",
   "nbconvert_exporter": "python",
   "pygments_lexer": "ipython2",
   "version": "2.7.6"
  }
 },
 "nbformat": 4,
 "nbformat_minor": 5
}
