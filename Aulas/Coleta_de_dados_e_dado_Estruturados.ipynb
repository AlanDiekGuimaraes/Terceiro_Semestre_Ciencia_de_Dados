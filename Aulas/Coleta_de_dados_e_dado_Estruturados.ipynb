{
 "cells": [
  {
   "cell_type": "code",
   "execution_count": 1,
   "metadata": {},
   "outputs": [],
   "source": [
    "import pandas as pd # Importando biblioteca pandas\n",
    "import requests # Importando biblioteca requests para fazer requisições HTTP\n",
    "\n",
    "from bs4 import BeautifulSoup # Importando biblioteca BeautifulSoup para parsear HTML"
   ]
  },
  {
   "cell_type": "code",
   "execution_count": null,
   "metadata": {},
   "outputs": [
    {
     "data": {
      "text/plain": [
       "Index(['Index', ' Height(Inches)\"', ' \"Weight(Pounds)\"'], dtype='object')"
      ]
     },
     "execution_count": 4,
     "metadata": {},
     "output_type": "execute_result"
    }
   ],
   "source": [
    "csv_url = 'https://people.sc.fsu.edu/~jburkardt/data/csv/hw_200.csv' # URL do dataset\n",
    "df_csv = pd.read_csv(csv_url) # Lendo o dataset\n",
    "df_csv.head() # Exibindo as primeiras linhas do dataset\n",
    "df_csv.columns # Exibindo os nomes das colunas do dataset"
   ]
  },
  {
   "cell_type": "code",
   "execution_count": 53,
   "metadata": {},
   "outputs": [
    {
     "name": "stdout",
     "output_type": "stream",
     "text": [
      "                       name                      email                  phone\n",
      "0             Leanne Graham          Sincere@april.biz  1-770-736-8031 x56442\n",
      "1              Ervin Howell          Shanna@melissa.tv    010-692-6593 x09125\n",
      "2          Clementine Bauch         Nathan@yesenia.net         1-463-123-4447\n",
      "3          Patricia Lebsack  Julianne.OConner@kory.org      493-170-9623 x156\n",
      "4          Chelsey Dietrich   Lucio_Hettinger@annie.ca          (254)954-1289\n",
      "5      Mrs. Dennis Schulist    Karley_Dach@jasper.info   1-477-935-8478 x6430\n",
      "6           Kurtis Weissnat     Telly.Hoeger@billy.biz           210.067.6132\n",
      "7  Nicholas Runolfsdottir V       Sherwood@rosamond.me      586.493.6943 x140\n",
      "8           Glenna Reichert    Chaim_McDermott@dana.io   (775)976-6794 x41206\n",
      "9        Clementina DuBuque     Rey.Padberg@karina.biz           024-648-3804\n",
      "\n",
      " =========================================================================== \n",
      "\n",
      "                 name                     email           phone\n",
      "2    Clementine Bauch        Nathan@yesenia.net  1-463-123-4447\n",
      "4    Chelsey Dietrich  Lucio_Hettinger@annie.ca   (254)954-1289\n",
      "9  Clementina DuBuque    Rey.Padberg@karina.biz    024-648-3804\n",
      "\n",
      " =========================================================================== \n",
      "\n",
      "              name                    email                 phone\n",
      "8  Glenna Reichert  Chaim_McDermott@dana.io  (775)976-6794 x41206\n"
     ]
    }
   ],
   "source": [
    "response = requests.get('https://jsonplaceholder.typicode.com/users') # Fazendo a requisição HTTP\n",
    "users = response.json() # Converte a resposta JSON para um dicionário\n",
    "df_users = pd.DataFrame(users) # Converte o dicionário para um DataFrame\n",
    "df_users.columns # Exibindo os nomes das colunas do DataFrame\n",
    "dff = df_users[['name', 'email', 'phone']] # Selecionando as colunas 'name' e 'email' do DataFrame\n",
    "print(dff) # Exibindo as primeiras linhas do DataFrame de citações\n",
    "print('\\n', (75 * '=').center(75), '\\n') # Exibindo uma divisória\n",
    "\n",
    "df_filtrado = dff[dff['name'].str.startswith('C')] # Filtrando o DataFrame por nomes iniciando com 'C'\n",
    "print(df_filtrado) # Exibindo as primeiras linhas do DataFrame filtrado\n",
    "\n",
    "print('\\n', (75 * '=').center(75), '\\n') # Exibindo uma divisória\n",
    "\n",
    "# Obs: Se Não tiver registro com o e-mail 'dana.io', o DataFrame filtrado2 não retornará nenhuma linha.\n",
    "df_filtrado2 = dff[dff['email'].str.endswith('@dana.io')] # Filtrando o DataFrame por nomes que contêm '@gmail.com'\n",
    "print(df_filtrado2) # Exibindo as primeiras linhas do DataFrame filtrado\n",
    "\n",
    "dff.to_csv('user.csv', index=False) # Salvando o DataFrame em um CSV com nome 'user.csv'\n",
    "df_carregado = pd.read_csv('user.csv') # Carregando o DataFrame salvo anteriormente\n",
    "\n"
   ]
  },
  {
   "cell_type": "code",
   "execution_count": null,
   "metadata": {},
   "outputs": [
    {
     "data": {
      "text/html": [
       "<div>\n",
       "<style scoped>\n",
       "    .dataframe tbody tr th:only-of-type {\n",
       "        vertical-align: middle;\n",
       "    }\n",
       "\n",
       "    .dataframe tbody tr th {\n",
       "        vertical-align: top;\n",
       "    }\n",
       "\n",
       "    .dataframe thead th {\n",
       "        text-align: right;\n",
       "    }\n",
       "</style>\n",
       "<table border=\"1\" class=\"dataframe\">\n",
       "  <thead>\n",
       "    <tr style=\"text-align: right;\">\n",
       "      <th></th>\n",
       "      <th>Quote</th>\n",
       "    </tr>\n",
       "  </thead>\n",
       "  <tbody>\n",
       "    <tr>\n",
       "      <th>0</th>\n",
       "      <td>“The world as we have created it is a process ...</td>\n",
       "    </tr>\n",
       "    <tr>\n",
       "      <th>1</th>\n",
       "      <td>“It is our choices, Harry, that show what we t...</td>\n",
       "    </tr>\n",
       "    <tr>\n",
       "      <th>2</th>\n",
       "      <td>“There are only two ways to live your life. On...</td>\n",
       "    </tr>\n",
       "    <tr>\n",
       "      <th>3</th>\n",
       "      <td>“The person, be it gentleman or lady, who has ...</td>\n",
       "    </tr>\n",
       "    <tr>\n",
       "      <th>4</th>\n",
       "      <td>“Imperfection is beauty, madness is genius and...</td>\n",
       "    </tr>\n",
       "  </tbody>\n",
       "</table>\n",
       "</div>"
      ],
      "text/plain": [
       "                                               Quote\n",
       "0  “The world as we have created it is a process ...\n",
       "1  “It is our choices, Harry, that show what we t...\n",
       "2  “There are only two ways to live your life. On...\n",
       "3  “The person, be it gentleman or lady, who has ...\n",
       "4  “Imperfection is beauty, madness is genius and..."
      ]
     },
     "execution_count": 12,
     "metadata": {},
     "output_type": "execute_result"
    }
   ],
   "source": [
    "url = 'https://quotes.toscrape.com/' # URL da página de citações\n",
    "response = requests.get(url) # Fazendo a requisição HTTP\n",
    "soup = BeautifulSoup(response.text, 'html.parser') # Parseando o HTML\n",
    "\n",
    "df_quotes = pd.DataFrame({'Quote': [quote.text for quote in soup.find_all('span', class_='text')]}) # Criando um DataFrame a partir da lista de citações\n",
    "\n",
    "df_quotes.head() # Exibindo as primeiras linhas do DataFrame"
   ]
  },
  {
   "cell_type": "code",
   "execution_count": 61,
   "metadata": {},
   "outputs": [
    {
     "name": "stdout",
     "output_type": "stream",
     "text": [
      "[[<Axes: title={'center': 'temperature_2m'}>]]\n",
      "Axes(0.125,0.11;0.775x0.77)\n"
     ]
    },
    {
     "data": {
      "image/png": "[encoded data removed]",
      "text/plain": [
       "<Figure size 640x480 with 1 Axes>"
      ]
     },
     "metadata": {},
     "output_type": "display_data"
    }
   ],
   "source": [
    "api_url = 'https://api.open-meteo.com/v1/forecast?latitude=-23.55&longitude=-46.63&hourly=temperature_2m&timezone=America/Sao_Paulo' # URL da API de previsão meteorológica\n",
    "response = requests.get(api_url) # Fazendo a requisição HTTP\n",
    "data = response.json() # Converte a resposta JSON para um dicionário\n",
    "\n",
    "df_previsao = pd.DataFrame(data['hourly']) # Criando um DataFrame a partir da lista de previsões\n",
    "\n",
    "print(df_previsao.hist())\n",
    "\n",
    "print(df_previsao.boxplot())"
   ]
  },
  {
   "cell_type": "code",
   "execution_count": 74,
   "metadata": {},
   "outputs": [
    {
     "name": "stdout",
     "output_type": "stream",
     "text": [
      "              datetime  temperature_2m\n",
      "0     2024-01-01T00:00            19.4\n",
      "1     2024-01-01T01:00            18.6\n",
      "2     2024-01-01T02:00            18.3\n",
      "3     2024-01-01T03:00            18.1\n",
      "4     2024-01-01T04:00            18.1\n",
      "...                ...             ...\n",
      "8779  2024-12-31T19:00            25.2\n",
      "8780  2024-12-31T20:00            24.7\n",
      "8781  2024-12-31T21:00            24.5\n",
      "8782  2024-12-31T22:00            23.2\n",
      "8783  2024-12-31T23:00            22.5\n",
      "\n",
      "[8784 rows x 2 columns]\n"
     ]
    }
   ],
   "source": [
    "from re import U\n",
    "\n",
    "latitude = -23.55 # Latitude\n",
    "longitude = -46.63 # Longitude\n",
    "\n",
    "startdate = '2024-01-01' # Data inicial\n",
    "enddate = '2024-12-31' # Data final\n",
    "\n",
    "url = f'https://archive-api.open-meteo.com/v1/archive?latitude={latitude}&longitude={longitude}&start_date={startdate}&end_date={enddate}&hourly=temperature_2m&daily=precipitation_sum' # URL da API de dados climáticos\n",
    "response = requests.get(url) # Fazendo a requisição HTTP\n",
    "if response.status_code == 200: # Verifica se a requisição foi bem-sucedida\n",
    "    data = response.json() # Converte a resposta JSON para um dicionário\n",
    "    hourly_data = data.get('hourly', {}) # Obtém os dados horários\n",
    "    daily_data = data.get('daily', {}) # Obtém os dados diários\n",
    "\n",
    "    time_hourly = hourly_data.get('time', []) # Obtém as datas dos dados horários\n",
    "    temp_hourly = hourly_data.get('temperature_2m', []) # Obtém as temperaturas dos dados horários\n",
    "\n",
    "    time_daily = daily_data.get('time', []) # Obtém as datas dos dados diários\n",
    "    precip_daily = daily_data.get('precipitation_sum', []) # Obtém as precipitações dos dados diários\n",
    "\n",
    "    df_hourly = pd.DataFrame({'datetime': time_hourly, 'temperature_2m': temp_hourly}) # Criando um DataFrame a partir dos dados horários\n",
    "    df_daily = pd.DataFrame({'date': time_daily, 'precipitation_sum': precip_daily}) # Criando um DataFrame a partir dos dados diários\n",
    "\n",
    "    print(df_hourly)\n",
    "    \n",
    "else:\n",
    "    print('Deu Merda na requisição.')\n",
    "    print(response.status_code)\n",
    "\n",
    "df_hourly\n",
    "\n",
    "df_hourly.to_csv('teno2024houly.csv', index=False) # Salvando o DataFrame em um CSV com nome 'teno2024hourly.csv'\n",
    "\n"
   ]
  },
  {
   "cell_type": "code",
   "execution_count": null,
   "metadata": {},
   "outputs": [],
   "source": [
    "api_url = 'https://api.open-meteo.com/v1/forecast?latitude=-23.55&longitude=-46.63&hourly=temperature_2m&timezone=America/Sao_Paulo' \n",
    "# URL da API de previsão meteorológica\n",
    "\n",
    "def pegadados(url): # Função para pegar dados de previsão meteorológica'\n",
    "    response = requests.get(url) # Fazendo a requisição HTTP\n",
    "    if response.status_code == 200: # Verifica se a requisição foi bem-sucedida\n",
    "        data = response.json() # Converte a resposta JSON para um dicionário\n",
    "        df = pd.DataFrame(data['hourly']) # Criando um DataFrame a partir da lista de previsões\n",
    "        df = df.dropna(axis=1)       # Retirando as colunas que não contêm dados\n",
    "        return df # Retorna o DataFrame de previsões meteorológicas\n",
    "    else:\n",
    "        return None # Retorna None caso a requisição falhe\n",
    "    \n",
    "df = pegadados(api_url) # Chamando a função para pegar os dados\n",
    "\n",
    "df.to_csv('DadosCapturados.csv', index=False) # Salvando o DataFrame em um CSV com nome 'dadosCapturados.csv'"
   ]
  }
 ],
 "metadata": {
  "kernelspec": {
   "display_name": ".venv",
   "language": "python",
   "name": "python3"
  },
  "language_info": {
   "codemirror_mode": {
    "name": "ipython",
    "version": 3
   },
   "file_extension": ".py",
   "mimetype": "text/x-python",
   "name": "python",
   "nbconvert_exporter": "python",
   "pygments_lexer": "ipython3",
   "version": "3.11.9"
  }
 },
 "nbformat": 4,
 "nbformat_minor": 2
}
