{
 "cells": [
  {
   "metadata": {},
   "cell_type": "markdown",
   "source": "",
   "id": "7fcbd06bf359d14b"
  },
  {
   "metadata": {},
   "cell_type": "markdown",
   "source": [
    "\n",
    "\n",
    "## 7. Visualização Básica com Pandas: Explorando Dados Visualmente\n",
    "\n",
    "####  O Pandas oferece integração com Matplotlib para criar visualizações simples e informativas:\n",
    "\n",
    "# - Gráficos de linhas: `plot(kind='line')`\n",
    "# - Gráficos de barras: `plot(kind='bar')`\n",
    "# - Histogramas: `plot(kind='hist')`\n",
    "# - Gráficos de dispersão: `plot(kind='scatter')`\n",
    "# - Personalização de gráficos: títulos, rótulos, cores, etc."
   ],
   "id": "653c9cc4b55f9152"
  }
 ],
 "metadata": {},
 "nbformat": 5,
 "nbformat_minor": 9
}
