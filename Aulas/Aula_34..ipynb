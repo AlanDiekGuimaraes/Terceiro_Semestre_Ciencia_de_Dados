{
  "nbformat": 4,
  "nbformat_minor": 0,
  "metadata": {
    "colab": {
      "provenance": []
    },
    "kernelspec": {
      "name": "python3",
      "display_name": "Python 3"
    },
    "language_info": {
      "name": "python"
    }
  },
  "cells": [
    {
      "cell_type": "markdown",
      "source": [
        "# **Introdução à Linguagem MDX**\n",
        "\n",
        "**O que é MDX e para que serve?**\n",
        "\n",
        "MDX (Multidimensional Expressions) é uma linguagem de consulta projetada especificamente para manipular e recuperar dados em bancos de dados multidimensionais, como cubos OLAP (Online Analytical Processing). Diferente do SQL, que trabalha com bases de dados relacionais, MDX permite a análise de grandes volumes de informações organizadas em dimensões e medidas, facilitando a extração de insights complexos.\n",
        "\n",
        "Os principais usos de MDX incluem:\n",
        "-\tRecuperação de dados em bancos OLAP.\n",
        "-\tCriação de relatórios dinâmicos.\n",
        "-\tCálculos personalizados sobre medidas.\n",
        "-\tAgregação de informações baseadas em hierarquias de dimensão.\n"
      ],
      "metadata": {
        "id": "WhlA1hQUFsBZ"
      }
    },
    {
      "cell_type": "code",
      "execution_count": null,
      "metadata": {
        "id": "6CBwLnSpEV4E"
      },
      "outputs": [],
      "source": [
        "### Aula Prática de MDX no Google Colab com Python\n",
        "\n",
        "import pandas as pd\n",
        "\n",
        "# Criar um exemplo de cubo OLAP em formato de DataFrame\n",
        "dados = {\n",
        "    'Categoria': ['Eletrônicos', 'Móveis', 'Roupas', 'Alimentos', 'Brinquedos', 'Automóveis'],\n",
        "    'Receita': [10000, 5000, 7000, 3000, 4000, 12000],\n",
        "    'Custo': [6000, 3000, 4000, 2000, 2500, 8000],\n",
        "    'Quantidade_Vendida': [50, 30, 40, 20, 25, 60]\n",
        "}\n",
        "df = pd.DataFrame(dados)\n",
        "\n",
        "# Simular a recuperação de dados (equivalente a um SELECT MDX)\n",
        "def recuperar_dados(df):\n",
        "    return df[['Categoria', 'Receita', 'Quantidade_Vendida']]\n",
        "\n",
        "df_recuperacao = recuperar_dados(df)\n",
        "display(df_recuperacao)\n",
        "\n",
        "# Simular um cálculo personalizado (Margem de Lucro)\n",
        "def calcular_margem(df):\n",
        "    df['Margem_Lucro'] = (df['Receita'] - df['Custo']) / df['Receita']\n",
        "    return df[['Categoria', 'Receita', 'Custo', 'Margem_Lucro']]\n",
        "\n",
        "df_calculo = calcular_margem(df)\n",
        "display(df_calculo)\n",
        "\n",
        "# Criar um cálculo adicional - Ticket Médio\n",
        "def calcular_ticket_medio(df):\n",
        "    df['Ticket_Medio'] = df['Receita'] / df['Quantidade_Vendida']\n",
        "    return df[['Categoria', 'Receita', 'Quantidade_Vendida', 'Ticket_Medio']]\n",
        "\n",
        "df_ticket_medio = calcular_ticket_medio(df)\n",
        "display(df_ticket_medio)\n",
        "\n",
        "# Criar uma análise comparativa entre categorias\n",
        "def analisar_categorias(df):\n",
        "    df['Lucro_Liquido'] = df['Receita'] - df['Custo']\n",
        "    df_sorted = df.sort_values(by='Lucro_Liquido', ascending=False)\n",
        "    return df_sorted[['Categoria', 'Receita', 'Custo', 'Lucro_Liquido']]\n",
        "\n",
        "df_analise = analisar_categorias(df)\n",
        "display(df_analise)"
      ]
    }
  ]
}