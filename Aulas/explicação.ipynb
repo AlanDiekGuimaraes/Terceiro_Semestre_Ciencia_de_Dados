{
 "cells": [
  {
   "metadata": {},
   "cell_type": "markdown",
   "source": [
    "## 3. Criando Arrays NumPy\n",
    "\n",
    "### 3.1 Métodos Básicos de Criação"
   ],
   "id": "efc3f728b3806784"
  },
  {
   "metadata": {},
   "cell_type": "markdown",
   "source": [
    "Um array é uma estrutura de dados que armazena vários valores em uma única variável,\n",
    "\n",
    "podendo armazenar valores numéricos, listas de nomes, produtos, funcionários.\n",
    "\n",
    "\n",
    "\n",
    "\n"
   ],
   "id": "45ef91887fcb9d61"
  },
  {
   "metadata": {},
   "cell_type": "markdown",
   "source": [
    "Um array NumPy é uma estrutura que guarda vários números juntos,\n",
    "\n",
    "organizados de um jeito que facilita fazer contas e operações matemáticas.\n",
    "\n",
    "Ele funciona como uma \"super lista\" que pode ser manipulada de forma muito rápida!"
   ],
   "id": "8273cd444184ad9d"
  },
  {
   "metadata": {
    "ExecuteTime": {
     "end_time": "2025-04-03T00:23:53.101277Z",
     "start_time": "2025-04-03T00:23:53.003127Z"
    }
   },
   "cell_type": "code",
   "source": "import numpy as np",
   "id": "d2f3ed2b4e2328c1",
   "outputs": [],
   "execution_count": 2
  },
  {
   "metadata": {
    "ExecuteTime": {
     "end_time": "2025-04-03T00:23:53.149398Z",
     "start_time": "2025-04-03T00:23:53.103552Z"
    }
   },
   "cell_type": "code",
   "source": [
    "# Criando um array a partir de uma lista do Python (1D - uma dimensão)\n",
    "\n",
    "array1d = np.array([1, 2, 3, 4, 5]) # Esse é um array simples, como uma fileira com valores  unidimensional.\n",
    "print(\"1D array:\", array1)"
   ],
   "id": "51676d405da8eeb1",
   "outputs": [
    {
     "ename": "NameError",
     "evalue": "name 'array1' is not defined",
     "output_type": "error",
     "traceback": [
      "\u001B[1;31m---------------------------------------------------------------------------\u001B[0m",
      "\u001B[1;31mNameError\u001B[0m                                 Traceback (most recent call last)",
      "Cell \u001B[1;32mIn[3], line 4\u001B[0m\n\u001B[0;32m      1\u001B[0m \u001B[38;5;66;03m# Criando um array a partir de uma lista do Python (1D - uma dimensão)\u001B[39;00m\n\u001B[0;32m      3\u001B[0m array1d \u001B[38;5;241m=\u001B[39m np\u001B[38;5;241m.\u001B[39marray([\u001B[38;5;241m1\u001B[39m, \u001B[38;5;241m2\u001B[39m, \u001B[38;5;241m3\u001B[39m, \u001B[38;5;241m4\u001B[39m, \u001B[38;5;241m5\u001B[39m]) \u001B[38;5;66;03m# Esse é um array simples, como uma fileira com valores  unidimensional.\u001B[39;00m\n\u001B[1;32m----> 4\u001B[0m \u001B[38;5;28mprint\u001B[39m(\u001B[38;5;124m\"\u001B[39m\u001B[38;5;124m1D array:\u001B[39m\u001B[38;5;124m\"\u001B[39m, \u001B[43marray1\u001B[49m)\n",
      "\u001B[1;31mNameError\u001B[0m: name 'array1' is not defined"
     ]
    }
   ],
   "execution_count": 3
  },
  {
   "metadata": {
    "ExecuteTime": {
     "end_time": "2025-04-03T00:23:53.149398600Z",
     "start_time": "2025-04-02T22:51:09.828725Z"
    }
   },
   "cell_type": "code",
   "source": [
    "# Criando um array bidimensional (2D) a partir de uma lista de listas\n",
    "array2d = np.array([[1, 2, 3], [4, 5, 6]])  # Aqui, temos números organizados em linhas e colunas, como uma tabela do Excel!\n",
    "print(\"\\n2D array:\\n\", array2d )  # Exibe a matriz 2D (com linhas e colunas)"
   ],
   "id": "a05f744a9bc391c5",
   "outputs": [
    {
     "name": "stdout",
     "output_type": "stream",
     "text": [
      "\n",
      "2D array:\n",
      " [[1 2 3]\n",
      " [4 5 6]]\n"
     ]
    }
   ],
   "execution_count": 5
  },
  {
   "metadata": {},
   "cell_type": "markdown",
   "source": "# Criando arrays especiais com NumPy",
   "id": "c09a5a13c959ad07"
  },
  {
   "metadata": {
    "ExecuteTime": {
     "end_time": "2025-04-03T00:23:53.158453Z",
     "start_time": "2025-04-02T23:04:18.237817Z"
    }
   },
   "cell_type": "code",
   "source": [
    "\n",
    "zeros = np.zeros((5, 4)) # Criando um array de zeros com 5 linhas e 4 colunas\n",
    "print(f'''Zeros\n",
    "{zeros} ''')  # Exibe a matriz 3x4 preenchida com zeros"
   ],
   "id": "c41b514febf8f29e",
   "outputs": [
    {
     "name": "stdout",
     "output_type": "stream",
     "text": [
      "Zeros\n",
      "[[0. 0. 0. 0.]\n",
      " [0. 0. 0. 0.]\n",
      " [0. 0. 0. 0.]\n",
      " [0. 0. 0. 0.]\n",
      " [0. 0. 0. 0.]] \n"
     ]
    }
   ],
   "execution_count": 21
  },
  {
   "metadata": {
    "ExecuteTime": {
     "end_time": "2025-04-03T00:23:53.158453Z",
     "start_time": "2025-04-02T23:42:10.531774Z"
    }
   },
   "cell_type": "code",
   "source": [
    "# Criando um array tridimensional (3D) preenchido com uns, de tamanho 2x2x2\n",
    "ones = np.ones((3, 3, 3))\n",
    "print(\"\\nOnes 3D:\\n\", ones)  # Exibe o array 3D preenchido com uns"
   ],
   "id": "bacb24eddd496f2f",
   "outputs": [
    {
     "name": "stdout",
     "output_type": "stream",
     "text": [
      "\n",
      "Ones 3D:\n",
      " [[[1. 1. 1.]\n",
      "  [1. 1. 1.]\n",
      "  [1. 1. 1.]]\n",
      "\n",
      " [[1. 1. 1.]\n",
      "  [1. 1. 1.]\n",
      "  [1. 1. 1.]]\n",
      "\n",
      " [[1. 1. 1.]\n",
      "  [1. 1. 1.]\n",
      "  [1. 1. 1.]]]\n"
     ]
    }
   ],
   "execution_count": 31
  },
  {
   "metadata": {
    "ExecuteTime": {
     "end_time": "2025-04-03T00:24:03.037090Z",
     "start_time": "2025-04-03T00:24:03.032032Z"
    }
   },
   "cell_type": "code",
   "source": [
    "# Também podemos criar um aray com valores específicos.\n",
    "# O primeiro parâmetro  representa o tamanho do array (quantos elementos ele terá).\n",
    "#  segundo parâmetro é o valor que será preenchido em todos os elementos.\n",
    "\n",
    "a = np.full(10, 3)\n",
    "print(a)"
   ],
   "id": "48cc33f15629bc9d",
   "outputs": [
    {
     "name": "stdout",
     "output_type": "stream",
     "text": [
      "[3 3 3 3 3 3 3 3 3 3]\n"
     ]
    }
   ],
   "execution_count": 5
  },
  {
   "metadata": {
    "ExecuteTime": {
     "end_time": "2025-04-03T00:23:53.158453Z",
     "start_time": "2025-04-02T23:37:49.574328Z"
    }
   },
   "cell_type": "code",
   "source": [
    "# Criando uma matriz identidade de tamanho 3x3 (diagonal principal com 1s)\n",
    "identity = np.eye(3)\n",
    "print(\"\\nMatriz identidade:\\n\", identity)  # Exibe a matriz identidade 3x3"
   ],
   "id": "5d215c65b09bd0fb",
   "outputs": [
    {
     "name": "stdout",
     "output_type": "stream",
     "text": [
      "\n",
      "Matriz identidade:\n",
      " [[1. 0. 0.]\n",
      " [0. 1. 0.]\n",
      " [0. 0. 1.]]\n"
     ]
    }
   ],
   "execution_count": 23
  },
  {
   "metadata": {
    "ExecuteTime": {
     "end_time": "2025-04-03T00:23:53.158453Z",
     "start_time": "2025-04-02T23:37:50.995130Z"
    }
   },
   "cell_type": "code",
   "source": "",
   "id": "5e8e10ee57e1760c",
   "outputs": [],
   "execution_count": null
  },
  {
   "metadata": {
    "ExecuteTime": {
     "end_time": "2025-04-03T00:23:53.158453Z",
     "start_time": "2025-04-02T22:51:09.970072Z"
    }
   },
   "cell_type": "code",
   "source": [
    "# Criando um array com valores sequenciais de 0 a 18, com passo de 2\n",
    "range_arr = np.arange(0, 20, 2)  # Funciona como a função range(), mas retorna um array NumPy\n",
    "print(\"\\nArray com arange:\\n\", range_arr)  # Exibe os números pares de 0 a 18"
   ],
   "id": "332526fe6a6c430f",
   "outputs": [
    {
     "name": "stdout",
     "output_type": "stream",
     "text": [
      "\n",
      "Array com arange:\n",
      " [ 0  2  4  6  8 10 12 14 16 18]\n"
     ]
    }
   ],
   "execution_count": 9
  },
  {
   "cell_type": "code",
   "id": "initial_id",
   "metadata": {
    "collapsed": true,
    "ExecuteTime": {
     "end_time": "2025-04-03T00:23:53.158453Z",
     "start_time": "2025-04-02T22:51:09.990289Z"
    }
   },
   "source": [
    "# Criando um array com 5 números aleatórios entre 0 e 1\n",
    "random_arr = np.random.rand(5)\n",
    "print(\"\\nArray aleatório:\\n\", random_arr)  # Exibe um array de 5 números aleatórios"
   ],
   "outputs": [
    {
     "name": "stdout",
     "output_type": "stream",
     "text": [
      "\n",
      "Array aleatório:\n",
      " [0.25898253 0.63117184 0.70413183 0.29983043 0.78659851]\n"
     ]
    }
   ],
   "execution_count": 10
  }
 ],
 "metadata": {
  "kernelspec": {
   "display_name": "Python 3",
   "language": "python",
   "name": "python3"
  },
  "language_info": {
   "codemirror_mode": {
    "name": "ipython",
    "version": 2
   },
   "file_extension": ".py",
   "mimetype": "text/x-python",
   "name": "python",
   "nbconvert_exporter": "python",
   "pygments_lexer": "ipython2",
   "version": "2.7.6"
  }
 },
 "nbformat": 4,
 "nbformat_minor": 5
}
