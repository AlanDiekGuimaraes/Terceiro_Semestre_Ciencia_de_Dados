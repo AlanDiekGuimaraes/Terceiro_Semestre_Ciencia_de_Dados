{
 "cells": [
  {
   "cell_type": "code",
   "metadata": {
    "ExecuteTime": {
     "end_time": "2025-03-27T00:02:27.359804Z",
     "start_time": "2025-03-27T00:02:27.350032Z"
    }
   },
   "source": [
    "#!pip install duckdb --quiet"
   ],
   "outputs": [],
   "execution_count": 1
  },
  {
   "cell_type": "code",
   "metadata": {
    "ExecuteTime": {
     "end_time": "2025-03-27T00:02:27.671380Z",
     "start_time": "2025-03-27T00:02:27.359804Z"
    }
   },
   "source": [
    "from tkinter.constants import ROUND\n",
    "\n",
    "import pandas as pd\n",
    "import duckdb\n",
    "from duckdb.duckdb import SELECT"
   ],
   "outputs": [],
   "execution_count": 2
  },
  {
   "cell_type": "code",
   "metadata": {
    "ExecuteTime": {
     "end_time": "2025-03-27T00:02:27.857386Z",
     "start_time": "2025-03-27T00:02:27.840004Z"
    }
   },
   "source": [
    "dados = [\n",
    "    \n",
    "    {\"Data\": \"2021-08-08\", \"Loja\": \"A\", \"Produto\": \"Cadeira\", \"Categoria\": \"Moveis\", \"Unidades\": 3, \"Valor\":600},\n",
    "    {\"Data\": \"2021-02-02\", \"Loja\": \"A\", \"Produto\": \"Notebook\", \"Categoria\": \"Eletronico\", \"Unidades\": 1, \"Valor\":4000},\n",
    "    {\"Data\": \"2021-02-02\", \"Loja\": \"B\", \"Produto\": \"Cadeira\", \"Categoria\": \"Moveis\", \"Unidades\": 1, \"Valor\":300},\n",
    "    {\"Data\": \"2021-03-03\", \"Loja\": \"B\", \"Produto\": \"Cadeira\", \"Categoria\": \"Moveis\", \"Unidades\": 4, \"Valor\":650},\n",
    "    {\"Data\": \"2021-02-02\", \"Loja\": \"B\", \"Produto\": \"Mesa\", \"Categoria\": \"Moveis\", \"Unidades\": 1, \"Valor\":200},\n",
    "    {\"Data\": \"2021-04-04\", \"Loja\": \"B\", \"Produto\": \"Mesa\", \"Categoria\": \"Moveis\", \"Unidades\": 2, \"Valor\":400},\n",
    "    {\"Data\": \"2021-01-02\", \"Loja\": \"C\", \"Produto\": \"Notebook\", \"Categoria\": \"Eletronico\", \"Unidades\": 2, \"Valor\":4500},\n",
    "    {\"Data\": \"2021-01-02\", \"Loja\": \"C\", \"Produto\": \"Smartphone\", \"Categoria\": \"Eletronico\", \"Unidades\": 2, \"Valor\":2000},\n",
    "    {\"Data\": \"2021-05-05\", \"Loja\": \"C\", \"Produto\": \"Notebook\", \"Categoria\": \"Eletronico\", \"Unidades\": 1, \"Valor\":5000}\n",
    "]\n",
    "\n",
    "df = pd.DataFrame(dados)\n",
    "\n",
    "display(df)"
   ],
   "outputs": [
    {
     "data": {
      "text/plain": [
       "         Data Loja     Produto   Categoria  Unidades  Valor\n",
       "0  2021-08-08    A     Cadeira      Moveis         3    600\n",
       "1  2021-02-02    A    Notebook  Eletronico         1   4000\n",
       "2  2021-02-02    B     Cadeira      Moveis         1    300\n",
       "3  2021-03-03    B     Cadeira      Moveis         4    650\n",
       "4  2021-02-02    B        Mesa      Moveis         1    200\n",
       "5  2021-04-04    B        Mesa      Moveis         2    400\n",
       "6  2021-01-02    C    Notebook  Eletronico         2   4500\n",
       "7  2021-01-02    C  Smartphone  Eletronico         2   2000\n",
       "8  2021-05-05    C    Notebook  Eletronico         1   5000"
      ],
      "text/html": [
       "<div>\n",
       "<style scoped>\n",
       "    .dataframe tbody tr th:only-of-type {\n",
       "        vertical-align: middle;\n",
       "    }\n",
       "\n",
       "    .dataframe tbody tr th {\n",
       "        vertical-align: top;\n",
       "    }\n",
       "\n",
       "    .dataframe thead th {\n",
       "        text-align: right;\n",
       "    }\n",
       "</style>\n",
       "<table border=\"1\" class=\"dataframe\">\n",
       "  <thead>\n",
       "    <tr style=\"text-align: right;\">\n",
       "      <th></th>\n",
       "      <th>Data</th>\n",
       "      <th>Loja</th>\n",
       "      <th>Produto</th>\n",
       "      <th>Categoria</th>\n",
       "      <th>Unidades</th>\n",
       "      <th>Valor</th>\n",
       "    </tr>\n",
       "  </thead>\n",
       "  <tbody>\n",
       "    <tr>\n",
       "      <th>0</th>\n",
       "      <td>2021-08-08</td>\n",
       "      <td>A</td>\n",
       "      <td>Cadeira</td>\n",
       "      <td>Moveis</td>\n",
       "      <td>3</td>\n",
       "      <td>600</td>\n",
       "    </tr>\n",
       "    <tr>\n",
       "      <th>1</th>\n",
       "      <td>2021-02-02</td>\n",
       "      <td>A</td>\n",
       "      <td>Notebook</td>\n",
       "      <td>Eletronico</td>\n",
       "      <td>1</td>\n",
       "      <td>4000</td>\n",
       "    </tr>\n",
       "    <tr>\n",
       "      <th>2</th>\n",
       "      <td>2021-02-02</td>\n",
       "      <td>B</td>\n",
       "      <td>Cadeira</td>\n",
       "      <td>Moveis</td>\n",
       "      <td>1</td>\n",
       "      <td>300</td>\n",
       "    </tr>\n",
       "    <tr>\n",
       "      <th>3</th>\n",
       "      <td>2021-03-03</td>\n",
       "      <td>B</td>\n",
       "      <td>Cadeira</td>\n",
       "      <td>Moveis</td>\n",
       "      <td>4</td>\n",
       "      <td>650</td>\n",
       "    </tr>\n",
       "    <tr>\n",
       "      <th>4</th>\n",
       "      <td>2021-02-02</td>\n",
       "      <td>B</td>\n",
       "      <td>Mesa</td>\n",
       "      <td>Moveis</td>\n",
       "      <td>1</td>\n",
       "      <td>200</td>\n",
       "    </tr>\n",
       "    <tr>\n",
       "      <th>5</th>\n",
       "      <td>2021-04-04</td>\n",
       "      <td>B</td>\n",
       "      <td>Mesa</td>\n",
       "      <td>Moveis</td>\n",
       "      <td>2</td>\n",
       "      <td>400</td>\n",
       "    </tr>\n",
       "    <tr>\n",
       "      <th>6</th>\n",
       "      <td>2021-01-02</td>\n",
       "      <td>C</td>\n",
       "      <td>Notebook</td>\n",
       "      <td>Eletronico</td>\n",
       "      <td>2</td>\n",
       "      <td>4500</td>\n",
       "    </tr>\n",
       "    <tr>\n",
       "      <th>7</th>\n",
       "      <td>2021-01-02</td>\n",
       "      <td>C</td>\n",
       "      <td>Smartphone</td>\n",
       "      <td>Eletronico</td>\n",
       "      <td>2</td>\n",
       "      <td>2000</td>\n",
       "    </tr>\n",
       "    <tr>\n",
       "      <th>8</th>\n",
       "      <td>2021-05-05</td>\n",
       "      <td>C</td>\n",
       "      <td>Notebook</td>\n",
       "      <td>Eletronico</td>\n",
       "      <td>1</td>\n",
       "      <td>5000</td>\n",
       "    </tr>\n",
       "  </tbody>\n",
       "</table>\n",
       "</div>"
      ]
     },
     "metadata": {},
     "output_type": "display_data"
    }
   ],
   "execution_count": 3
  },
  {
   "cell_type": "code",
   "metadata": {
    "ExecuteTime": {
     "end_time": "2025-03-27T00:02:27.882557Z",
     "start_time": "2025-03-27T00:02:27.873408Z"
    }
   },
   "source": [
    "vendas_por_produto = df.groupby(\"Produto\")[\"Valor\"].sum()\n",
    "display(vendas_por_produto)\n",
    "\n",
    "vendas_por_loja = df.groupby(\"Loja\")[\"Valor\"].sum()\n",
    "display(vendas_por_loja)"
   ],
   "outputs": [
    {
     "data": {
      "text/plain": [
       "Produto\n",
       "Cadeira        1550\n",
       "Mesa            600\n",
       "Notebook      13500\n",
       "Smartphone     2000\n",
       "Name: Valor, dtype: int64"
      ]
     },
     "metadata": {},
     "output_type": "display_data"
    },
    {
     "data": {
      "text/plain": [
       "Loja\n",
       "A     4600\n",
       "B     1550\n",
       "C    11500\n",
       "Name: Valor, dtype: int64"
      ]
     },
     "metadata": {},
     "output_type": "display_data"
    }
   ],
   "execution_count": 4
  },
  {
   "cell_type": "code",
   "metadata": {
    "ExecuteTime": {
     "end_time": "2025-03-27T00:02:27.988595Z",
     "start_time": "2025-03-27T00:02:27.968482Z"
    }
   },
   "source": [
    "vendas_por_produtoLoja = df.groupby([\"Produto\", \"Loja\"])[\"Valor\"].sum()\n",
    "display(vendas_por_produtoLoja)"
   ],
   "outputs": [
    {
     "data": {
      "text/plain": [
       "Produto     Loja\n",
       "Cadeira     A        600\n",
       "            B        950\n",
       "Mesa        B        600\n",
       "Notebook    A       4000\n",
       "            C       9500\n",
       "Smartphone  C       2000\n",
       "Name: Valor, dtype: int64"
      ]
     },
     "metadata": {},
     "output_type": "display_data"
    }
   ],
   "execution_count": 5
  },
  {
   "cell_type": "code",
   "metadata": {
    "ExecuteTime": {
     "end_time": "2025-03-27T00:02:28.069718Z",
     "start_time": "2025-03-27T00:02:28.052702Z"
    }
   },
   "source": [
    "display(vendas_por_produtoLoja.unstack())"
   ],
   "outputs": [
    {
     "data": {
      "text/plain": [
       "Loja             A      B       C\n",
       "Produto                          \n",
       "Cadeira      600.0  950.0     NaN\n",
       "Mesa           NaN  600.0     NaN\n",
       "Notebook    4000.0    NaN  9500.0\n",
       "Smartphone     NaN    NaN  2000.0"
      ],
      "text/html": [
       "<div>\n",
       "<style scoped>\n",
       "    .dataframe tbody tr th:only-of-type {\n",
       "        vertical-align: middle;\n",
       "    }\n",
       "\n",
       "    .dataframe tbody tr th {\n",
       "        vertical-align: top;\n",
       "    }\n",
       "\n",
       "    .dataframe thead th {\n",
       "        text-align: right;\n",
       "    }\n",
       "</style>\n",
       "<table border=\"1\" class=\"dataframe\">\n",
       "  <thead>\n",
       "    <tr style=\"text-align: right;\">\n",
       "      <th>Loja</th>\n",
       "      <th>A</th>\n",
       "      <th>B</th>\n",
       "      <th>C</th>\n",
       "    </tr>\n",
       "    <tr>\n",
       "      <th>Produto</th>\n",
       "      <th></th>\n",
       "      <th></th>\n",
       "      <th></th>\n",
       "    </tr>\n",
       "  </thead>\n",
       "  <tbody>\n",
       "    <tr>\n",
       "      <th>Cadeira</th>\n",
       "      <td>600.0</td>\n",
       "      <td>950.0</td>\n",
       "      <td>NaN</td>\n",
       "    </tr>\n",
       "    <tr>\n",
       "      <th>Mesa</th>\n",
       "      <td>NaN</td>\n",
       "      <td>600.0</td>\n",
       "      <td>NaN</td>\n",
       "    </tr>\n",
       "    <tr>\n",
       "      <th>Notebook</th>\n",
       "      <td>4000.0</td>\n",
       "      <td>NaN</td>\n",
       "      <td>9500.0</td>\n",
       "    </tr>\n",
       "    <tr>\n",
       "      <th>Smartphone</th>\n",
       "      <td>NaN</td>\n",
       "      <td>NaN</td>\n",
       "      <td>2000.0</td>\n",
       "    </tr>\n",
       "  </tbody>\n",
       "</table>\n",
       "</div>"
      ]
     },
     "metadata": {},
     "output_type": "display_data"
    }
   ],
   "execution_count": 6
  },
  {
   "cell_type": "code",
   "metadata": {
    "ExecuteTime": {
     "end_time": "2025-03-27T00:02:28.097090Z",
     "start_time": "2025-03-27T00:02:28.084215Z"
    }
   },
   "source": [
    "df[\"Data\"] = pd.to_datetime(df[\"Data\"])"
   ],
   "outputs": [],
   "execution_count": 7
  },
  {
   "cell_type": "code",
   "metadata": {
    "ExecuteTime": {
     "end_time": "2025-03-27T00:02:28.170952Z",
     "start_time": "2025-03-27T00:02:28.159479Z"
    }
   },
   "source": [
    "df[\"Ano\"] = df[\"Data\"].dt.year\n",
    "df[\"Mes\"] = df[\"Data\"].dt.month"
   ],
   "outputs": [],
   "execution_count": 8
  },
  {
   "cell_type": "code",
   "metadata": {
    "ExecuteTime": {
     "end_time": "2025-03-27T00:02:28.263490Z",
     "start_time": "2025-03-27T00:02:28.254405Z"
    }
   },
   "source": [
    "df.groupby(\"Mes\")[\"Valor\"].sum()"
   ],
   "outputs": [
    {
     "data": {
      "text/plain": [
       "Mes\n",
       "1    6500\n",
       "2    4500\n",
       "3     650\n",
       "4     400\n",
       "5    5000\n",
       "8     600\n",
       "Name: Valor, dtype: int64"
      ]
     },
     "execution_count": 9,
     "metadata": {},
     "output_type": "execute_result"
    }
   ],
   "execution_count": 9
  },
  {
   "cell_type": "code",
   "metadata": {
    "ExecuteTime": {
     "end_time": "2025-03-27T00:02:28.362137Z",
     "start_time": "2025-03-27T00:02:28.352001Z"
    }
   },
   "source": [
    "display(df.groupby([\"Data\", \"Loja\"])[\"Valor\"].sum().unstack())"
   ],
   "outputs": [
    {
     "data": {
      "text/plain": [
       "Loja             A      B       C\n",
       "Data                             \n",
       "2021-01-02     NaN    NaN  6500.0\n",
       "2021-02-02  4000.0  500.0     NaN\n",
       "2021-03-03     NaN  650.0     NaN\n",
       "2021-04-04     NaN  400.0     NaN\n",
       "2021-05-05     NaN    NaN  5000.0\n",
       "2021-08-08   600.0    NaN     NaN"
      ],
      "text/html": [
       "<div>\n",
       "<style scoped>\n",
       "    .dataframe tbody tr th:only-of-type {\n",
       "        vertical-align: middle;\n",
       "    }\n",
       "\n",
       "    .dataframe tbody tr th {\n",
       "        vertical-align: top;\n",
       "    }\n",
       "\n",
       "    .dataframe thead th {\n",
       "        text-align: right;\n",
       "    }\n",
       "</style>\n",
       "<table border=\"1\" class=\"dataframe\">\n",
       "  <thead>\n",
       "    <tr style=\"text-align: right;\">\n",
       "      <th>Loja</th>\n",
       "      <th>A</th>\n",
       "      <th>B</th>\n",
       "      <th>C</th>\n",
       "    </tr>\n",
       "    <tr>\n",
       "      <th>Data</th>\n",
       "      <th></th>\n",
       "      <th></th>\n",
       "      <th></th>\n",
       "    </tr>\n",
       "  </thead>\n",
       "  <tbody>\n",
       "    <tr>\n",
       "      <th>2021-01-02</th>\n",
       "      <td>NaN</td>\n",
       "      <td>NaN</td>\n",
       "      <td>6500.0</td>\n",
       "    </tr>\n",
       "    <tr>\n",
       "      <th>2021-02-02</th>\n",
       "      <td>4000.0</td>\n",
       "      <td>500.0</td>\n",
       "      <td>NaN</td>\n",
       "    </tr>\n",
       "    <tr>\n",
       "      <th>2021-03-03</th>\n",
       "      <td>NaN</td>\n",
       "      <td>650.0</td>\n",
       "      <td>NaN</td>\n",
       "    </tr>\n",
       "    <tr>\n",
       "      <th>2021-04-04</th>\n",
       "      <td>NaN</td>\n",
       "      <td>400.0</td>\n",
       "      <td>NaN</td>\n",
       "    </tr>\n",
       "    <tr>\n",
       "      <th>2021-05-05</th>\n",
       "      <td>NaN</td>\n",
       "      <td>NaN</td>\n",
       "      <td>5000.0</td>\n",
       "    </tr>\n",
       "    <tr>\n",
       "      <th>2021-08-08</th>\n",
       "      <td>600.0</td>\n",
       "      <td>NaN</td>\n",
       "      <td>NaN</td>\n",
       "    </tr>\n",
       "  </tbody>\n",
       "</table>\n",
       "</div>"
      ]
     },
     "metadata": {},
     "output_type": "display_data"
    }
   ],
   "execution_count": 10
  },
  {
   "cell_type": "code",
   "metadata": {
    "ExecuteTime": {
     "end_time": "2025-03-27T00:02:28.422232Z",
     "start_time": "2025-03-27T00:02:28.412686Z"
    }
   },
   "source": [
    "pd.pivot_table(df, values=\"Valor\", index=\"Loja\", \n",
    "               columns=\"Produto\", aggfunc=\"sum\", fill_value=0)"
   ],
   "outputs": [
    {
     "data": {
      "text/plain": [
       "Produto  Cadeira  Mesa  Notebook  Smartphone\n",
       "Loja                                        \n",
       "A            600     0      4000           0\n",
       "B            950   600         0           0\n",
       "C              0     0      9500        2000"
      ],
      "text/html": [
       "<div>\n",
       "<style scoped>\n",
       "    .dataframe tbody tr th:only-of-type {\n",
       "        vertical-align: middle;\n",
       "    }\n",
       "\n",
       "    .dataframe tbody tr th {\n",
       "        vertical-align: top;\n",
       "    }\n",
       "\n",
       "    .dataframe thead th {\n",
       "        text-align: right;\n",
       "    }\n",
       "</style>\n",
       "<table border=\"1\" class=\"dataframe\">\n",
       "  <thead>\n",
       "    <tr style=\"text-align: right;\">\n",
       "      <th>Produto</th>\n",
       "      <th>Cadeira</th>\n",
       "      <th>Mesa</th>\n",
       "      <th>Notebook</th>\n",
       "      <th>Smartphone</th>\n",
       "    </tr>\n",
       "    <tr>\n",
       "      <th>Loja</th>\n",
       "      <th></th>\n",
       "      <th></th>\n",
       "      <th></th>\n",
       "      <th></th>\n",
       "    </tr>\n",
       "  </thead>\n",
       "  <tbody>\n",
       "    <tr>\n",
       "      <th>A</th>\n",
       "      <td>600</td>\n",
       "      <td>0</td>\n",
       "      <td>4000</td>\n",
       "      <td>0</td>\n",
       "    </tr>\n",
       "    <tr>\n",
       "      <th>B</th>\n",
       "      <td>950</td>\n",
       "      <td>600</td>\n",
       "      <td>0</td>\n",
       "      <td>0</td>\n",
       "    </tr>\n",
       "    <tr>\n",
       "      <th>C</th>\n",
       "      <td>0</td>\n",
       "      <td>0</td>\n",
       "      <td>9500</td>\n",
       "      <td>2000</td>\n",
       "    </tr>\n",
       "  </tbody>\n",
       "</table>\n",
       "</div>"
      ]
     },
     "execution_count": 11,
     "metadata": {},
     "output_type": "execute_result"
    }
   ],
   "execution_count": 11
  },
  {
   "cell_type": "code",
   "metadata": {
    "ExecuteTime": {
     "end_time": "2025-03-27T00:23:52.853338Z",
     "start_time": "2025-03-27T00:23:52.824969Z"
    }
   },
   "source": [
    "dim_customer = pd.DataFrame({\n",
    "    \"customer_id\": [1, 2, 3],\n",
    "    \"Genero\": [\"M\", \"F\", \"F\"],\n",
    "    \"Escolaridade\": [\"graduado\", \"mestre\", \"doutor\"]\n",
    "})\n",
    "\n",
    "dim_tempo = pd.DataFrame({\n",
    "    \"tempo_id\": [202306, 202307],\n",
    "    \"Mes\": [\"Junho\", \"Julho\"],\n",
    "    \"Ano\": [2023, 2023]\n",
    "})\n",
    "\n",
    "fatos = pd.DataFrame({\n",
    "    \"customer_id\": [1, 2, 1, 3, 2, 3],\n",
    "    \"tempo_id\": [202306, 202306, 20206, 202307, 202307, 202307],\n",
    "    \"valorDaVenda\": [1000, 2000, 1324, 49204, 2931, 100000]\n",
    "})\n",
    "\n",
    "duckdb.register(\"fatos\", fatos)\n",
    "duckdb.register(\"tempo\", dim_tempo)\n",
    "duckdb.register(\"dim_customer\", dim_customer)\n",
    "\n",
    "duckdb.query(\"\"\"\n",
    "SELECT\n",
    "    c.Escolaridade,\n",
    "    t.Mes,\n",
    "\n",
    "    ROUND(AVG(f.valordavenda), 2) AS media,\n",
    "    SUM(f.valordavenda) as soma\n",
    "FROM fatos f\n",
    "JOIN dim_customer c ON f.customer_id = c.customer_id\n",
    "JOIN dim_tempo t ON f.tempo_id = t.tempo_id\n",
    "GROUP BY CUBE (c.Escolaridade, t.Mes)\n",
    "ORDER BY c.Escolaridade NULLS LAST, t.Mes NULLS LAST\n",
    "\"\"\").df()"
   ],
   "outputs": [
    {
     "data": {
      "text/plain": [
       "  Escolaridade    Mes     media      soma\n",
       "0       doutor  Julho  74602.00  149204.0\n",
       "1       doutor   None  74602.00  149204.0\n",
       "2     graduado  Junho   1000.00    1000.0\n",
       "3     graduado   None   1000.00    1000.0\n",
       "4       mestre  Julho   2931.00    2931.0\n",
       "5       mestre  Junho   2000.00    2000.0\n",
       "6       mestre   None   2465.50    4931.0\n",
       "7         None  Julho  50711.67  152135.0\n",
       "8         None  Junho   1500.00    3000.0\n",
       "9         None   None  31027.00  155135.0"
      ],
      "text/html": [
       "<div>\n",
       "<style scoped>\n",
       "    .dataframe tbody tr th:only-of-type {\n",
       "        vertical-align: middle;\n",
       "    }\n",
       "\n",
       "    .dataframe tbody tr th {\n",
       "        vertical-align: top;\n",
       "    }\n",
       "\n",
       "    .dataframe thead th {\n",
       "        text-align: right;\n",
       "    }\n",
       "</style>\n",
       "<table border=\"1\" class=\"dataframe\">\n",
       "  <thead>\n",
       "    <tr style=\"text-align: right;\">\n",
       "      <th></th>\n",
       "      <th>Escolaridade</th>\n",
       "      <th>Mes</th>\n",
       "      <th>media</th>\n",
       "      <th>soma</th>\n",
       "    </tr>\n",
       "  </thead>\n",
       "  <tbody>\n",
       "    <tr>\n",
       "      <th>0</th>\n",
       "      <td>doutor</td>\n",
       "      <td>Julho</td>\n",
       "      <td>74602.00</td>\n",
       "      <td>149204.0</td>\n",
       "    </tr>\n",
       "    <tr>\n",
       "      <th>1</th>\n",
       "      <td>doutor</td>\n",
       "      <td>None</td>\n",
       "      <td>74602.00</td>\n",
       "      <td>149204.0</td>\n",
       "    </tr>\n",
       "    <tr>\n",
       "      <th>2</th>\n",
       "      <td>graduado</td>\n",
       "      <td>Junho</td>\n",
       "      <td>1000.00</td>\n",
       "      <td>1000.0</td>\n",
       "    </tr>\n",
       "    <tr>\n",
       "      <th>3</th>\n",
       "      <td>graduado</td>\n",
       "      <td>None</td>\n",
       "      <td>1000.00</td>\n",
       "      <td>1000.0</td>\n",
       "    </tr>\n",
       "    <tr>\n",
       "      <th>4</th>\n",
       "      <td>mestre</td>\n",
       "      <td>Julho</td>\n",
       "      <td>2931.00</td>\n",
       "      <td>2931.0</td>\n",
       "    </tr>\n",
       "    <tr>\n",
       "      <th>5</th>\n",
       "      <td>mestre</td>\n",
       "      <td>Junho</td>\n",
       "      <td>2000.00</td>\n",
       "      <td>2000.0</td>\n",
       "    </tr>\n",
       "    <tr>\n",
       "      <th>6</th>\n",
       "      <td>mestre</td>\n",
       "      <td>None</td>\n",
       "      <td>2465.50</td>\n",
       "      <td>4931.0</td>\n",
       "    </tr>\n",
       "    <tr>\n",
       "      <th>7</th>\n",
       "      <td>None</td>\n",
       "      <td>Julho</td>\n",
       "      <td>50711.67</td>\n",
       "      <td>152135.0</td>\n",
       "    </tr>\n",
       "    <tr>\n",
       "      <th>8</th>\n",
       "      <td>None</td>\n",
       "      <td>Junho</td>\n",
       "      <td>1500.00</td>\n",
       "      <td>3000.0</td>\n",
       "    </tr>\n",
       "    <tr>\n",
       "      <th>9</th>\n",
       "      <td>None</td>\n",
       "      <td>None</td>\n",
       "      <td>31027.00</td>\n",
       "      <td>155135.0</td>\n",
       "    </tr>\n",
       "  </tbody>\n",
       "</table>\n",
       "</div>"
      ]
     },
     "execution_count": 35,
     "metadata": {},
     "output_type": "execute_result"
    }
   ],
   "execution_count": 35
  }
 ],
 "metadata": {
  "kernelspec": {
   "display_name": "Python 3",
   "language": "python",
   "name": "python3"
  },
  "language_info": {
   "codemirror_mode": {
    "name": "ipython",
    "version": 3
   },
   "file_extension": ".py",
   "mimetype": "text/x-python",
   "name": "python",
   "nbconvert_exporter": "python",
   "pygments_lexer": "ipython3",
   "version": "3.12.9"
  }
 },
 "nbformat": 4,
 "nbformat_minor": 2
}
