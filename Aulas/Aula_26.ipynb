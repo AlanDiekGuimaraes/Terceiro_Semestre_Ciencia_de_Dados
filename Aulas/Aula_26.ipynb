{
 "nbformat": 4,
 "nbformat_minor": 0,
 "metadata": {
  "colab": {
   "provenance": []
  },
  "kernelspec": {
   "name": "python3",
   "display_name": "Python 3 (ipykernel)",
   "language": "python"
  },
  "language_info": {
   "name": "python"
  }
 },
 "cells": [
  {
   "cell_type": "code",
   "metadata": {
    "id": "pmbMHFlLCq9D",
    "ExecuteTime": {
     "end_time": "2025-03-11T00:17:36.709075Z",
     "start_time": "2025-03-11T00:17:36.692476Z"
    }
   },
   "source": [
    "import pandas as pd\n",
    "import numpy as np\n",
    "import seaborn as sns\n",
    "import statsmodels.api as sm\n",
    "import matplotlib.pyplot as plt"
   ],
   "outputs": [],
   "execution_count": 85
  },
  {
   "cell_type": "code",
   "source": [
    "df_tips = sns.load_dataset('tips')\n",
    "\n",
    "df_tips.info()"
   ],
   "metadata": {
    "colab": {
     "base_uri": "https://localhost:8080/"
    },
    "id": "1C7sVQ-5DAlb",
    "outputId": "dc630c92-8384-415e-a088-8021a3d8e8fb",
    "ExecuteTime": {
     "end_time": "2025-03-11T00:17:36.736200Z",
     "start_time": "2025-03-11T00:17:36.724205Z"
    }
   },
   "outputs": [
    {
     "name": "stdout",
     "output_type": "stream",
     "text": [
      "<class 'pandas.core.frame.DataFrame'>\n",
      "RangeIndex: 244 entries, 0 to 243\n",
      "Data columns (total 7 columns):\n",
      " #   Column      Non-Null Count  Dtype   \n",
      "---  ------      --------------  -----   \n",
      " 0   total_bill  244 non-null    float64 \n",
      " 1   tip         244 non-null    float64 \n",
      " 2   sex         244 non-null    category\n",
      " 3   smoker      244 non-null    category\n",
      " 4   day         244 non-null    category\n",
      " 5   time        244 non-null    category\n",
      " 6   size        244 non-null    int64   \n",
      "dtypes: category(4), float64(2), int64(1)\n",
      "memory usage: 7.4 KB\n"
     ]
    }
   ],
   "execution_count": 86
  },
  {
   "cell_type": "code",
   "source": [
    "x = df_tips['total_bill']\n",
    "\n",
    "y = df_tips['tip']\n",
    "\n",
    "print(x)\n",
    "print(y)"
   ],
   "metadata": {
    "colab": {
     "base_uri": "https://localhost:8080/"
    },
    "id": "k4nbLSMvDnDn",
    "outputId": "71374907-13ba-4bb2-b374-11c296ef31e9",
    "ExecuteTime": {
     "end_time": "2025-03-11T00:17:36.765082Z",
     "start_time": "2025-03-11T00:17:36.746726Z"
    }
   },
   "outputs": [
    {
     "name": "stdout",
     "output_type": "stream",
     "text": [
      "0      16.99\n",
      "1      10.34\n",
      "2      21.01\n",
      "3      23.68\n",
      "4      24.59\n",
      "       ...  \n",
      "239    29.03\n",
      "240    27.18\n",
      "241    22.67\n",
      "242    17.82\n",
      "243    18.78\n",
      "Name: total_bill, Length: 244, dtype: float64\n",
      "0      1.01\n",
      "1      1.66\n",
      "2      3.50\n",
      "3      3.31\n",
      "4      3.61\n",
      "       ... \n",
      "239    5.92\n",
      "240    2.00\n",
      "241    2.00\n",
      "242    1.75\n",
      "243    3.00\n",
      "Name: tip, Length: 244, dtype: float64\n"
     ]
    }
   ],
   "execution_count": 87
  },
  {
   "cell_type": "code",
   "source": [
    "x = sm.add_constant(x)\n",
    "\n",
    "model = sm.OLS(y, x).fit()\n",
    "model.summary()"
   ],
   "metadata": {
    "colab": {
     "base_uri": "https://localhost:8080/",
     "height": 444
    },
    "id": "R0yH-R1FEHif",
    "outputId": "010871d0-cbde-4a82-a912-8c5122f01df0",
    "ExecuteTime": {
     "end_time": "2025-03-11T00:17:36.792412Z",
     "start_time": "2025-03-11T00:17:36.775629Z"
    }
   },
   "outputs": [
    {
     "data": {
      "text/plain": [
       "<class 'statsmodels.iolib.summary.Summary'>\n",
       "\"\"\"\n",
       "                            OLS Regression Results                            \n",
       "==============================================================================\n",
       "Dep. Variable:                    tip   R-squared:                       0.457\n",
       "Model:                            OLS   Adj. R-squared:                  0.454\n",
       "Method:                 Least Squares   F-statistic:                     203.4\n",
       "Date:                Mon, 10 Mar 2025   Prob (F-statistic):           6.69e-34\n",
       "Time:                        21:17:36   Log-Likelihood:                -350.54\n",
       "No. Observations:                 244   AIC:                             705.1\n",
       "Df Residuals:                     242   BIC:                             712.1\n",
       "Df Model:                           1                                         \n",
       "Covariance Type:            nonrobust                                         \n",
       "==============================================================================\n",
       "                 coef    std err          t      P>|t|      [0.025      0.975]\n",
       "------------------------------------------------------------------------------\n",
       "const          0.9203      0.160      5.761      0.000       0.606       1.235\n",
       "total_bill     0.1050      0.007     14.260      0.000       0.091       0.120\n",
       "==============================================================================\n",
       "Omnibus:                       20.185   Durbin-Watson:                   2.151\n",
       "Prob(Omnibus):                  0.000   Jarque-Bera (JB):               37.750\n",
       "Skew:                           0.443   Prob(JB):                     6.35e-09\n",
       "Kurtosis:                       4.711   Cond. No.                         53.0\n",
       "==============================================================================\n",
       "\n",
       "Notes:\n",
       "[1] Standard Errors assume that the covariance matrix of the errors is correctly specified.\n",
       "\"\"\""
      ],
      "text/html": [
       "<table class=\"simpletable\">\n",
       "<caption>OLS Regression Results</caption>\n",
       "<tr>\n",
       "  <th>Dep. Variable:</th>           <td>tip</td>       <th>  R-squared:         </th> <td>   0.457</td>\n",
       "</tr>\n",
       "<tr>\n",
       "  <th>Model:</th>                   <td>OLS</td>       <th>  Adj. R-squared:    </th> <td>   0.454</td>\n",
       "</tr>\n",
       "<tr>\n",
       "  <th>Method:</th>             <td>Least Squares</td>  <th>  F-statistic:       </th> <td>   203.4</td>\n",
       "</tr>\n",
       "<tr>\n",
       "  <th>Date:</th>             <td>Mon, 10 Mar 2025</td> <th>  Prob (F-statistic):</th> <td>6.69e-34</td>\n",
       "</tr>\n",
       "<tr>\n",
       "  <th>Time:</th>                 <td>21:17:36</td>     <th>  Log-Likelihood:    </th> <td> -350.54</td>\n",
       "</tr>\n",
       "<tr>\n",
       "  <th>No. Observations:</th>      <td>   244</td>      <th>  AIC:               </th> <td>   705.1</td>\n",
       "</tr>\n",
       "<tr>\n",
       "  <th>Df Residuals:</th>          <td>   242</td>      <th>  BIC:               </th> <td>   712.1</td>\n",
       "</tr>\n",
       "<tr>\n",
       "  <th>Df Model:</th>              <td>     1</td>      <th>                     </th>     <td> </td>   \n",
       "</tr>\n",
       "<tr>\n",
       "  <th>Covariance Type:</th>      <td>nonrobust</td>    <th>                     </th>     <td> </td>   \n",
       "</tr>\n",
       "</table>\n",
       "<table class=\"simpletable\">\n",
       "<tr>\n",
       "       <td></td>         <th>coef</th>     <th>std err</th>      <th>t</th>      <th>P>|t|</th>  <th>[0.025</th>    <th>0.975]</th>  \n",
       "</tr>\n",
       "<tr>\n",
       "  <th>const</th>      <td>    0.9203</td> <td>    0.160</td> <td>    5.761</td> <td> 0.000</td> <td>    0.606</td> <td>    1.235</td>\n",
       "</tr>\n",
       "<tr>\n",
       "  <th>total_bill</th> <td>    0.1050</td> <td>    0.007</td> <td>   14.260</td> <td> 0.000</td> <td>    0.091</td> <td>    0.120</td>\n",
       "</tr>\n",
       "</table>\n",
       "<table class=\"simpletable\">\n",
       "<tr>\n",
       "  <th>Omnibus:</th>       <td>20.185</td> <th>  Durbin-Watson:     </th> <td>   2.151</td>\n",
       "</tr>\n",
       "<tr>\n",
       "  <th>Prob(Omnibus):</th> <td> 0.000</td> <th>  Jarque-Bera (JB):  </th> <td>  37.750</td>\n",
       "</tr>\n",
       "<tr>\n",
       "  <th>Skew:</th>          <td> 0.443</td> <th>  Prob(JB):          </th> <td>6.35e-09</td>\n",
       "</tr>\n",
       "<tr>\n",
       "  <th>Kurtosis:</th>      <td> 4.711</td> <th>  Cond. No.          </th> <td>    53.0</td>\n",
       "</tr>\n",
       "</table><br/><br/>Notes:<br/>[1] Standard Errors assume that the covariance matrix of the errors is correctly specified."
      ],
      "text/latex": "\\begin{center}\n\\begin{tabular}{lclc}\n\\toprule\n\\textbf{Dep. Variable:}    &       tip        & \\textbf{  R-squared:         } &     0.457   \\\\\n\\textbf{Model:}            &       OLS        & \\textbf{  Adj. R-squared:    } &     0.454   \\\\\n\\textbf{Method:}           &  Least Squares   & \\textbf{  F-statistic:       } &     203.4   \\\\\n\\textbf{Date:}             & Mon, 10 Mar 2025 & \\textbf{  Prob (F-statistic):} &  6.69e-34   \\\\\n\\textbf{Time:}             &     21:17:36     & \\textbf{  Log-Likelihood:    } &   -350.54   \\\\\n\\textbf{No. Observations:} &         244      & \\textbf{  AIC:               } &     705.1   \\\\\n\\textbf{Df Residuals:}     &         242      & \\textbf{  BIC:               } &     712.1   \\\\\n\\textbf{Df Model:}         &           1      & \\textbf{                     } &             \\\\\n\\textbf{Covariance Type:}  &    nonrobust     & \\textbf{                     } &             \\\\\n\\bottomrule\n\\end{tabular}\n\\begin{tabular}{lcccccc}\n                     & \\textbf{coef} & \\textbf{std err} & \\textbf{t} & \\textbf{P$> |$t$|$} & \\textbf{[0.025} & \\textbf{0.975]}  \\\\\n\\midrule\n\\textbf{const}       &       0.9203  &        0.160     &     5.761  &         0.000        &        0.606    &        1.235     \\\\\n\\textbf{total\\_bill} &       0.1050  &        0.007     &    14.260  &         0.000        &        0.091    &        0.120     \\\\\n\\bottomrule\n\\end{tabular}\n\\begin{tabular}{lclc}\n\\textbf{Omnibus:}       & 20.185 & \\textbf{  Durbin-Watson:     } &    2.151  \\\\\n\\textbf{Prob(Omnibus):} &  0.000 & \\textbf{  Jarque-Bera (JB):  } &   37.750  \\\\\n\\textbf{Skew:}          &  0.443 & \\textbf{  Prob(JB):          } & 6.35e-09  \\\\\n\\textbf{Kurtosis:}      &  4.711 & \\textbf{  Cond. No.          } &     53.0  \\\\\n\\bottomrule\n\\end{tabular}\n%\\caption{OLS Regression Results}\n\\end{center}\n\nNotes: \\newline\n [1] Standard Errors assume that the covariance matrix of the errors is correctly specified."
     },
     "execution_count": 88,
     "metadata": {},
     "output_type": "execute_result"
    }
   ],
   "execution_count": 88
  },
  {
   "cell_type": "code",
   "source": [
    "xb = df_tips[\"total_bill\"]\n",
    "\n",
    "xb[2]\n",
    "\n",
    "y[2]"
   ],
   "metadata": {
    "colab": {
     "base_uri": "https://localhost:8080/"
    },
    "id": "ZgqLl8UyIxVv",
    "outputId": "f280ef97-08c1-4cae-9c76-917dc4f91cb8",
    "ExecuteTime": {
     "end_time": "2025-03-11T00:17:36.808627Z",
     "start_time": "2025-03-11T00:17:36.804373Z"
    }
   },
   "outputs": [
    {
     "data": {
      "text/plain": [
       "np.float64(3.5)"
      ]
     },
     "execution_count": 89,
     "metadata": {},
     "output_type": "execute_result"
    }
   ],
   "execution_count": 89
  },
  {
   "cell_type": "code",
   "source": [
    "df_tips = pd.get_dummies(df_tips, columns=['sex', 'smoker', 'day', 'time'], drop_first=True)"
   ],
   "metadata": {
    "id": "P3dPbbogIylj",
    "ExecuteTime": {
     "end_time": "2025-03-11T00:17:36.838478Z",
     "start_time": "2025-03-11T00:17:36.832124Z"
    }
   },
   "outputs": [],
   "execution_count": 90
  },
  {
   "cell_type": "code",
   "source": [
    "x = df_tips[['total_bill', 'sex_Female', 'smoker_No', 'day_Fri', 'day_Sat', 'day_Sun']]\n",
    "y = df_tips['tip']\n",
    "\n",
    "x=x.astype(int)\n",
    "\n",
    "x=sm.add_constant(x)\n",
    "\n",
    "model= sm.OLS(y, x).fit()\n",
    "\n",
    "print(model.summary())"
   ],
   "metadata": {
    "colab": {
     "base_uri": "https://localhost:8080/"
    },
    "id": "M0nJa3HKKpnc",
    "outputId": "57074ff3-b467-4572-ce3f-4fc0ce707580",
    "ExecuteTime": {
     "end_time": "2025-03-11T00:17:36.860357Z",
     "start_time": "2025-03-11T00:17:36.848847Z"
    }
   },
   "outputs": [
    {
     "name": "stdout",
     "output_type": "stream",
     "text": [
      "                            OLS Regression Results                            \n",
      "==============================================================================\n",
      "Dep. Variable:                    tip   R-squared:                       0.461\n",
      "Model:                            OLS   Adj. R-squared:                  0.448\n",
      "Method:                 Least Squares   F-statistic:                     33.85\n",
      "Date:                Mon, 10 Mar 2025   Prob (F-statistic):           2.19e-29\n",
      "Time:                        21:17:36   Log-Likelihood:                -349.44\n",
      "No. Observations:                 244   AIC:                             712.9\n",
      "Df Residuals:                     237   BIC:                             737.4\n",
      "Df Model:                           6                                         \n",
      "Covariance Type:            nonrobust                                         \n",
      "==============================================================================\n",
      "                 coef    std err          t      P>|t|      [0.025      0.975]\n",
      "------------------------------------------------------------------------------\n",
      "const          0.8282      0.236      3.512      0.001       0.364       1.293\n",
      "total_bill     0.1056      0.008     13.867      0.000       0.091       0.121\n",
      "sex_Female     0.0378      0.142      0.266      0.790      -0.242       0.318\n",
      "smoker_No      0.1416      0.144      0.982      0.327      -0.142       0.426\n",
      "day_Fri        0.0912      0.280      0.326      0.745      -0.460       0.643\n",
      "day_Sat       -0.0315      0.176     -0.179      0.858      -0.379       0.316\n",
      "day_Sun        0.1050      0.182      0.577      0.564      -0.253       0.463\n",
      "==============================================================================\n",
      "Omnibus:                       24.412   Durbin-Watson:                   2.139\n",
      "Prob(Omnibus):                  0.000   Jarque-Bera (JB):               45.131\n",
      "Skew:                           0.541   Prob(JB):                     1.58e-10\n",
      "Kurtosis:                       4.807   Cond. No.                         112.\n",
      "==============================================================================\n",
      "\n",
      "Notes:\n",
      "[1] Standard Errors assume that the covariance matrix of the errors is correctly specified.\n"
     ]
    }
   ],
   "execution_count": 91
  },
  {
   "metadata": {},
   "cell_type": "markdown",
   "source": "gorgeta = 0.82 + 90* 0.1056\n"
  },
  {
   "metadata": {
    "ExecuteTime": {
     "end_time": "2025-03-11T00:17:36.880348Z",
     "start_time": "2025-03-11T00:17:36.876411Z"
    }
   },
   "cell_type": "code",
   "source": [
    "tamanho = 1000\n",
    "df = pd.DataFrame({\"x\": np.random.randint(100, 1000, size=tamanho),\n",
    "                   \"y\": np.random.poisson(lam=1.5, size=tamanho)})"
   ],
   "outputs": [],
   "execution_count": 92
  },
  {
   "metadata": {
    "ExecuteTime": {
     "end_time": "2025-03-11T00:17:36.965224Z",
     "start_time": "2025-03-11T00:17:36.901656Z"
    }
   },
   "cell_type": "code",
   "source": [
    "plt.scatter(df['x'], df['y'])\n",
    "plt.show()"
   ],
   "outputs": [
    {
     "data": {
      "text/plain": [
       "<Figure size 640x480 with 1 Axes>"
      ],
      "image/png": "[encoded data removed]"
     },
     "metadata": {},
     "output_type": "display_data"
    }
   ],
   "execution_count": 93
  },
  {
   "metadata": {
    "ExecuteTime": {
     "end_time": "2025-03-11T00:17:37.027697Z",
     "start_time": "2025-03-11T00:17:36.965224Z"
    }
   },
   "cell_type": "code",
   "source": [
    "beta0 = -2\n",
    "beta1 = 0.002\n",
    "df['lambda'] = np.exp(beta0 + beta1 * df['x'])\n",
    "\n",
    "df['y'] = np.random.poisson(lam=df['lambda'])\n",
    "\n",
    "plt.scatter(df['x'], df['y'], alpha=0.6)\n",
    "plt.show()"
   ],
   "outputs": [
    {
     "data": {
      "text/plain": [
       "<Figure size 640x480 with 1 Axes>"
      ],
      "image/png": "[encoded data removed]"
     },
     "metadata": {},
     "output_type": "display_data"
    }
   ],
   "execution_count": 94
  },
  {
   "metadata": {
    "ExecuteTime": {
     "end_time": "2025-03-11T00:17:37.046215Z",
     "start_time": "2025-03-11T00:17:37.038586Z"
    }
   },
   "cell_type": "code",
   "source": [
    "x = sm.add_constant(df['x'])\n",
    "y = df['y']\n",
    "print(x)"
   ],
   "outputs": [
    {
     "name": "stdout",
     "output_type": "stream",
     "text": [
      "     const    x\n",
      "0      1.0  185\n",
      "1      1.0  154\n",
      "2      1.0  316\n",
      "3      1.0  169\n",
      "4      1.0  700\n",
      "..     ...  ...\n",
      "995    1.0  750\n",
      "996    1.0  695\n",
      "997    1.0  142\n",
      "998    1.0  447\n",
      "999    1.0  562\n",
      "\n",
      "[1000 rows x 2 columns]\n"
     ]
    }
   ],
   "execution_count": 95
  },
  {
   "metadata": {
    "ExecuteTime": {
     "end_time": "2025-03-11T00:17:37.162960Z",
     "start_time": "2025-03-11T00:17:37.152118Z"
    }
   },
   "cell_type": "code",
   "source": [
    "model = sm.GLM(y, x, family=sm.families.Poisson()).fit()\n",
    "print(model.summary())"
   ],
   "outputs": [
    {
     "name": "stdout",
     "output_type": "stream",
     "text": [
      "                 Generalized Linear Model Regression Results                  \n",
      "==============================================================================\n",
      "Dep. Variable:                      y   No. Observations:                 1000\n",
      "Model:                            GLM   Df Residuals:                      998\n",
      "Model Family:                 Poisson   Df Model:                            1\n",
      "Link Function:                    Log   Scale:                          1.0000\n",
      "Method:                          IRLS   Log-Likelihood:                -875.12\n",
      "Date:                Mon, 10 Mar 2025   Deviance:                       948.01\n",
      "Time:                        21:17:37   Pearson chi2:                     997.\n",
      "No. Iterations:                     5   Pseudo R-squ. (CS):            0.08360\n",
      "Covariance Type:            nonrobust                                         \n",
      "==============================================================================\n",
      "                 coef    std err          z      P>|z|      [0.025      0.975]\n",
      "------------------------------------------------------------------------------\n",
      "const         -1.7460      0.129    -13.487      0.000      -2.000      -1.492\n",
      "x              0.0017      0.000      9.119      0.000       0.001       0.002\n",
      "==============================================================================\n"
     ]
    }
   ],
   "execution_count": 96
  },
  {
   "metadata": {
    "ExecuteTime": {
     "end_time": "2025-03-11T00:27:49.056907Z",
     "start_time": "2025-03-11T00:27:49.027018Z"
    }
   },
   "cell_type": "code",
   "source": [
    "tamanho = 1000\n",
    "df = pd.DataFrame({\"x\": np.random.randint(100, 1000, size=tamanho),\n",
    "                   \"chuva\": np.random.choice([0, 1], size=tamanho, p = [0.7, 0.3]) })\n",
    "\n",
    "beta0 = -2\n",
    "beta1 = 0.002\n",
    "beta2 = 0.5\n",
    "df['lambda'] = np.exp(beta0 + beta1 * df['x'] + df['chuva'] * beta2 )\n",
    "df['y'] = np.random.poisson(lam=df['lambda'])\n",
    "\n",
    "x=sm.add_constant(df[['x', 'chuva']])\n",
    "y = df['y']\n",
    "\n",
    "model = sm.GLM(y, x, family=sm.families.Poisson()).fit()\n",
    "print(model.summary())\n",
    "print(x)"
   ],
   "outputs": [
    {
     "name": "stdout",
     "output_type": "stream",
     "text": [
      "                 Generalized Linear Model Regression Results                  \n",
      "==============================================================================\n",
      "Dep. Variable:                      y   No. Observations:                 1000\n",
      "Model:                            GLM   Df Residuals:                      997\n",
      "Model Family:                 Poisson   Df Model:                            2\n",
      "Link Function:                    Log   Scale:                          1.0000\n",
      "Method:                          IRLS   Log-Likelihood:                -936.64\n",
      "Date:                Mon, 10 Mar 2025   Deviance:                       962.39\n",
      "Time:                        21:27:49   Pearson chi2:                     996.\n",
      "No. Iterations:                     5   Pseudo R-squ. (CS):             0.1474\n",
      "Covariance Type:            nonrobust                                         \n",
      "==============================================================================\n",
      "                 coef    std err          z      P>|z|      [0.025      0.975]\n",
      "------------------------------------------------------------------------------\n",
      "const         -1.8833      0.128    -14.669      0.000      -2.135      -1.632\n",
      "x              0.0019      0.000     10.669      0.000       0.002       0.002\n",
      "chuva          0.5464      0.085      6.433      0.000       0.380       0.713\n",
      "==============================================================================\n",
      "     const    x  chuva\n",
      "0      1.0  335      1\n",
      "1      1.0  405      0\n",
      "2      1.0  329      0\n",
      "3      1.0  277      0\n",
      "4      1.0  755      0\n",
      "..     ...  ...    ...\n",
      "995    1.0  895      1\n",
      "996    1.0  447      0\n",
      "997    1.0  337      0\n",
      "998    1.0  482      0\n",
      "999    1.0  394      0\n",
      "\n",
      "[1000 rows x 3 columns]\n"
     ]
    }
   ],
   "execution_count": 107
  }
 ]
}
