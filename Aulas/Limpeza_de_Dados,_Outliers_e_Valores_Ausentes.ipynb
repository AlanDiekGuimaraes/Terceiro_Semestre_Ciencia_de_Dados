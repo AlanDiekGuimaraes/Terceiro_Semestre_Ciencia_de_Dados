{
 "cells": [
  {
   "cell_type": "markdown",
   "metadata": {},
   "source": [
    "# Limpeza Inicial\n",
    "\n",
    "A limpeza inicial é o primeiro passo no pré-processamento de dados. Ela envolve a remoção ou correção de inconsistências, valores duplicados e caracteres indesejados, garantindo que os dados estejam em um formato utilizável.\n",
    "\n",
    "Etapas principais:\n",
    "\n",
    "- Remoção de espaços extras e caracteres especiais\n",
    "\n",
    "- Padronização de formatos\n",
    "\n",
    "- Exclusão de registros duplicados\n",
    "\n",
    "- Conversão de tipos de dados"
   ]
  },
  {
   "cell_type": "markdown",
   "metadata": {},
   "source": [
    "Exemplo 1: Padronização de Formatos e Remoção de Duplicatas"
   ]
  },
  {
   "cell_type": "code",
   "execution_count": null,
   "metadata": {},
   "outputs": [],
   "source": [
    "import pandas as pd # Importando biblioteca pandas\n",
    "\n",
    "# Criando um conjunto de dados com inconsistências.\n",
    "\n",
    "dados = { \n",
    "    'Nome': ['Ana', 'Bruno', 'Carlos', 'ANA', 'bruno'],\n",
    "    'Idade': ['25', '30 anos', '29', '25', '30'],\n",
    "    'Salario': ['3000', '4000R$', '5000', '3000', '4000R$']\n",
    "}\n",
    "\n",
    "df = pd.DataFrame(dados) # Criando um DataFrame a partir do dicionário\n",
    "print('-----------------------------------')\n",
    "print('---- Dados com inconsistencias ----')\n",
    "print('-----------------------------------')\n",
    "print(df)\n",
    "print('----------------------------------- \\n')\n",
    "\n",
    "# Removendo espaços extras e padronizando letras maiusculas/minusculas.\n",
    "df['Nome'] = df['Nome'].str.strip().str.capitalize() \n",
    "print('-----------------------------------')\n",
    "print('----------- Padronizando ----------')\n",
    "\n",
    "print('-----------------------------------')\n",
    "print(df)\n",
    "print('----------------------------------- \\n')\n",
    "\n",
    "# Removendo caracteres não numericos e convertendo para interiro\n",
    "df['Idade'] = df['Idade'].str.extract('(\\d+)').astype(int)\n",
    "df['Salario'] = df['Salario'].str.extract('(\\d+)').astype(int)\n",
    "print('-----------------------------------')\n",
    "print('----------- Convertendo -----------')\n",
    "print('-----------------------------------')\n",
    "print(df)\n",
    "print('----------------------------------- \\n')\n",
    "\n",
    "# Removendo duplicatas\n",
    "df = df.drop_duplicates()\n",
    "print('-----------------------------------')\n",
    "print('------- Removendo Duplicatas ------')\n",
    "print('-----------------------------------')\n",
    "print(df)\n",
    "print('----------------------------------- \\n')\n"
   ]
  },
  {
   "cell_type": "markdown",
   "metadata": {},
   "source": [
    "Exemplo 2: Removendo Caracteres Especiais e Normalizando Textos"
   ]
  },
  {
   "cell_type": "code",
   "execution_count": null,
   "metadata": {},
   "outputs": [],
   "source": [
    "# Criar um conjunto de dados com caracteres indesejados\n",
    "dados = {\n",
    "    'Produto': ['TV 4K!!!', 'Smartphone*', 'Notebook@', 'Tablet##'], \n",
    "    'Preco': ['R$2000', 'R$1500', 'R$3500', 'R$1200' ]\n",
    "}\n",
    "\n",
    "df = pd.DataFrame(dados) # Criando um DataFrame a partir do dicionário\n",
    "print(df, '\\n')\n",
    "\n",
    "df['Produto'] = df['Produto'].str.replace(r'[^a-zA-Z0-9 ]', '', regex=True) # Substituindo caracteres indesejados por espaço\n",
    "df['Preco'] = df['Preco'].str.extract('(\\d+)').astype(int) # Substituindo caracteres indesejados por espaço e convertendo para inteiro\n",
    "print(df)"
   ]
  },
  {
   "cell_type": "markdown",
   "metadata": {},
   "source": [
    "# Tratamento de Outliers\n",
    "\n",
    "Outliers são valores que se diferenciam significativamente da maioria dos dados. Eles podem ser causados por erros de entrada, medições incorretas ou variáveis externas inesperadas.\n",
    "\n",
    "Métodos de Tratamento:\n",
    "q\n",
    "- Remoção de outliers com base em limites estatísticos\n",
    "\n",
    "- Substituição por média ou mediana\n",
    "\n",
    "- Transformações matemáticas"
   ]
  },
  {
   "cell_type": "markdown",
   "metadata": {},
   "source": [
    "Exemplo 1: Removendo Outliers Usando IQR"
   ]
  },
  {
   "cell_type": "code",
   "execution_count": null,
   "metadata": {},
   "outputs": [],
   "source": [
    "import numpy as np # Importando biblioteca numpy\n",
    "import matplotlib.pyplot as plt # Importando biblioteca matplotlib\n",
    "\n",
    "dados = np.array([10, 12, 11, 10, 100, 9, 8, 10, 105, 12]) # Criando um array de dados\n",
    "\n",
    "Q1 = np.percentile(dados, 25) # Calculando o primeiro quartil (Q1)\n",
    "Q3 = np.percentile(dados, 75) # Calculando o terceiro quartil (Q3)\n",
    "IQR = Q3 - Q1 # Calculando o intervalo interquartil (IQR)\n",
    "limite_inferior = Q1 - 1.5 * IQR # Calculando o limite inferior para outliers\n",
    "limite_superior = Q3 + 1.5 * IQR # Calculando o limite superior para outliers\n",
    "\n",
    "dados_filtrados = dados[(dados >= limite_inferior) & (dados <= limite_superior)] # Filtrando os dados\n",
    "print('Dados com outliers:', dados) # Imprimindo os dados com outliers\n",
    "print('Dados sem outliers:', dados_filtrados) # Imprimindo os dados sem outliers\n",
    "\n",
    "plt.boxplot(dados) # Plotando o boxplot dos dados\n",
    "plt.show() # Mostrando o boxplot dos dados sem outliers\n",
    "\n",
    "plt.boxplot(dados_filtrados) # Plotando o boxplot dos dados sem outliers\n",
    "plt.show() # Mostrando o boxplot dos dados sem outliers"
   ]
  },
  {
   "cell_type": "markdown",
   "metadata": {},
   "source": [
    "# Tratamento com Valores Ausentes\n",
    "\n",
    "Valores ausentes podem ocorrer devido a falhas na coleta de dados, erros de registro ou simplesmente falta de resposta. O tratamento adequado evita vieses nas análises.\n",
    "\n",
    "Métodos de Tratamento:\n",
    "\n",
    "- Remoção de valores ausentes\n",
    "\n",
    "- Substituição por estatísticas (média, mediana, moda)\n",
    "\n",
    "- Preenchimento baseado em regressão"
   ]
  },
  {
   "cell_type": "code",
   "execution_count": null,
   "metadata": {},
   "outputs": [],
   "source": [
    "import pandas as pd # Importando biblioteca pandas\n",
    "import numpy as np # Importando biblioteca numpy\n",
    "\n",
    "dados = { 'Idade': [22, 25, 26, 23, 30, 28, 120, 24, 22, 200]}\n",
    "\n",
    "df = pd.DataFrame(dados) # Criando um DataFrame a partir do dicionário\n",
    "\n",
    "Q1 = df['Idade'].quantile(0.25) # Calculando o primeiro quartil (Q1)\n",
    "\n",
    "Q3 = df['Idade'].quantile(0.75) # Calculando o terceiro quartil (Q3)\n",
    "\n",
    "IQR = Q3 - Q1 # Calculando o intervalo interquartil (IQR)\n",
    "\n",
    "limite_inferior = Q1 - 1.5 * IQR # Calculando o limite inferior para outliers\n",
    "\n",
    "limite_superior = Q3 + 1.5 * IQR # Calculando o limite superior para outliers\n",
    "\n",
    "outliers = df[(df['Idade'] < limite_inferior) | (df['Idade'] > limite_superior)] # Identificando os outliers\n",
    "\n",
    "mediana = df['Idade'].median() # Calculando a mediana\n",
    "\n",
    "df.loc[outliers.index, 'Idade'] = mediana # Substituindo os outliers pela mediana\n",
    "\n",
    "print(df) # Imprimindo o DataFrame com os dados corrigidos"
   ]
  },
  {
   "cell_type": "markdown",
   "metadata": {},
   "source": [
    "Exemplo 1: Preenchendo Valores Ausentes em Notas de Alunos"
   ]
  },
  {
   "cell_type": "code",
   "execution_count": null,
   "metadata": {},
   "outputs": [],
   "source": [
    "import numpy as np # Importando biblioteca numpy\n",
    "import pandas as pd # Importando biblioteca pandas\n",
    "\n",
    "# Criando um DataFrame com valores ausentes\n",
    "dados = {'Produto': ['Arroz', 'Feijão', 'Macarrão', 'Óleo', 'Açúcar'],\n",
    "         'Preço': [5.50, np.nan, 3.80, np.nan, 4.20]}\n",
    "df = pd.DataFrame(dados)\n",
    "\n",
    "print(\"Dados originais com valores ausentes:\")\n",
    "print(df)\n",
    "\n",
    "# Preenchendo valores ausentes com a média dos preços (sem inplace=True)\n",
    "df['Preço'] = df['Preço'].fillna(df['Preço'].mean())\n",
    "\n",
    "print(\"\\nDados após preenchimento dos valores ausentes:\")\n",
    "print(df)"
   ]
  },
  {
   "cell_type": "markdown",
   "metadata": {},
   "source": [
    "Exemplo 2: Removendo Registros com Valores Ausentes"
   ]
  },
  {
   "cell_type": "code",
   "execution_count": null,
   "metadata": {},
   "outputs": [],
   "source": [
    "\n",
    "# Criando um DataFrame com valores ausentes\n",
    "dados = {'Cidade': ['São Paulo', 'Rio de Janeiro', 'Belo Horizonte', 'Salvador', None],\n",
    "         'População': [12_330_000, 6_700_000, 2_500_000, np.nan, 1_400_000]}\n",
    "df = pd.DataFrame(dados)\n",
    "\n",
    "# Removendo registros com valores ausentes\n",
    "df.dropna(inplace=True)\n",
    "print(df)"
   ]
  }
 ],
 "metadata": {
  "kernelspec": {
   "display_name": ".venv",
   "language": "python",
   "name": "python3"
  },
  "language_info": {
   "codemirror_mode": {
    "name": "ipython",
    "version": 3
   },
   "file_extension": ".py",
   "mimetype": "text/x-python",
   "name": "python",
   "nbconvert_exporter": "python",
   "pygments_lexer": "ipython3",
   "version": "3.11.9"
  }
 },
 "nbformat": 4,
 "nbformat_minor": 2
}
