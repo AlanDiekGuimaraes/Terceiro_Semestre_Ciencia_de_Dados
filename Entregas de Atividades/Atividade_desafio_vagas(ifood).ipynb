{
 "cells": [
  {
   "cell_type": "code",
   "id": "initial_id",
   "metadata": {
    "collapsed": true,
    "ExecuteTime": {
     "end_time": "2025-04-18T00:17:18.216714Z",
     "start_time": "2025-04-18T00:17:18.195643Z"
    }
   },
   "source": [
    "import pandas as pd\n",
    "df = pd.read_csv(\"arquivo.csv\", sep=';', decimal=',')\n",
    "print(df)"
   ],
   "outputs": [
    {
     "name": "stdout",
     "output_type": "stream",
     "text": [
      "    id_usuario  id_produto  score_real  score_predito\n",
      "0            1        2001    4.923092       9.217394\n",
      "1            2        2001    3.781476       4.084370\n",
      "2            3        2001    1.602183       3.767316\n",
      "3            4        2001    3.995709       6.248308\n",
      "4            5        2001    7.363469       1.414835\n",
      "..         ...         ...         ...            ...\n",
      "95          96        2001    9.205652       8.082835\n",
      "96          97        2001    7.566742       2.708348\n",
      "97          98        2001    1.429144       4.513307\n",
      "98          99        2001    9.421011       5.169400\n",
      "99         100        2001    1.747146       5.305886\n",
      "\n",
      "[100 rows x 4 columns]\n"
     ]
    }
   ],
   "execution_count": 14
  },
  {
   "metadata": {
    "ExecuteTime": {
     "end_time": "2025-04-18T00:20:18.780886Z",
     "start_time": "2025-04-18T00:20:18.756028Z"
    }
   },
   "cell_type": "code",
   "source": [
    "from sklearn.metrics import mean_absolute_error\n",
    "y_real = bd['score_real']\n",
    "print(y_real)"
   ],
   "id": "fab09d8e181af9fd",
   "outputs": [
    {
     "ename": "ModuleNotFoundError",
     "evalue": "No module named 'sklearn'",
     "output_type": "error",
     "traceback": [
      "\u001B[31m---------------------------------------------------------------------------\u001B[39m",
      "\u001B[31mModuleNotFoundError\u001B[39m                       Traceback (most recent call last)",
      "\u001B[36mCell\u001B[39m\u001B[36m \u001B[39m\u001B[32mIn[16]\u001B[39m\u001B[32m, line 1\u001B[39m\n\u001B[32m----> \u001B[39m\u001B[32m1\u001B[39m \u001B[38;5;28;01mfrom\u001B[39;00m\u001B[38;5;250m \u001B[39m\u001B[34;01msklearn\u001B[39;00m\u001B[34;01m.\u001B[39;00m\u001B[34;01mmetrics\u001B[39;00m\u001B[38;5;250m \u001B[39m\u001B[38;5;28;01mimport\u001B[39;00m mean_absolute_error\n\u001B[32m      2\u001B[39m y_real = bd[\u001B[33m'\u001B[39m\u001B[33mscore_real\u001B[39m\u001B[33m'\u001B[39m]\n\u001B[32m      3\u001B[39m \u001B[38;5;28mprint\u001B[39m(y_real)\n",
      "\u001B[31mModuleNotFoundError\u001B[39m: No module named 'sklearn'"
     ]
    }
   ],
   "execution_count": 16
  }
 ],
 "metadata": {
  "kernelspec": {
   "display_name": "Python 3",
   "language": "python",
   "name": "python3"
  },
  "language_info": {
   "codemirror_mode": {
    "name": "ipython",
    "version": 2
   },
   "file_extension": ".py",
   "mimetype": "text/x-python",
   "name": "python",
   "nbconvert_exporter": "python",
   "pygments_lexer": "ipython2",
   "version": "2.7.6"
  }
 },
 "nbformat": 4,
 "nbformat_minor": 5
}
