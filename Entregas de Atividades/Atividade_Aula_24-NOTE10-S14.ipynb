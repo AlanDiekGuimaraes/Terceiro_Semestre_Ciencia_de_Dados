{
 "cells": [
  {
   "cell_type": "code",
   "execution_count": null,
   "metadata": {
    "executionInfo": {
     "elapsed": 9,
     "status": "ok",
     "timestamp": 1740681108051,
     "user": {
      "displayName": "Arthur Gustavo de Araujo Ferreira",
      "userId": "17735774120082639904"
     },
     "user_tz": 180
    },
    "id": "aoyGVuaIrA2s"
   },
   "outputs": [],
   "source": [
    "import pandas as pd\n",
    "import json"
   ]
  },
  {
   "cell_type": "markdown",
   "metadata": {
    "id": "5RAT_ThOpiBp"
   },
   "source": [
    "\n",
    "\"\"\"\n",
    "# 📊 Exercícios: Manipulação de Dados JSON\n",
    "\n",
    "Nesta atividade, você praticará:\n",
    "1. Carregamento de arquivos JSON.\n",
    "2. Extração e normalização de dados aninhados.\n",
    "3. Filtragem e agregação de informações.\n",
    "4. Manipulação de categorias e horários comerciais.\n",
    "\n",
    "**Objetivo:** Aprofundar o entendimento sobre dados semi-estruturados através de desafios práticos.\n",
    "\n",
    "---\n",
    "\"\"\"\n",
    "\n",
    "\n",
    "# --- Exercício 1: Carregar um JSON salvo anteriormente ---\n",
    "\"\"\"\n",
    "## 1.1. Carregar um arquivo JSON\n",
    "\n",
    "- O arquivo disponível no classroom contém dados de estabelecimentos do Yelp.\n",
    "- Leia o arquivo `data.json` e carregue-o em um DataFrame.\n",
    "\"\"\"\n"
   ]
  },
  {
   "cell_type": "code",
   "execution_count": null,
   "metadata": {
    "id": "cbY8bQbwpmKH"
   },
   "outputs": [],
   "source": [
    "\n",
    "file_path = \"data.json\"  # Substituir pelo nome certo caso necessário\n",
    "\n",
    "with open(file_path, \"r\", encoding=\"utf-8\") as f:\n",
    "    data = json.load(f)\n",
    "\n",
    "df = pd.DataFrame(data)\n",
    "df.head()\n"
   ]
  },
  {
   "cell_type": "markdown",
   "metadata": {
    "id": "0qaNPLimpouU"
   },
   "source": [
    "### 🔹 Pergunta:\n",
    "Quantos registros existem no arquivo JSON?\n",
    "Dica: Utilize `len( )` para contar os elementos.\n",
    "\"\"\"\n"
   ]
  },
  {
   "cell_type": "code",
   "execution_count": null,
   "metadata": {
    "id": "jHcdQsSetnx2"
   },
   "outputs": [],
   "source": [
    "len(df)"
   ]
  },
  {
   "cell_type": "markdown",
   "metadata": {
    "id": "sLYlObz4tn5o"
   },
   "source": [
    "\n",
    "# --- Exercício 2: Criar um DataFrame com informações básicas ---\n",
    "## 2.1. Transformar o JSON em um DataFrame\n",
    "\n",
    "- Extraia apenas os seguintes campos para um DataFrame:\n",
    "  - `business_id`\n",
    "  - `name`\n",
    "  - `city`\n",
    "  - `stars`\n",
    "  - `review_count`\n",
    "  - `categories`\n",
    "- Exiba as **5 primeiras linhas**.\n",
    "\"\"\"\n"
   ]
  },
  {
   "cell_type": "code",
   "execution_count": null,
   "metadata": {
    "id": "RYaG7yKZprF2"
   },
   "outputs": [],
   "source": [
    "\n",
    "df2 = pd.DataFrame([{\n",
    "    'bid': d.get('business_id'),\n",
    "    'Nome': d.get('name'),\n",
    "    'Cidade': d.get('city'),\n",
    "    'Stars': d.get('stars'),\n",
    "    'Contagem de reviews': d.get('review_count'),\n",
    "    'Categorias': d.get('categories')\n",
    "}]for d in data)\n",
    "\n",
    "print()\n",
    "df2"
   ]
  },
  {
   "cell_type": "markdown",
   "metadata": {
    "id": "MGzORYjspttJ"
   },
   "source": [
    "\n",
    "\"\"\"\n",
    "### 🔹 Pergunta:\n",
    "Qual cidade tem o maior número de estabelecimentos registrados?\n",
    "Dica: Utilize `value_counts()` e `idxmax()` se quiser.\n",
    "\"\"\"\n",
    "\n"
   ]
  },
  {
   "cell_type": "code",
   "execution_count": null,
   "metadata": {
    "id": "0AVPEl9luDq0"
   },
   "outputs": [],
   "source": [
    "df['city'].value_counts().idxmax()"
   ]
  },
  {
   "cell_type": "markdown",
   "metadata": {
    "id": "mw7h70kauD04"
   },
   "source": [
    "# --- Exercício 3: Trabalhar com Categorias ---\n",
    "\n",
    "## 3.1. Expandindo categorias em múltiplas linhas\n",
    "\n",
    "- A coluna `categories` contém múltiplos valores separados por vírgula.\n",
    "- Converta-a em uma lista e **exploda os valores** para transformar cada categoria em uma linha separada.\n"
   ]
  },
  {
   "cell_type": "code",
   "execution_count": null,
   "metadata": {
    "id": "HC0ePHSGpwLz"
   },
   "outputs": [],
   "source": [
    "\n",
    "df_exploded = df.explode('categories')\n",
    "### \"df_exploded = ???\n",
    "\n",
    "df_exploded.head()\n"
   ]
  },
  {
   "cell_type": "markdown",
   "metadata": {
    "id": "f9qqSd5Hpx-g"
   },
   "source": [
    "\n",
    "\"\"\"\n",
    "### 🔹 Pergunta:\n",
    "Qual a categoria mais comum entre os estabelecimentos?\n",
    "Dica: Utilize `value_counts().head(10)`.\n",
    "\"\"\"\n",
    "\n"
   ]
  },
  {
   "cell_type": "code",
   "execution_count": null,
   "metadata": {
    "id": "hLrMc3rdz7jb"
   },
   "outputs": [],
   "source": [
    "df['categories'].value_counts().head(10)"
   ]
  },
  {
   "cell_type": "markdown",
   "metadata": {
    "id": "IJd29wuRz78f"
   },
   "source": [
    "# --- Exercício 4: Trabalhar com Horários ---\n",
    "\"\"\"\n",
    "## 4.1. Criar um DataFrame com horários comerciais\n",
    "\n",
    "- Extraia os horários de funcionamento (se existirem) para cada estabelecimento.\n",
    "- Caso um estabelecimento não tenha horários, preencha com `\"Closed\"`.\n",
    "\"\"\"\n"
   ]
  },
  {
   "cell_type": "code",
   "execution_count": null,
   "metadata": {
    "id": "WX5CtlK0p0AC"
   },
   "outputs": [],
   "source": [
    "\n",
    "weekdays = [\"Monday\", \"Tuesday\", \"Wednesday\", \"Thursday\", \"Friday\", \"Saturday\", \"Sunday\"]\n",
    "\n",
    "df_hours = pd.DataFrame([\n",
    "    {\n",
    "        'business_id': d.get('business_id'),\n",
    "        **{day: (d.get('hours') or {} ).get(day, 'Closed') for day in weekdays}  # Extrai horário ou 'Closed' caso não seja encontrado.\n",
    "    } for d in data\n",
    "])\n",
    "\n",
    "print(df_hours.head())\n"
   ]
  },
  {
   "cell_type": "markdown",
   "metadata": {
    "id": "3KXeDjVAp1eY"
   },
   "source": [
    "\n",
    "\"\"\"\n",
    "### 🔹 Pergunta:\n",
    "Quantos estabelecimentos estão fechados no domingo?\n",
    "\"\"\"\n"
   ]
  },
  {
   "cell_type": "code",
   "execution_count": null,
   "metadata": {
    "id": "43_uZLJ569bo"
   },
   "outputs": [],
   "source": [
    "fechados_domingo = df_hours[df_hours['Sunday'] == 'Fechado'].shape[0]\n",
    "\n",
    "print(f\"Estabelecimentos fechados no domingo: {fechados_domingo}\")"
   ]
  },
  {
   "cell_type": "markdown",
   "metadata": {
    "id": "L91_N6cP696y"
   },
   "source": [
    "\n",
    "# --- Exercício 5: Cruzando Informações ---\n",
    "\"\"\"\n",
    "## 5.1. Encontrar os restaurantes mais bem avaliados de uma cidade específica\n",
    "\n",
    "- Selecione apenas estabelecimentos da cidade **Tucson**.\n",
    "- Filtre apenas aqueles com a categoria **Restaurants**.\n",
    "- Ordene por **maior número de estrelas** e exiba os 10 primeiros.\n",
    "\"\"\"\n"
   ]
  },
  {
   "cell_type": "code",
   "execution_count": null,
   "metadata": {
    "id": "WMc9BouVp3IF"
   },
   "outputs": [],
   "source": [
    "mais_avaliados = df[df['city'] == 'Tucson']\n",
    "mais_avaliados = df[df['categories'] == 'Restaurants']\n",
    "\n",
    "mais_avaliados = mais_avaliados.sort_values('stars', ascending=False)\n",
    "mais_avaliados.head(10)"
   ]
  },
  {
   "cell_type": "markdown",
   "metadata": {
    "id": "w3Oq9B9Zp4Yw"
   },
   "source": [
    "\n",
    "\"\"\"\n",
    "### 🔹 Pergunta:\n",
    "Qual é o restaurante mais bem avaliado em Tucson?\n",
    "Dica: Ordene o dataframe com sort_values(\"coluna\") em ordem descendente veja os primeiros elementos.\n",
    "\n",
    "Escolha aquele entre os 10 primeiros com mais estrelas e mais reviews.\n",
    "\"\"\"\n",
    "\n",
    "\n"
   ]
  },
  {
   "cell_type": "code",
   "execution_count": 50,
   "metadata": {
    "id": "KqMG6TbyzDXY"
   },
   "outputs": [
    {
     "data": {
      "text/html": [
       "<div>\n",
       "<style scoped>\n",
       "    .dataframe tbody tr th:only-of-type {\n",
       "        vertical-align: middle;\n",
       "    }\n",
       "\n",
       "    .dataframe tbody tr th {\n",
       "        vertical-align: top;\n",
       "    }\n",
       "\n",
       "    .dataframe thead th {\n",
       "        text-align: right;\n",
       "    }\n",
       "</style>\n",
       "<table border=\"1\" class=\"dataframe\">\n",
       "  <thead>\n",
       "    <tr style=\"text-align: right;\">\n",
       "      <th></th>\n",
       "      <th>business_id</th>\n",
       "      <th>name</th>\n",
       "      <th>address</th>\n",
       "      <th>city</th>\n",
       "      <th>state</th>\n",
       "      <th>postal_code</th>\n",
       "      <th>latitude</th>\n",
       "      <th>longitude</th>\n",
       "      <th>stars</th>\n",
       "      <th>review_count</th>\n",
       "      <th>is_open</th>\n",
       "      <th>attributes</th>\n",
       "      <th>categories</th>\n",
       "      <th>hours</th>\n",
       "    </tr>\n",
       "  </thead>\n",
       "  <tbody>\n",
       "    <tr>\n",
       "      <th>90066</th>\n",
       "      <td>sk11RFNogbE0axZUIDBRHw</td>\n",
       "      <td>Los Mezquites</td>\n",
       "      <td>2341-2399 W Drexel Rd</td>\n",
       "      <td>Tucson</td>\n",
       "      <td>AZ</td>\n",
       "      <td>85746</td>\n",
       "      <td>32.148224</td>\n",
       "      <td>-111.01744</td>\n",
       "      <td>5.0</td>\n",
       "      <td>11</td>\n",
       "      <td>1</td>\n",
       "      <td>{'RestaurantsReservations': 'False', 'Restaura...</td>\n",
       "      <td>Restaurants</td>\n",
       "      <td>{'Monday': '11:0-22:0', 'Wednesday': '11:0-22:...</td>\n",
       "    </tr>\n",
       "  </tbody>\n",
       "</table>\n",
       "</div>"
      ],
      "text/plain": [
       "                  business_id           name                address    city  \\\n",
       "90066  sk11RFNogbE0axZUIDBRHw  Los Mezquites  2341-2399 W Drexel Rd  Tucson   \n",
       "\n",
       "      state postal_code   latitude  longitude  stars  review_count  is_open  \\\n",
       "90066    AZ       85746  32.148224 -111.01744    5.0            11        1   \n",
       "\n",
       "                                              attributes   categories  \\\n",
       "90066  {'RestaurantsReservations': 'False', 'Restaura...  Restaurants   \n",
       "\n",
       "                                                   hours  \n",
       "90066  {'Monday': '11:0-22:0', 'Wednesday': '11:0-22:...  "
      ]
     },
     "execution_count": 50,
     "metadata": {},
     "output_type": "execute_result"
    }
   ],
   "source": [
    "df_star = mais_avaliados = mais_avaliados.sort_values('stars', ascending=False).head(10)\n",
    "\n",
    "df_review = df_star.sort_values(by='review_count', ascending=False).head(10)\n",
    "\n",
    "df_review.head(1)"
   ]
  },
  {
   "cell_type": "markdown",
   "metadata": {
    "id": "2m1aNeUo7AFx"
   },
   "source": [
    "\n",
    "# --- Exercício 6: Agrupando Informações ---\n",
    "\"\"\"\n",
    "## Qual a cidade com maior média de estrelas em seus restaurantes?\n",
    "\"\"\"\n"
   ]
  },
  {
   "cell_type": "code",
   "execution_count": 57,
   "metadata": {
    "id": "bOnZ-21u7VhA"
   },
   "outputs": [
    {
     "ename": "NameError",
     "evalue": "name 'df_completa' is not defined",
     "output_type": "error",
     "traceback": [
      "\u001b[1;31m---------------------------------------------------------------------------\u001b[0m",
      "\u001b[1;31mNameError\u001b[0m                                 Traceback (most recent call last)",
      "Cell \u001b[1;32mIn[57], line 12\u001b[0m\n\u001b[0;32m      1\u001b[0m df_business \u001b[38;5;241m=\u001b[39m pd\u001b[38;5;241m.\u001b[39mDataFrame([{\n\u001b[0;32m      2\u001b[0m     \u001b[38;5;124m\"\u001b[39m\u001b[38;5;124mbusiness_id\u001b[39m\u001b[38;5;124m\"\u001b[39m: d\u001b[38;5;241m.\u001b[39mget(\u001b[38;5;124m\"\u001b[39m\u001b[38;5;124mbusiness_id\u001b[39m\u001b[38;5;124m\"\u001b[39m),\n\u001b[0;32m      3\u001b[0m     \u001b[38;5;124m\"\u001b[39m\u001b[38;5;124mname\u001b[39m\u001b[38;5;124m\"\u001b[39m: d\u001b[38;5;241m.\u001b[39mget(\u001b[38;5;124m\"\u001b[39m\u001b[38;5;124mname\u001b[39m\u001b[38;5;124m\"\u001b[39m),\n\u001b[1;32m   (...)\u001b[0m\n\u001b[0;32m      6\u001b[0m     \u001b[38;5;124m\"\u001b[39m\u001b[38;5;124mcategories\u001b[39m\u001b[38;5;124m\"\u001b[39m: d\u001b[38;5;241m.\u001b[39mget(\u001b[38;5;124m\"\u001b[39m\u001b[38;5;124mcategories\u001b[39m\u001b[38;5;124m\"\u001b[39m)\n\u001b[0;32m      7\u001b[0m } \u001b[38;5;28;01mfor\u001b[39;00m d \u001b[38;5;129;01min\u001b[39;00m data])\n\u001b[0;32m      9\u001b[0m \u001b[38;5;66;03m# Faça o split das categorias (\"categories\")\u001b[39;00m\n\u001b[1;32m---> 12\u001b[0m df_completasplit \u001b[38;5;241m=\u001b[39m \u001b[43mdf_completa\u001b[49m\u001b[38;5;241m.\u001b[39massign(categoria\u001b[38;5;241m=\u001b[39m df_completa[\u001b[38;5;124m'\u001b[39m\u001b[38;5;124mcategoria\u001b[39m\u001b[38;5;124m'\u001b[39m]\u001b[38;5;241m.\u001b[39mstr\u001b[38;5;241m.\u001b[39msplit(\u001b[38;5;124m'\u001b[39m\u001b[38;5;124m, \u001b[39m\u001b[38;5;124m'\u001b[39m)) \n\u001b[0;32m     13\u001b[0m \u001b[38;5;66;03m# Transforma a coluna 'categoria' em uma lista de strings\u001b[39;00m\n\u001b[0;32m     15\u001b[0m df_completasplit\u001b[38;5;241m.\u001b[39mhead()\n",
      "\u001b[1;31mNameError\u001b[0m: name 'df_completa' is not defined"
     ]
    }
   ],
   "source": [
    "df_business = pd.DataFrame([{\n",
    "    \"business_id\": d.get(\"business_id\"),\n",
    "    \"name\": d.get(\"name\"),\n",
    "    \"city\": d.get(\"city\"),\n",
    "    \"stars\": d.get(\"stars\"),\n",
    "    \"categories\": d.get(\"categories\")\n",
    "} for d in data])\n",
    "\n",
    "# Faça o split das categorias (\"categories\")\n",
    "\n",
    "\n",
    "df_completasplit = df_completa.assign(categoria= df_completa['categoria'].str.split(', ')) \n",
    "# Transforma a coluna 'categoria' em uma lista de strings\n",
    "\n",
    "df_completasplit.head()\n",
    "# Filtre os restaurantes\n",
    "\n",
    "# Agrupe por cidade, calcule a média, e ordene\n",
    "\n",
    "# Exiba os valores\n"
   ]
  },
  {
   "cell_type": "markdown",
   "metadata": {
    "id": "mnIWjJy1zF6l"
   },
   "source": [
    "# 🚀 Parabéns!\n",
    "\"Exercícios concluídos! 🎉\"\n"
   ]
  },
  {
   "cell_type": "code",
   "execution_count": null,
   "metadata": {
    "id": "vR58ooRX2_G0"
   },
   "outputs": [],
   "source": []
  }
 ],
 "metadata": {
  "colab": {
   "authorship_tag": "ABX9TyNdTWMOdaqiaBq38z/+769N",
   "provenance": [
    {
     "file_id": "1QSBk64-mnVH9G_uualiajDqgNh4UY8D_",
     "timestamp": 1740680560939
    },
    {
     "file_id": "1ktIb7kXkTnMA4uTlfmwiWdjuTC6PPBxR",
     "timestamp": 1740618152061
    }
   ]
  },
  "kernelspec": {
   "display_name": ".venv",
   "language": "python",
   "name": "python3"
  },
  "language_info": {
   "codemirror_mode": {
    "name": "ipython",
    "version": 3
   },
   "file_extension": ".py",
   "mimetype": "text/x-python",
   "name": "python",
   "nbconvert_exporter": "python",
   "pygments_lexer": "ipython3",
   "version": "3.11.9"
  }
 },
 "nbformat": 4,
 "nbformat_minor": 0
}
