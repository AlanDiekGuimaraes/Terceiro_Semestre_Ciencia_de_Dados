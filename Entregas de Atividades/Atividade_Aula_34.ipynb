{
 "nbformat": 4,
 "nbformat_minor": 0,
 "metadata": {
  "colab": {
   "provenance": [
    {
     "file_id": "1fwc51Th6UK5W-97_NvysomHWNxZAcSuQ",
     "timestamp": 1744212779737
    },
    {
     "file_id": "1jpCfa1clarhzWe3n-7KIUZW6x9V00tnY",
     "timestamp": 1744212403869
    }
   ]
  },
  "kernelspec": {
   "name": "python3",
   "display_name": "Python 3"
  },
  "language_info": {
   "name": "python"
  }
 },
 "cells": [
  {
   "cell_type": "markdown",
   "source": [
    "# **Aluno: Alan Diek Guimarães**\n",
    "\n",
    "# **Introdução à Linguagem MDX**\n",
    "\n"
   ],
   "metadata": {
    "id": "01crPp5nIt6X"
   }
  },
  {
   "cell_type": "markdown",
   "source": [
    "O MDX (Multidimensional Expressions) é uma linguagem de consulta utilizada para recuperar e manipular dados em bancos de dados multidimensionais. Ele é amplamente usado em sistemas de Business Intelligence (BI), especialmente para acessar dados armazenados em cubos OLAP (Online Analytical Processing)."
   ],
   "metadata": {
    "id": "h0iecQSNJALV"
   }
  },
  {
   "cell_type": "markdown",
   "source": [
    "# 1. O Que é MDX?\n",
    "O MDX foi desenvolvido pela Microsoft e é usado principalmente no SQL Server Analysis Services (SSAS). Sua estrutura lembra o SQL, mas é otimizada para consultas complexas em dados multidimensionais.\n",
    "\n",
    "Os bancos de dados multidimensionais organizam dados em um formato chamado cubo OLAP, onde as informações são distribuídas em diferentes dimensões.\n",
    "\n",
    "Por exemplo, um cubo OLAP para análise de vendas pode ter as seguintes dimensões:\n",
    "\n",
    "* Tempo (anos, meses, dias)\n",
    "\n",
    "* Produto (categorias, marcas)\n",
    "\n",
    "* Região (país, estado, cidade)\n",
    "\n",
    "* Isso permite análises avançadas, como:\n",
    "\n",
    "* Comparar vendas de um produto em diferentes regiões.\n",
    "\n",
    "* Calcular tendências ao longo do tempo.\n",
    "\n",
    "* Aplicar agregações e cálculos personalizados."
   ],
   "metadata": {
    "id": "2EOCR9-3L0Vf"
   }
  },
  {
   "cell_type": "markdown",
   "source": [
    "# 2. Diferença entre MDX e SQL"
   ],
   "metadata": {
    "id": "-sILejiQMAOg"
   }
  },
  {
   "cell_type": "markdown",
   "source": [
    "![image.png](data:image/png;base64,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)"
   ],
   "metadata": {
    "id": "OeOX9f4OMrVU"
   }
  },
  {
   "cell_type": "markdown",
   "source": [
    "# 3. Estrutura de uma Consulta MDX\n",
    "Uma consulta MDX básica tem a seguinte estrutura:"
   ],
   "metadata": {
    "id": "LeMiwDhtNrSf"
   }
  },
  {
   "metadata": {},
   "cell_type": "markdown",
   "source": [
    "```\n",
    "SELECT\n",
    "  [Measures].[Vendas Totais] ON COLUMNS,\n",
    "  [Dimensão Tempo].[Ano].[2023] ON ROWS\n",
    "FROM [CuboVendas]\n",
    "WHERE ([Dimensão Produto].[Categoria].[Eletrônicos])\n",
    "```\n"
   ]
  },
  {
   "cell_type": "markdown",
   "source": [
    "Explicação:\n",
    "SELECT: Define os dados a serem retornados.\n",
    "\n",
    "ON COLUMNS: Define os valores que aparecerão nas colunas (nesse caso, a métrica \"Vendas Totais\").\n",
    "\n",
    "ON ROWS: Define os valores das linhas (aqui, os anos da dimensão Tempo).\n",
    "\n",
    "FROM: Define o cubo de onde os dados serão extraídos.\n",
    "\n",
    "WHERE: Filtra os resultados para uma categoria específica (\"Eletrônicos\")."
   ],
   "metadata": {
    "id": "EMmaOtGkOEt_"
   }
  },
  {
   "cell_type": "markdown",
   "source": [
    "# 4. Aplicações do MDX\n",
    "MDX é usado em diversos cenários dentro do Business Intelligence e Data Analytics:\n",
    "* Relatórios gerenciais – Extração de dados para dashboards em ferramentas como Power BI.\n",
    "* Análises preditivas – Modelagem de tendências de mercado.\n",
    "* Monitoramento de KPIs – Avaliação de desempenho empresarial."
   ],
   "metadata": {
    "id": "MuqI5-5_PnOF"
   }
  },
  {
   "cell_type": "markdown",
   "source": [
    "# 5. Exemplo Prático\n",
    "Se uma empresa quer saber as vendas totais por região em 2023, pode usar a seguinte consulta MDX:"
   ],
   "metadata": {
    "id": "8dVKWWosQCr3"
   }
  },
  {
   "metadata": {},
   "cell_type": "markdown",
   "source": [
    "```\n",
    "SELECT [Measures].[Vendas Totais] ON COLUMNS,\n",
    "[Dimensão Região].[Estado].Members ON ROWS\n",
    "FROM [CuboVendas]\n",
    "WHERE ([Dimensão Tempo].[Ano].[2023])\n",
    "```"
   ]
  },
  {
   "cell_type": "markdown",
   "source": [
    "Isso retornaria algo assim:\n",
    "\n",
    "![image.png](data:image/png;base64,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)"
   ],
   "metadata": {
    "id": "mgOY0-TARN4z"
   }
  },
  {
   "cell_type": "markdown",
   "source": [
    "# EXEMPLO UTILIZANDO SQL E MDX\n",
    "* No modelo OLAP os dados são organizados em:\n",
    "* Fatos (Valores Numericos) e Dimensões (Categorias para analise)"
   ],
   "metadata": {
    "id": "YU_forq8Tltt"
   }
  },
  {
   "cell_type": "markdown",
   "source": [
    "# Exemplo usando SQL"
   ],
   "metadata": {
    "id": "v4OmFpgepYz1"
   }
  },
  {
   "metadata": {},
   "cell_type": "markdown",
   "source": [
    "```\n",
    "# Criando o Banco de dados\n",
    "\n",
    "CREATE DATABASE Pizzaria;\n",
    "USE Pizzaria;\n",
    "\n",
    "\n",
    "# Tabela de Dimensão: Sabores de Pizza\n",
    "CREATE TABLE Dim_Sabor (\n",
    "    SaborID INT PRIMARY KEY AUTO_INCREMENT,\n",
    "    Nome VARCHAR(50) NOT NULL\n",
    ");\n",
    "\n",
    "\n",
    "```"
   ]
  },
  {
   "metadata": {},
   "cell_type": "markdown",
   "source": [
    "```\n",
    "# Tabela de Dimensão\n",
    "CREATE TABLE Dim_Tempo (\n",
    "    DataID INT PRIMARY KEY AUTO_INCREMENT,\n",
    "    Data DATE UNIQUE NOT NULL,\n",
    "    Ano INT NOT NULL,\n",
    "    Mes INT NOT NULL,\n",
    "    Trimestre INT NOT NULL\n",
    ");\n",
    "\n",
    "# Tabela de Dimensão\n",
    "CREATE TABLE Dim_Tempo (\n",
    "    DataID INT PRIMARY KEY AUTO_INCREMENT,\n",
    "    Data DATE UNIQUE NOT NULL,\n",
    "    Ano INT NOT NULL,\n",
    "    Mes INT NOT NULL,\n",
    "    Trimestre INT NOT NULL\n",
    ");\n",
    "\n",
    "```"
   ]
  },
  {
   "metadata": {},
   "cell_type": "markdown",
   "source": [
    "```\n",
    "# Inserindo valores na tabela Sabor\n",
    "INSERT INTO Dim_Sabor (Nome) VALUES\n",
    "('Mussarela'), ('Calabresa'), ('Portuguesa'), ('Frango com Catupiry'), ('Quatro Queijos'), ('Marguerita');\n",
    "```"
   ]
  },
  {
   "metadata": {},
   "cell_type": "markdown",
   "source": [
    "```\n",
    "# Inserindo dados\n",
    "INSERT INTO Dim_Tempo (Data, Ano, Mes, Trimestre) VALUES\n",
    "('2024-03-01', 2024, 3, 1),\n",
    "('2024-03-02', 2024, 3, 1),\n",
    "('2024-03-03', 2024, 3, 1),\n",
    "('2024-03-04', 2024, 3, 1),\n",
    "('2024-03-05', 2024, 3, 1),\n",
    "('2024-03-06', 2024, 3, 1);\n",
    "\n",
    "INSERT INTO Fato_Vendas (SaborID, DataID, Receita, Custo, Quantidade_Vendida) VALUES\n",
    "(1, 1, 1500, 800, 50),\n",
    "(2, 2, 2000, 1100, 70),\n",
    "(3, 3, 1700, 900, 60),\n",
    "(4, 4, 2200, 1300, 75),\n",
    "(5, 5, 1800, 1000, 65),\n",
    "(6, 6, 2500, 1400, 85);\n",
    "```\n"
   ]
  },
  {
   "metadata": {},
   "cell_type": "markdown",
   "source": [
    "```\n",
    "# Consulta: Receita e Quantidade Vendida por Sabor\n",
    "SELECT s.Nome AS Sabor, v.Receita, v.Quantidade_Vendida\n",
    "FROM Fato_Vendas v\n",
    "JOIN Dim_Sabor s ON v.SaborID = s.SaborID;\n",
    "\n",
    "#  Consulta: Lucro Líquido por Sabor\n",
    "SELECT s.Nome AS Sabor,\n",
    "       v.Receita,\n",
    "       v.Custo,\n",
    "       (v.Receita - v.Custo) AS Lucro_Liquido\n",
    "FROM Fato_Vendas v\n",
    "JOIN Dim_Sabor s ON v.SaborID = s.SaborID\n",
    "ORDER BY Lucro_Liquido DESC;\n",
    "```"
   ]
  },
  {
   "cell_type": "markdown",
   "source": [
    "# Exemplo usando MDX\n",
    "\n",
    "* Lista todos os sabores de pizza (Dim_Sabor.Nome), exibindo as medidas Receita e Quantidade_Vendida."
   ],
   "metadata": {
    "id": "M_2u358hVR7f"
   }
  },
  {
   "metadata": {},
   "cell_type": "markdown",
   "source": [
    "```\n",
    "SELECT\n",
    "    [Dim_Sabor].[Nome].MEMBERS ON ROWS,\n",
    "    { [Measures].[Receita], [Measures].[Quantidade_Vendida] } ON COLUMNS\n",
    "FROM [Cubo_Vendas]\n",
    "```"
   ]
  },
  {
   "cell_type": "markdown",
   "source": [
    "\n",
    "*  Define uma medida calculada [Lucro_Liquido] que subtrai Custo de Receita, retornando o lucro líquido por sabor."
   ],
   "metadata": {
    "id": "auPYZO3dWAUE"
   }
  },
  {
   "metadata": {},
   "cell_type": "markdown",
   "source": [
    "```\n",
    "WITH MEMBER [Measures].[Lucro_Liquido] AS\n",
    "    ([Measures].[Receita] - [Measures].[Custo])\n",
    "SELECT\n",
    "    [Dim_Sabor].[Nome].MEMBERS ON ROWS,\n",
    "    [Measures].[Lucro_Liquido] ON COLUMNS\n",
    "FROM [Cubo_Vendas]\n",
    "```"
   ]
  },
  {
   "cell_type": "markdown",
   "source": [
    "\n",
    "* Ordena os sabores de pizza pelo lucro líquido, do maior para o menor."
   ],
   "metadata": {
    "id": "jTfL2FzzWiST"
   }
  },
  {
   "metadata": {},
   "cell_type": "markdown",
   "source": [
    "```\n",
    "WITH MEMBER [Measures].[Lucro_Liquido] AS\n",
    "    ([Measures].[Receita] - [Measures].[Custo])\n",
    "SELECT\n",
    "    ORDER([Dim_Sabor].[Nome].MEMBERS, [Measures].[Lucro_Liquido], DESC) ON ROWS,\n",
    "    [Measures].[Lucro_Liquido] ON COLUMNS\n",
    "FROM [Cubo_Vendas]\n",
    "```"
   ]
  },
  {
   "cell_type": "markdown",
   "source": [
    "* Retorna a receita total por mês, utilizando a dimensão Dim_Tempo."
   ],
   "metadata": {
    "id": "XKcPkdZ_nSN5"
   }
  },
  {
   "metadata": {},
   "cell_type": "markdown",
   "source": [
    "```\n",
    "SELECT\n",
    "    [Dim_Tempo].[Mes].MEMBERS ON ROWS,\n",
    "    [Measures].[Receita] ON COLUMNS\n",
    "FROM [Cubo_Vendas\n",
    "```"
   ]
  },
  {
   "cell_type": "markdown",
   "source": [
    "* Filtra os dados para exibir apenas as vendas do primeiro trimestre de 2024."
   ],
   "metadata": {
    "id": "kvlfCBl6nZ6r"
   }
  },
  {
   "metadata": {},
   "cell_type": "markdown",
   "source": [
    "```\n",
    "SELECT\n",
    "    [Dim_Sabor].[Nome].MEMBERS ON ROWS,\n",
    "    { [Measures].[Receita], [Measures].[Quantidade_Vendida] } ON COLUMNS\n",
    "FROM [Cubo_Vendas]\n",
    "WHERE ([Dim_Tempo].[Ano].[2024], [Dim_Tempo].[Trimestre].[1])\n",
    "```"
   ]
  },
  {
   "cell_type": "markdown",
   "source": [
    "# Modelo python do script Pizzaria"
   ],
   "metadata": {
    "id": "HrjRfnuMnnbF"
   }
  },
  {
   "metadata": {},
   "cell_type": "markdown",
   "source": [
    "```\n",
    "import pandas as pd\n",
    "\n",
    "# Criar um exemplo de cubo OLAP para uma pizzaria\n",
    "dados = {\n",
    "    'Sabor': ['Calabresa', 'Mussarela', 'Portuguesa', 'Frango c/ Catupiry', 'Quatro Queijos', 'Pepperoni'],\n",
    "    'Receita': [15000, 12000, 10000, 8000, 9000, 14000],\n",
    "    'Custo': [7000, 5000, 4500, 4000, 4200, 6000],\n",
    "    'Pedidos_Realizados': [300, 250, 200, 180, 190, 270]\n",
    "}\n",
    "df = pd.DataFrame(dados)\n",
    "\n",
    "# Simular a recuperação de dados (equivalente a um SELECT MDX)\n",
    "def recuperar_dados(df):\n",
    "    return df[['Sabor', 'Receita', 'Pedidos_Realizados']]\n",
    "\n",
    "df_recuperacao = recuperar_dados(df)\n",
    "display(df_recuperacao)\n",
    "\n",
    "# Simular um cálculo personalizado (Margem de Lucro)\n",
    "def calcular_margem(df):\n",
    "    df['Margem_Lucro'] = (df['Receita'] - df['Custo']) / df['Receita']\n",
    "    return df[['Sabor', 'Receita', 'Custo', 'Margem_Lucro']]\n",
    "\n",
    "df_calculo = calcular_margem(df)\n",
    "display(df_calculo)\n",
    "\n",
    "# Criar um cálculo adicional - Ticket Médio\n",
    "def calcular_ticket_medio(df):\n",
    "    df['Ticket_Medio'] = df['Receita'] / df['Pedidos_Realizados']\n",
    "    return df[['Sabor', 'Receita', 'Pedidos_Realizados', 'Ticket_Medio']]\n",
    "\n",
    "df_ticket_medio = calcular_ticket_medio(df)\n",
    "display(df_ticket_medio)\n",
    "\n",
    "# Criar uma análise comparativa entre sabores de pizza\n",
    "def analisar_sabores(df):\n",
    "    df['Lucro_Liquido'] = df['Receita'] - df['Custo']\n",
    "    df_sorted = df.sort_values(by='Lucro_Liquido', ascending=False)\n",
    "    return df_sorted[['Sabor', 'Receita', 'Custo', 'Lucro_Liquido']]\n",
    "\n",
    "df_analise = analisar_sabores(df)\n",
    "display(df_analise)\n",
    "\n",
    "```\n"
   ]
  },
  {
   "cell_type": "markdown",
   "source": [
    "#6 Conclusão\n",
    "MDX é uma ferramenta poderosa para análise multidimensional, sendo amplamente utilizada em BI e Data Science. Se você trabalha com grandes volumes de dados estruturados em cubos OLAP, aprender MDX pode melhorar sua capacidade de análise e tomada de decisão."
   ],
   "metadata": {
    "id": "lkG7JZGRRUMv"
   }
  }
 ]
}
