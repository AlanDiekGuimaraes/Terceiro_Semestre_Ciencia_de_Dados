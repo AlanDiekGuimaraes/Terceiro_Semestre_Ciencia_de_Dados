{
  "cells": [
    {
      "cell_type": "markdown",
      "metadata": {
        "id": "7uMBPKZleMU6"
      },
      "source": [
        "# Lista de Exercicios"
      ]
    },
    {
      "cell_type": "markdown",
      "metadata": {
        "id": "IqHWKjoJfyq6"
      },
      "source": [
        "Limpeza Inicial"
      ]
    },
    {
      "cell_type": "markdown",
      "metadata": {
        "id": "gVaKgSYjfHCN"
      },
      "source": [
        "Exercício 1: Removendo Espaços Extras e Padronizando Nomes\n",
        "\n",
        "Você recebeu um conjunto de dados com nomes de clientes escritos de forma inconsistente, contendo espaços extras e diferentes capitalizações.\n",
        "Escreva um código para limpar esses nomes, removendo os espaços em branco no início e no final e padronizando-os para a primeira letra maiúscula e o restante minúsculo."
      ]
    },
    {
      "cell_type": "code",
      "execution_count": 1,
      "metadata": {},
      "outputs": [
        {
          "name": "stdout",
          "output_type": "stream",
          "text": [
            "Dataframe com dados incorretos:\n",
            "            Nome\n",
            "0     Gorete    \n",
            "1      RUBens   \n",
            "2      BrENda   \n",
            "3     SANDra    \n",
            "4       JÉssica \n",
            "Dataframe com dados corrigidos:\n",
            "      Nome\n",
            "0   Gorete\n",
            "1   Rubens\n",
            "2   Brenda\n",
            "3   Sandra\n",
            "4  Jéssica\n"
          ]
        }
      ],
      "source": [
        "import pandas as pd  # Importa a biblioteca Pandas, usada para manipulação e análise de dados.\n",
        "dados = { \n",
        "    'Nome': ['  Gorete    ', ' RUBens   ', '   BrENda   ', '   SANDra    ', '  JÉssica ']\n",
        "}\n",
        "\n",
        "df = pd.DataFrame(dados)  # Cria um DataFrame a partir do dicionário\n",
        "\n",
        "print('Dataframe com dados incorretos:')\n",
        "print(df) # Exibe o DataFrame com os nomes incorretos\n",
        "\n",
        "df['Nome'] = df['Nome'].str.strip().str.capitalize() # Remove espaços extras e padroniza nomes\n",
        "\n",
        "print('Dataframe com dados corrigidos:')\n",
        "print(df) # Exibe o DataFrame limpo"
      ]
    },
    {
      "cell_type": "markdown",
      "metadata": {
        "id": "0D8SYGq_fSDc"
      },
      "source": [
        "Exercício 2: Removendo Caracteres Especiais e Convertendo Números\n",
        "\n",
        "Você tem um dataset onde os preços dos produtos foram registrados com um símbolo de moeda.\n",
        "Remova os caracteres não numéricos e converta os valores para o tipo correto."
      ]
    },
    {
      "cell_type": "code",
      "execution_count": 2,
      "metadata": {},
      "outputs": [
        {
          "name": "stdout",
          "output_type": "stream",
          "text": [
            "Dataframe com dados incorretos:\n",
            "     Preco\n",
            "0  R$25500\n",
            "1  R$32500\n",
            "2  R$13500\n",
            "3  R$15200\n",
            "4  R$63500 \n",
            "\n",
            "Dataframe com dados corrigidos:\n",
            "   Preco\n",
            "0  25500\n",
            "1  32500\n",
            "2  13500\n",
            "3  15200\n",
            "4  63500\n"
          ]
        }
      ],
      "source": [
        "dados = {'Preco': ['R$25500', 'R$32500', 'R$13500', 'R$15200', 'R$63500' ]} # Dados incorretos de preço\n",
        "df = pd.DataFrame(dados)  # Cria um DataFrame a partir do dicionário\n",
        "\n",
        "print('Dataframe com dados incorretos:')\n",
        "print(df, '\\n') # Exibe o DataFrame com os dados incorretos\n",
        "\n",
        "df['Preco'] = df['Preco'].str.replace(r'[^0-9]', '', regex=True)  # Substituindo caracteres não numéricos por espaço\n",
        "df['Preco'] = df['Preco'].astype(int)  # Convertendo valores para o tipo inteiro\n",
        "\n",
        "print('Dataframe com dados corrigidos:')\n",
        "print(df) # Exibe o DataFrame com os dados corrigidos\n"
      ]
    },
    {
      "cell_type": "markdown",
      "metadata": {
        "id": "1MjffxmSfSeK"
      },
      "source": [
        "Exercício 3: Removendo Duplicatas\n",
        "\n",
        "Em um dataset de clientes, alguns registros aparecem duplicados.\n",
        "Remova os registros repetidos e exiba o DataFrame atualizado."
      ]
    },
    {
      "cell_type": "code",
      "execution_count": 3,
      "metadata": {},
      "outputs": [
        {
          "name": "stdout",
          "output_type": "stream",
          "text": [
            "Dataframe com dados incorretos:\n",
            "     Produtos\n",
            "0    Notebook\n",
            "1  Carregador\n",
            "2       Mouse\n",
            "3     Teclado\n",
            "4       Mouse\n",
            "5     Teclado\n",
            "6       Mouse\n",
            "7     Teclado\n",
            "Dataframe com dados corrigidos:\n",
            "     Produtos\n",
            "0    Notebook\n",
            "1  Carregador\n",
            "2       Mouse\n",
            "3     Teclado\n"
          ]
        }
      ],
      "source": [
        "dados = {'Produtos': ['Notebook','Carregador' ,'Mouse', 'Teclado', 'Mouse', 'Teclado', 'Mouse', 'Teclado' ]} # Dados incorretos de produtos\n",
        "df = pd.DataFrame(dados)  # Cria um DataFrame a partir do dicionário\n",
        "\n",
        "print('Dataframe com dados incorretos:')\n",
        "print(df) # Exibe o DataFrame com os dados incorretos\n",
        "\n",
        "\n",
        "df = df.drop_duplicates()  # Remove duplicatas\n",
        "\n",
        "print('Dataframe com dados corrigidos:')\n",
        "print(df) # Exibe o DataFrame com os dados corrigidos"
      ]
    },
    {
      "cell_type": "markdown",
      "metadata": {
        "id": "z2sE69nHfTCu"
      },
      "source": [
        "Exercício 4: Convertendo Tipos de Dados\n",
        "\n",
        "Uma coluna de idades foi armazenada erroneamente como texto.\n",
        "Converta essa coluna para tipo numérico."
      ]
    },
    {
      "cell_type": "code",
      "execution_count": 4,
      "metadata": {},
      "outputs": [
        {
          "name": "stdout",
          "output_type": "stream",
          "text": [
            "Dataframe com dados incorretos:\n",
            "     Idade\n",
            "0  25 anos\n",
            "1  32 anos\n",
            "2  13 anos\n",
            "3  15 anos\n",
            "4  63 anos\n",
            "Dataframe com dados corrigidos:\n",
            "  Idade\n",
            "0    25\n",
            "1    32\n",
            "2    13\n",
            "3    15\n",
            "4    63\n"
          ]
        }
      ],
      "source": [
        "dados = {'Idade': ['25 anos', '32 anos', '13 anos', '15 anos', '63 anos' ]} # Dados inc                \n",
        "df = pd.DataFrame(dados)  # Cria um DataFrame a partir do dicionário\n",
        "\n",
        "print('Dataframe com dados incorretos:')\n",
        "print(df) # Exibe o DataFrame com os dados incorretos\n",
        "\n",
        "df['Idade'] = df['Idade'].str.replace(r'[^0-9]', '', regex=True)  # Substituindo caracteres não numéricos por espaço\n",
        "\n",
        "print('Dataframe com dados corrigidos:')\n",
        "print(df) # Exibe o DataFrame com os dados corrigidos"
      ]
    },
    {
      "cell_type": "markdown",
      "metadata": {
        "id": "D59g0j4jfmPw"
      },
      "source": [
        "Exercício 5: Padronizando Formato de Datas\n",
        "\n",
        "Um dataset contém datas em diferentes formatos.\n",
        "Padronize todas as datas para o formato YYYY-MM-DD."
      ]
    },
    {
      "cell_type": "code",
      "execution_count": 5,
      "metadata": {},
      "outputs": [
        {
          "name": "stdout",
          "output_type": "stream",
          "text": [
            "Dataframe com dados incorretos:\n",
            "         Data\n",
            "0    1/1/2022\n",
            "1    2/2/2022\n",
            "2   12/3/2022\n",
            "3   4/09/2022\n",
            "4  05/12/2022\n",
            "Dataframe com dados corrigidos:\n",
            "        Data\n",
            "0 2022-01-01\n",
            "1 2022-02-02\n",
            "2 2022-12-03\n",
            "3 2022-04-09\n",
            "4 2022-05-12\n"
          ]
        }
      ],
      "source": [
        "dados = {'Data': ['1/1/2022', '2/2/2022', '12/3/2022', '4/09/2022', '05/12/2022' ]} # Dados incorretos de data\n",
        "df = pd.DataFrame(dados)  # Cria um DataFrame a partir do dicionário\n",
        "\n",
        "print('Dataframe com dados incorretos:')\n",
        "print(df) # Exibe o DataFrame com os dados incorretos\n",
        "\n",
        "df['Data'] = pd.to_datetime(df['Data'], format='%m/%d/%Y')  # Converte datas para o formato YYYY-MM-DD\n",
        "\n",
        "print('Dataframe com dados corrigidos:')\n",
        "print(df) # Exibe o DataFrame com os dados corrigidos"
      ]
    },
    {
      "cell_type": "markdown",
      "metadata": {
        "id": "-Oh1hbVQf0mM"
      },
      "source": [
        "Tratamento de Outliers"
      ]
    },
    {
      "cell_type": "markdown",
      "metadata": {
        "id": "4qD1hPHff4AA"
      },
      "source": [
        "Exercício 1: Identificando Outliers com Boxplot\n",
        "\n",
        "Gere um conjunto de dados e utilize um boxplot para visualizar possíveis outliers."
      ]
    },
    {
      "cell_type": "code",
      "execution_count": 6,
      "metadata": {},
      "outputs": [
        {
          "data": {
            "image/png": "[encoded data removed]",
            "text/plain": [
              "<Figure size 640x480 with 1 Axes>"
            ]
          },
          "metadata": {},
          "output_type": "display_data"
        }
      ],
      "source": [
        "import matplotlib.pyplot as plt # Importa a biblioteca Matplotlib, usada para visualizar gráficos.\n",
        "import pandas as pd  # Importa a biblioteca Pandas, usada para manipulação e análise de dados.\n",
        "import numpy as np  # Importa a biblioteca NumPy, usada para manipulação e cálculos numéricos.\n",
        "\n",
        "dados = np.array([25, 32, 13, 15, 63, 75, 80, 90, 60, 10, 130, 120, 10, 150, 100])\n",
        "df = pd.DataFrame(dados)  # Cria um DataFrame a partir do dicionário\n",
        "\n",
        "plt.boxplot(df) # Gera o boxplot\n",
        "plt.show() # Exibe o boxplot\n"
      ]
    },
    {
      "cell_type": "markdown",
      "metadata": {
        "id": "hQJQF0zbf6uA"
      },
      "source": [
        "Exercício 2: Removendo Outliers Utilizando o IQR\n",
        "\n",
        "Detecte e remova os outliers utilizando a técnica do intervalo interquartil (IQR)."
      ]
    },
    {
      "cell_type": "code",
      "execution_count": 7,
      "metadata": {},
      "outputs": [
        {
          "name": "stdout",
          "output_type": "stream",
          "text": [
            "Dados com outliers: [ 25  32  13  15  30  25  10  12  15  33 150 130 120]\n",
            "Dados sem outliers: [25 32 13 15 30 25 10 12 15 33]\n"
          ]
        },
        {
          "data": {
            "image/png": "[encoded data removed]",
            "text/plain": [
              "<Figure size 640x480 with 1 Axes>"
            ]
          },
          "metadata": {},
          "output_type": "display_data"
        },
        {
          "data": {
            "image/png": "[encoded data removed]",
            "text/plain": [
              "<Figure size 640x480 with 1 Axes>"
            ]
          },
          "metadata": {},
          "output_type": "display_data"
        }
      ],
      "source": [
        "dados = np.array([25, 32, 13, 15, 30,  25, 10, 12, 15, 33, 150, 130, 120])\n",
        "\n",
        "Q1 = np.percentile(dados, 25) # Calculando o primeiro quartil (Q1)\n",
        "Q3 = np.percentile(dados, 75) # Calculando o terceiro quartil (Q3)\n",
        "IQR = Q3 - Q1 # Calculando o intervalo interquartil (IQR)\n",
        "limite_inferior = Q1 - 1.5 * IQR # Calculando o limite inferior para outliers\n",
        "limite_superior = Q3 + 1.5 * IQR # Calculando o limite superior para outliers\n",
        "\n",
        "dados_filtrados = dados[(dados >= limite_inferior) & (dados <= limite_superior)] # Filtrando os dados\n",
        "print('Dados com outliers:', dados) # Imprimindo os dados com outliers\n",
        "print('Dados sem outliers:', dados_filtrados) # Imprimindo os dados sem outliers\n",
        "\n",
        "plt.boxplot(dados) # Plotando o boxplot dos dados\n",
        "plt.show() # Mostrando o boxplot dos dados sem outliers\n",
        "\n",
        "plt.boxplot(dados_filtrados) # Plotando o boxplot dos dados sem outliers\n",
        "plt.show() # Mostrando o boxplot dos dados sem outliers"
      ]
    },
    {
      "cell_type": "markdown",
      "metadata": {
        "id": "8rSbVjEZgAl2"
      },
      "source": [
        "Exercício 3: Substituindo Outliers pela Mediana\n",
        "\n",
        "Ao invés de remover os outliers, substitua-os pela mediana dos dados."
      ]
    },
    {
      "cell_type": "code",
      "execution_count": 8,
      "metadata": {},
      "outputs": [
        {
          "name": "stdout",
          "output_type": "stream",
          "text": [
            "DataFrame com dados corrigidos:\n",
            "    Idade\n",
            "0      25\n",
            "1      32\n",
            "2      13\n",
            "3      15\n",
            "4      30\n",
            "5      25\n",
            "6      10\n",
            "7      12\n",
            "8      15\n",
            "9      33\n",
            "10     20\n",
            "11     20\n",
            "12     20\n"
          ]
        }
      ],
      "source": [
        "# Dados iniciais\n",
        "dados = np.array([25, 32, 13, 15, 30, 25, 10, 12, 15, 33, 150, 130, 120]) # Dados incorretos\n",
        "df = pd.DataFrame(dados, columns=[\"Idade\"]) # Cria um DataFrame a partir do dicionário\n",
        "\n",
        "Q1 = np.percentile(df[\"Idade\"], 25) # Calculando o primeiro quartil (Q1)\n",
        "Q3 = np.percentile(df[\"Idade\"], 75) # Calculando o terceiro quartil (Q3)\n",
        "IQR = Q3 - Q1 # Calculando o intervalo interquartil (IQR)\n",
        "limite_inferior = Q1 - 1.5 * IQR # Calculando o limite inferior para outliers\n",
        "limite_superior = Q3 + 1.5 * IQR # Calculando o limite superior para outliers\n",
        "\n",
        "outliers = df[(df[\"Idade\"] < limite_inferior) | (df[\"Idade\"] > limite_superior)] # Identificando outliers\n",
        "mediana = np.median(df[(df[\"Idade\"] >= limite_inferior) & (df[\"Idade\"] <= limite_superior)][\"Idade\"]) # Calculando a mediana dos dados sem outliers\n",
        "df.loc[outliers.index, \"Idade\"] = mediana # Substituindo os outliers pela mediana\n",
        "\n",
        "print(\"DataFrame com dados corrigidos:\")\n",
        "print(df)\n",
        "\n",
        "\n"
      ]
    },
    {
      "cell_type": "markdown",
      "metadata": {
        "id": "8Rp1pBxkgF1a"
      },
      "source": [
        "Exercício 4: Detectando Outliers com Z-Score\n",
        "\n",
        "Utilize o Z-Score para identificar outliers."
      ]
    },
    {
      "cell_type": "code",
      "execution_count": 9,
      "metadata": {},
      "outputs": [
        {
          "name": "stdout",
          "output_type": "stream",
          "text": [
            "Outliers pelo Z-score: [172.7653792088247, 160.637242444453, 118.11075340626769]\n"
          ]
        }
      ],
      "source": [
        "from scipy.stats import zscore  # Importa a função z-score da biblioteca SciPy\n",
        "\n",
        "# Geração de dados normais\n",
        "dados_limpos = np.random.normal(loc=50, scale=10, size=100)\n",
        "\n",
        "# Adição de ruído (outliers)\n",
        "ruidos = np.random.uniform(low=100, high=200, size=5)\n",
        "\n",
        "# União dos dados normais com ruído\n",
        "dados_com_ruido = np.concatenate([dados_limpos, ruidos])\n",
        "\n",
        "# Criando um DataFrame\n",
        "df = pd.DataFrame(dados_com_ruido, columns=['Valores'])\n",
        "\n",
        "# Função para detectar outliers usando o método do z-score\n",
        "def detectar_outliers_zscore(dados, limiar=3):\n",
        "    z_scores = np.abs(zscore(dados))  # Calcula o Z-score absoluto\n",
        "    return dados[z_scores > limiar]    # Retorna os valores considerados outliers\n",
        "\n",
        "# Aplicando a função na coluna 'Valores' do DataFrame\n",
        "outliers_z = detectar_outliers_zscore(df['Valores'])\n",
        "\n",
        "# Exibindo os outliers detectados\n",
        "print(\"Outliers pelo Z-score:\", outliers_z.tolist())\n"
      ]
    },
    {
      "cell_type": "markdown",
      "metadata": {
        "id": "oHv1GsWkgKsA"
      },
      "source": [
        "Exercício 5: Aplicando Log Transform para Reduzir Impacto de Outliers\n",
        "\n",
        "Transforme os dados utilizando logaritmo para reduzir o impacto dos outliers."
      ]
    },
    {
      "cell_type": "code",
      "execution_count": 10,
      "metadata": {},
      "outputs": [
        {
          "name": "stdout",
          "output_type": "stream",
          "text": [
            "Valores originais:\n",
            "0    41.149082\n",
            "1    51.937219\n",
            "2    56.662547\n",
            "3    58.716259\n",
            "4    48.817151\n",
            "Name: Valores, dtype: float64\n",
            "\n",
            "Valores após Log Transform:\n",
            "0    3.741213\n",
            "1    3.969107\n",
            "2    4.054608\n",
            "3    4.089604\n",
            "4    3.908359\n",
            "Name: Log_Valores, dtype: float64\n"
          ]
        }
      ],
      "source": [
        "import numpy as np\n",
        "import pandas as pd\n",
        "from scipy.stats import zscore\n",
        "\n",
        "dados_limpos = np.random.normal(loc=50, scale=10, size=100)\n",
        "ruidos = np.random.uniform(low=100, high=200, size=5)\n",
        "dados_com_ruido = np.concatenate([dados_limpos, ruidos])\n",
        "\n",
        "\n",
        "df = pd.DataFrame(dados_com_ruido, columns=['Valores'])\n",
        "df['Log_Valores'] = np.log1p(df['Valores']) \n",
        "\n",
        "print(\"Valores originais:\")\n",
        "print(df['Valores'].head())\n",
        "\n",
        "print(\"\\nValores após Log Transform:\")\n",
        "print(df['Log_Valores'].head())\n"
      ]
    },
    {
      "cell_type": "markdown",
      "metadata": {
        "id": "s_OQ9D0wgNOq"
      },
      "source": [
        "Tratamento com Valores Ausentes"
      ]
    },
    {
      "cell_type": "markdown",
      "metadata": {
        "id": "ovUw6b_dgPIu"
      },
      "source": [
        "Exercício 1: Identificando Valores Ausentes\n",
        "\n",
        "Crie um DataFrame e identifique os valores ausentes."
      ]
    },
    {
      "cell_type": "code",
      "execution_count": 11,
      "metadata": {},
      "outputs": [
        {
          "name": "stdout",
          "output_type": "stream",
          "text": [
            "Valores ausentes por coluna:\n",
            "Cidade       1\n",
            "População    1\n",
            "dtype: int64\n"
          ]
        }
      ],
      "source": [
        "# Criando um DataFrame com valores ausentes\n",
        "dados = {'Cidade': ['Curitiba', 'Porto Alegre', 'Florianópolis', 'Recife', None],\n",
        "         'População': [1_900_000, 1_500_000, np.nan, 1_650_000, 800_000]}\n",
        "\n",
        "df = pd.DataFrame(dados)\n",
        "\n",
        "print(\"Valores ausentes por coluna:\")\n",
        "print(df.isnull().sum())  # Conta quantos valores ausentes existem em cada coluna\n"
      ]
    },
    {
      "cell_type": "markdown",
      "metadata": {
        "id": "aj4fafQ9gW5i"
      },
      "source": [
        "Exercício 2: Removendo Valores Ausentes\n",
        "\n",
        "Remova os registros que possuem valores ausentes."
      ]
    },
    {
      "cell_type": "code",
      "execution_count": 12,
      "metadata": {},
      "outputs": [
        {
          "name": "stdout",
          "output_type": "stream",
          "text": [
            "\n",
            "DataFrame sem valores ausentes:\n",
            "         Cidade  População\n",
            "0      Curitiba  1900000.0\n",
            "1  Porto Alegre  1500000.0\n",
            "3        Recife  1650000.0\n"
          ]
        }
      ],
      "source": [
        "# Criando um DataFrame com valores ausentes\n",
        "dados = {'Cidade': ['Curitiba', 'Porto Alegre', 'Florianópolis', 'Recife', None],\n",
        "         'População': [1_900_000, 1_500_000, np.nan, 1_650_000, 800_000]}\n",
        "df = pd.DataFrame(dados)\n",
        "\n",
        "df_sem_ausentes = df.dropna()  # Remove registros com valores ausentes\n",
        "print(\"\\nDataFrame sem valores ausentes:\")\n",
        "print(df_sem_ausentes)"
      ]
    },
    {
      "cell_type": "markdown",
      "metadata": {
        "id": "YDjXUg6-haFQ"
      },
      "source": [
        "Exercício 3: Substituindo Valores Ausentes pela Média\n",
        "\n",
        "Preencha os valores ausentes com a média da coluna."
      ]
    },
    {
      "cell_type": "code",
      "execution_count": 13,
      "metadata": {},
      "outputs": [
        {
          "name": "stdout",
          "output_type": "stream",
          "text": [
            "\n",
            "DataFrame com valores ausentes substituídos pela média:\n",
            "          Cidade  População\n",
            "0       Curitiba  1900000.0\n",
            "1   Porto Alegre  1500000.0\n",
            "2  Florianópolis  1462500.0\n",
            "3         Recife  1650000.0\n",
            "4           None   800000.0\n"
          ]
        },
        {
          "name": "stderr",
          "output_type": "stream",
          "text": [
            "C:\\Users\\84284528572\\AppData\\Local\\Temp\\ipykernel_9616\\3461876010.py:9: FutureWarning: A value is trying to be set on a copy of a DataFrame or Series through chained assignment using an inplace method.\n",
            "The behavior will change in pandas 3.0. This inplace method will never work because the intermediate object on which we are setting values always behaves as a copy.\n",
            "\n",
            "For example, when doing 'df[col].method(value, inplace=True)', try using 'df.method({col: value}, inplace=True)' or df[col] = df[col].method(value) instead, to perform the operation inplace on the original object.\n",
            "\n",
            "\n",
            "  df_media['População'].fillna(media_populacao, inplace=True)  # Preenche os valores ausentes com a média\n"
          ]
        }
      ],
      "source": [
        "# Criando um DataFrame com valores ausentes\n",
        "dados = {'Cidade': ['Curitiba', 'Porto Alegre', 'Florianópolis', 'Recife', None],\n",
        "         'População': [1_900_000, 1_500_000, np.nan, 1_650_000, 800_000]}\n",
        "\n",
        "df = pd.DataFrame(dados)\n",
        "\n",
        "df_media = df.copy()  # Criamos uma cópia para não modificar o original\n",
        "media_populacao = df_media['População'].mean(skipna=True)  # Calcula a média ignorando os NaN\n",
        "df_media['População'].fillna(media_populacao, inplace=True)  # Preenche os valores ausentes com a média\n",
        "print(\"\\nDataFrame com valores ausentes substituídos pela média:\")\n",
        "print(df_media)"
      ]
    },
    {
      "cell_type": "markdown",
      "metadata": {
        "id": "fo2cMtBOhdDN"
      },
      "source": [
        "Exercício 4: Substituindo Valores Ausentes com Interpolação\n",
        "\n",
        "Utilize a interpolação para preencher os valores ausentes."
      ]
    },
    {
      "cell_type": "code",
      "execution_count": 14,
      "metadata": {},
      "outputs": [
        {
          "name": "stdout",
          "output_type": "stream",
          "text": [
            "\n",
            "DataFrame com valores ausentes preenchidos por interpolação:\n",
            "          Cidade  População\n",
            "0       Curitiba  1900000.0\n",
            "1   Porto Alegre  1500000.0\n",
            "2  Florianópolis  1575000.0\n",
            "3         Recife  1650000.0\n",
            "4           None   800000.0\n"
          ]
        }
      ],
      "source": [
        "# Criando um DataFrame com valores ausentes\n",
        "dados = {'Cidade': ['Curitiba', 'Porto Alegre', 'Florianópolis', 'Recife', None],\n",
        "         'População': [1_900_000, 1_500_000, np.nan, 1_650_000, 800_000]}\n",
        "\n",
        "df = pd.DataFrame(dados)\n",
        "\n",
        "df_copia = df.copy()  # Criamos uma cópia para não modificar o original\n",
        "df_copia['População'] = df_copia['População'].interpolate()  # Preenche os valores ausentes usando interpolação\n",
        "print(\"\\nDataFrame com valores ausentes preenchidos por interpolação:\")\n",
        "print(df_copia)"
      ]
    },
    {
      "cell_type": "markdown",
      "metadata": {
        "id": "ornA3Hhbhf_2"
      },
      "source": [
        "Exercício 5: Substituindo Valores Ausentes com a Mediana\n",
        "\n",
        "Preencha os valores ausentes com a mediana da coluna."
      ]
    },
    {
      "cell_type": "code",
      "execution_count": 15,
      "metadata": {},
      "outputs": [
        {
          "name": "stdout",
          "output_type": "stream",
          "text": [
            "\n",
            "DataFrame com valores ausentes substituídos pela mediana:\n",
            "          Cidade  População\n",
            "0       Curitiba  1900000.0\n",
            "1   Porto Alegre  1500000.0\n",
            "2  Florianópolis  1575000.0\n",
            "3         Recife  1650000.0\n",
            "4           None   800000.0\n"
          ]
        },
        {
          "name": "stderr",
          "output_type": "stream",
          "text": [
            "C:\\Users\\84284528572\\AppData\\Local\\Temp\\ipykernel_9616\\3620899193.py:9: FutureWarning: A value is trying to be set on a copy of a DataFrame or Series through chained assignment using an inplace method.\n",
            "The behavior will change in pandas 3.0. This inplace method will never work because the intermediate object on which we are setting values always behaves as a copy.\n",
            "\n",
            "For example, when doing 'df[col].method(value, inplace=True)', try using 'df.method({col: value}, inplace=True)' or df[col] = df[col].method(value) instead, to perform the operation inplace on the original object.\n",
            "\n",
            "\n",
            "  df_mediana['População'].fillna(mediana_populacao, inplace=True)  # Preenche os valores ausentes com a mediana\n"
          ]
        }
      ],
      "source": [
        "# Criando um DataFrame com valores ausentes\n",
        "dados = {'Cidade': ['Curitiba', 'Porto Alegre', 'Florianópolis', 'Recife', None],\n",
        "         'População': [1_900_000, 1_500_000, np.nan, 1_650_000, 800_000]}\n",
        "\n",
        "df = pd.DataFrame(dados)\n",
        "\n",
        "df_mediana = df.copy()  # Criamos uma cópia para não modificar o original\n",
        "mediana_populacao = df_mediana['População'].median(skipna=True)  # Calcula a mediana ignorando os NaN\n",
        "df_mediana['População'].fillna(mediana_populacao, inplace=True)  # Preenche os valores ausentes com a mediana\n",
        "print(\"\\nDataFrame com valores ausentes substituídos pela mediana:\")\n",
        "print(df_mediana)"
      ]
    }
  ],
  "metadata": {
    "colab": {
      "provenance": []
    },
    "kernelspec": {
      "display_name": ".venv",
      "language": "python",
      "name": "python3"
    },
    "language_info": {
      "codemirror_mode": {
        "name": "ipython",
        "version": 3
      },
      "file_extension": ".py",
      "mimetype": "text/x-python",
      "name": "python",
      "nbconvert_exporter": "python",
      "pygments_lexer": "ipython3",
      "version": "3.11.9"
    }
  },
  "nbformat": 4,
  "nbformat_minor": 0
}
