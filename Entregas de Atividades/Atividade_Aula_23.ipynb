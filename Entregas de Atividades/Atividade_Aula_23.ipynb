{
 "cells": [
  {
   "cell_type": "markdown",
   "metadata": {
    "id": "2pzBmhALi3nl"
   },
   "source": [
    "# 📊 Exercícios Práticos: Coleta e Preparação de Dados com APIs\n",
    "\n",
    "## Objetivo:\n",
    "- Explorar diferentes APIs públicas.\n",
    "- Coletar, processar e armazenar dados usando Pandas.\n",
    "- Praticar manipulação de dados e tratamento de erros.\n",
    "---\n"
   ]
  },
  {
   "cell_type": "markdown",
   "metadata": {
    "id": "mmOKEGeNi3nm"
   },
   "source": [
    "## 📌 Exercício 1: Explorando Outra API\n",
    "\n",
    "**Tarefa:**\n",
    "- Escolha uma API pública diferente do Open-Meteo.\n",
    "- Faça uma requisição e converta os dados em um DataFrame.\n",
    "- Exiba as primeiras 5 linhas.\n",
    "\n",
    "**Sugestões de APIs:**\n",
    "1. NASA API: https://api.nasa.gov/\n",
    "2. The Dog API: https://thedogapi.com/\n",
    "3. PokéAPI: https://pokeapi.co/\n",
    "\n",
    "**Dicas:**\n",
    "- Utilize `requests.get()` para obter os dados.\n",
    "- Extraia apenas os campos mais relevantes do JSON."
   ]
  },
  {
   "cell_type": "code",
   "execution_count": 12,
   "metadata": {
    "id": "8Q-_Oc8KYT69"
   },
   "outputs": [
    {
     "data": {
      "text/html": [
       "<div>\n",
       "<style scoped>\n",
       "    .dataframe tbody tr th:only-of-type {\n",
       "        vertical-align: middle;\n",
       "    }\n",
       "\n",
       "    .dataframe tbody tr th {\n",
       "        vertical-align: top;\n",
       "    }\n",
       "\n",
       "    .dataframe thead th {\n",
       "        text-align: right;\n",
       "    }\n",
       "</style>\n",
       "<table border=\"1\" class=\"dataframe\">\n",
       "  <thead>\n",
       "    <tr style=\"text-align: right;\">\n",
       "      <th></th>\n",
       "      <th>weight</th>\n",
       "      <th>height</th>\n",
       "      <th>id</th>\n",
       "      <th>name</th>\n",
       "      <th>bred_for</th>\n",
       "      <th>breed_group</th>\n",
       "      <th>life_span</th>\n",
       "      <th>temperament</th>\n",
       "      <th>origin</th>\n",
       "      <th>reference_image_id</th>\n",
       "      <th>country_code</th>\n",
       "      <th>description</th>\n",
       "      <th>history</th>\n",
       "    </tr>\n",
       "  </thead>\n",
       "  <tbody>\n",
       "    <tr>\n",
       "      <th>0</th>\n",
       "      <td>{'imperial': '6 - 13', 'metric': '3 - 6'}</td>\n",
       "      <td>{'imperial': '9 - 11.5', 'metric': '23 - 29'}</td>\n",
       "      <td>1</td>\n",
       "      <td>Affenpinscher</td>\n",
       "      <td>Small rodent hunting, lapdog</td>\n",
       "      <td>Toy</td>\n",
       "      <td>10 - 12 years</td>\n",
       "      <td>Stubborn, Curious, Playful, Adventurous, Activ...</td>\n",
       "      <td>Germany, France</td>\n",
       "      <td>BJa4kxc4X</td>\n",
       "      <td>NaN</td>\n",
       "      <td>NaN</td>\n",
       "      <td>NaN</td>\n",
       "    </tr>\n",
       "    <tr>\n",
       "      <th>1</th>\n",
       "      <td>{'imperial': '50 - 60', 'metric': '23 - 27'}</td>\n",
       "      <td>{'imperial': '25 - 27', 'metric': '64 - 69'}</td>\n",
       "      <td>2</td>\n",
       "      <td>Afghan Hound</td>\n",
       "      <td>Coursing and hunting</td>\n",
       "      <td>Hound</td>\n",
       "      <td>10 - 13 years</td>\n",
       "      <td>Aloof, Clownish, Dignified, Independent, Happy</td>\n",
       "      <td>Afghanistan, Iran, Pakistan</td>\n",
       "      <td>hMyT4CDXR</td>\n",
       "      <td>AG</td>\n",
       "      <td>NaN</td>\n",
       "      <td>NaN</td>\n",
       "    </tr>\n",
       "    <tr>\n",
       "      <th>2</th>\n",
       "      <td>{'imperial': '44 - 66', 'metric': '20 - 30'}</td>\n",
       "      <td>{'imperial': '30', 'metric': '76'}</td>\n",
       "      <td>3</td>\n",
       "      <td>African Hunting Dog</td>\n",
       "      <td>A wild pack animal</td>\n",
       "      <td>NaN</td>\n",
       "      <td>11 years</td>\n",
       "      <td>Wild, Hardworking, Dutiful</td>\n",
       "      <td></td>\n",
       "      <td>rkiByec47</td>\n",
       "      <td>NaN</td>\n",
       "      <td>NaN</td>\n",
       "      <td>NaN</td>\n",
       "    </tr>\n",
       "    <tr>\n",
       "      <th>3</th>\n",
       "      <td>{'imperial': '40 - 65', 'metric': '18 - 29'}</td>\n",
       "      <td>{'imperial': '21 - 23', 'metric': '53 - 58'}</td>\n",
       "      <td>4</td>\n",
       "      <td>Airedale Terrier</td>\n",
       "      <td>Badger, otter hunting</td>\n",
       "      <td>Terrier</td>\n",
       "      <td>10 - 13 years</td>\n",
       "      <td>Outgoing, Friendly, Alert, Confident, Intellig...</td>\n",
       "      <td>United Kingdom, England</td>\n",
       "      <td>1-7cgoZSh</td>\n",
       "      <td>NaN</td>\n",
       "      <td>NaN</td>\n",
       "      <td>NaN</td>\n",
       "    </tr>\n",
       "    <tr>\n",
       "      <th>4</th>\n",
       "      <td>{'imperial': '90 - 120', 'metric': '41 - 54'}</td>\n",
       "      <td>{'imperial': '28 - 34', 'metric': '71 - 86'}</td>\n",
       "      <td>5</td>\n",
       "      <td>Akbash Dog</td>\n",
       "      <td>Sheep guarding</td>\n",
       "      <td>Working</td>\n",
       "      <td>10 - 12 years</td>\n",
       "      <td>Loyal, Independent, Intelligent, Brave</td>\n",
       "      <td></td>\n",
       "      <td>26pHT3Qk7</td>\n",
       "      <td>NaN</td>\n",
       "      <td>NaN</td>\n",
       "      <td>NaN</td>\n",
       "    </tr>\n",
       "  </tbody>\n",
       "</table>\n",
       "</div>"
      ],
      "text/plain": [
       "                                          weight  \\\n",
       "0      {'imperial': '6 - 13', 'metric': '3 - 6'}   \n",
       "1   {'imperial': '50 - 60', 'metric': '23 - 27'}   \n",
       "2   {'imperial': '44 - 66', 'metric': '20 - 30'}   \n",
       "3   {'imperial': '40 - 65', 'metric': '18 - 29'}   \n",
       "4  {'imperial': '90 - 120', 'metric': '41 - 54'}   \n",
       "\n",
       "                                          height  id                 name  \\\n",
       "0  {'imperial': '9 - 11.5', 'metric': '23 - 29'}   1        Affenpinscher   \n",
       "1   {'imperial': '25 - 27', 'metric': '64 - 69'}   2         Afghan Hound   \n",
       "2             {'imperial': '30', 'metric': '76'}   3  African Hunting Dog   \n",
       "3   {'imperial': '21 - 23', 'metric': '53 - 58'}   4     Airedale Terrier   \n",
       "4   {'imperial': '28 - 34', 'metric': '71 - 86'}   5           Akbash Dog   \n",
       "\n",
       "                       bred_for breed_group      life_span  \\\n",
       "0  Small rodent hunting, lapdog         Toy  10 - 12 years   \n",
       "1          Coursing and hunting       Hound  10 - 13 years   \n",
       "2            A wild pack animal         NaN       11 years   \n",
       "3         Badger, otter hunting     Terrier  10 - 13 years   \n",
       "4                Sheep guarding     Working  10 - 12 years   \n",
       "\n",
       "                                         temperament  \\\n",
       "0  Stubborn, Curious, Playful, Adventurous, Activ...   \n",
       "1     Aloof, Clownish, Dignified, Independent, Happy   \n",
       "2                         Wild, Hardworking, Dutiful   \n",
       "3  Outgoing, Friendly, Alert, Confident, Intellig...   \n",
       "4             Loyal, Independent, Intelligent, Brave   \n",
       "\n",
       "                        origin reference_image_id country_code description  \\\n",
       "0              Germany, France          BJa4kxc4X          NaN         NaN   \n",
       "1  Afghanistan, Iran, Pakistan          hMyT4CDXR           AG         NaN   \n",
       "2                                       rkiByec47          NaN         NaN   \n",
       "3      United Kingdom, England          1-7cgoZSh          NaN         NaN   \n",
       "4                                       26pHT3Qk7          NaN         NaN   \n",
       "\n",
       "  history  \n",
       "0     NaN  \n",
       "1     NaN  \n",
       "2     NaN  \n",
       "3     NaN  \n",
       "4     NaN  "
      ]
     },
     "execution_count": 12,
     "metadata": {},
     "output_type": "execute_result"
    }
   ],
   "source": [
    "import pandas as pd\n",
    "\n",
    "import requests\n",
    "#Exercício 1\n",
    "url = \"https://api.thedogapi.com/v1/breeds\"\n",
    "\n",
    "response = requests.get(url)\n",
    "\n",
    "dados = response.json()\n",
    "df = pd.DataFrame(dados)\n",
    "df.head()\n"
   ]
  },
  {
   "cell_type": "markdown",
   "metadata": {
    "id": "UFE0BKSii3nn"
   },
   "source": [
    "## 📌 Exercício 2: Coletando e Filtrando Dados Climáticos\n",
    "\n",
    "**Tarefa:**\n",
    "- Modifique a requisição para obter **dados diários** do Open-Meteo.\n",
    "- Filtre os dados para uma **data específica**.\n",
    "- Salve a temperatura em um CSV.\n",
    "\n",
    "\n",
    "### Dicas:\n",
    "\n",
    "- Filtre o DataFrame para uma data específica usando `.str.startswith()`.\n",
    "- Separe somente os dados dos próximo dois dias.\n",
    "- Utilize `to_csv()` para salvar os dados.\n",
    "\"\"\"\n"
   ]
  },
  {
   "cell_type": "code",
   "execution_count": null,
   "metadata": {
    "id": "Tr7EJpjvi3nn"
   },
   "outputs": [
    {
     "name": "stdout",
     "output_type": "stream",
     "text": [
      "                latitude  longitude  generationtime_ms  utc_offset_seconds  \\\n",
      "time               -23.5      -46.5           0.023603              -10800   \n",
      "temperature_2m     -23.5      -46.5           0.023603              -10800   \n",
      "\n",
      "                         timezone timezone_abbreviation  elevation  \\\n",
      "time            America/Sao_Paulo                 GMT-3      737.0   \n",
      "temperature_2m  America/Sao_Paulo                 GMT-3      737.0   \n",
      "\n",
      "               hourly_units                                             hourly  \n",
      "time                iso8601  [2022-01-01T00:00, 2022-01-01T01:00, 2022-01-0...  \n",
      "temperature_2m           °C  [None, None, None, None, None, None, None, Non...  \n"
     ]
    }
   ],
   "source": [
    "import pandas as pd\n",
    "import requests\n",
    "DataInicial = \"2022-01-01\"\n",
    "DataFinal = \"2022-01-03\"\n",
    "def fetch_weather_data():\n",
    "    api_url = f\"https://api.open-meteo.com/v1/forecast?latitude=-23.55&longitude=-46.63&&start_date={DataInicial}&end_date={DataFinal}&hourly=temperature_2m&timezone=America/Sao_Paulo\"\n",
    "    response = requests.get(api_url)\n",
    "    dados = response.json()\n",
    "    df = pd.DataFrame(dados)\n",
    "    print(df)\n",
    "    return df\n",
    "\n",
    "df = fetch_weather_data()\n",
    "df.to_csv(\"clima.csv\", index=False)\n",
    "\n"
   ]
  },
  {
   "cell_type": "markdown",
   "metadata": {
    "id": "_QM1rThMi3nn"
   },
   "source": [
    "## 📌 Exercício 3: Lidando com Erros de API\n",
    "\n",
    "**Tarefa:**\n",
    "- Faça uma requisição errada para a API (ex.: remova `latitude`).\n",
    "- Imprima o código de status HTTP e a mensagem de erro.\n",
    "- Ajuste a requisição até obter sucesso.\n",
    "\n",
    "### Dicas:\n",
    "- Utilize `response.status_code` para verificar erros.\n",
    "- Teste modificar a URL propositalmente para entender os erros.\n",
    "\"\"\""
   ]
  },
  {
   "cell_type": "code",
   "execution_count": 67,
   "metadata": {
    "id": "eB82dc7Ii3nn"
   },
   "outputs": [
    {
     "name": "stdout",
     "output_type": "stream",
     "text": [
      "Estatus do código: 200\n",
      "Estatus do código: 400\n"
     ]
    }
   ],
   "source": [
    "\n",
    "def test_api_error():\n",
    "\n",
    "    api_url = f\"https://api.open-meteo.com/v1/forecast?longitude=&daily=temperature_2m_max&timezone=America/Sao_Paulo\"  # Erro proposital\n",
    "    response = requests.get(api_url)\n",
    "    print(f'Estatus do código: {response.status_code}')\n",
    "\n",
    "    api_url = f\"https://api.open-meteo.com/v1/forecast?longitude=-23.55&daily=temperature_2m_max&timezone=America/Sao_Paulo\"  # Erro proposital\n",
    "    response = requests.get(api_url)\n",
    "    print(f'Estatus do código: {response.status_code}')\n",
    "        \n",
    "test_api_error()"
   ]
  },
  {
   "cell_type": "markdown",
   "metadata": {
    "id": "aFInVgVCi3nn"
   },
   "source": [
    "## 📌 Exercício 4: Automatizando Múltiplas Requisições\n",
    "\n",
    "**Tarefa:**\n",
    "- Modifique a função `fetch_weather_data()` para coletar dados de múltiplas cidades.\n",
    "- Salve um CSV separado para cada cidade.\n",
    "\n",
    "**Dicas**\n",
    "- Utilize um loop for para iterar sobre as localizações diferentes\n",
    "- Crie URLs dinâmicas com `f\"string\"`.\n",
    "\"\"\""
   ]
  },
  {
   "cell_type": "code",
   "execution_count": null,
   "metadata": {
    "id": "VZbXr6n_i3no"
   },
   "outputs": [
    {
     "name": "stdout",
     "output_type": "stream",
     "text": [
      "Arquivo Salvo: Sao_Paulo_clima.csv\n",
      "Arquivo Salvo: New_York_clima.csv\n",
      "Arquivo Salvo: London_clima.csv\n"
     ]
    }
   ],
   "source": [
    "def fetch_multiple_locations():\n",
    "    cities = [\n",
    "        {\"lat\": -23.55, \"lon\": -46.63, \"name\": \"Sao_Paulo\"},\n",
    "        {\"lat\": 40.71, \"lon\": -74.01, \"name\": \"New_York\"},\n",
    "        {\"lat\": 51.51, \"lon\": -0.13, \"name\": \"London\"}\n",
    "    ]\n",
    "    #### Acessar os dados das 3 cidades\n",
    "    for city in cities:\n",
    "        api_url = f\"https://api.open-meteo.com/v1/forecast?latitude={city['lat']}&longitude={city['lon']}&hourly=temperature_2m&timezone=America/Sao_Paulo\"\n",
    "        response = requests.get(api_url)\n",
    "        dados = response.json()\n",
    "        df = pd.DataFrame(dados)\n",
    "        df.to_csv(f\"{city['name']}_clima.csv\", index=False)\n",
    "        print(f\"Arquivo Salvo em: {city['name']}_clima.csv\")\n",
    "\n",
    "fetch_multiple_locations()"
   ]
  },
  {
   "cell_type": "markdown",
   "metadata": {
    "id": "jFl46E5pi3no"
   },
   "source": [
    "## 📌 Exercício 5: Desafio Aberto\n",
    "\n",
    "**Tarefa:**\n",
    "- Encontre uma API pública e colete dados relevantes.\n",
    "- Aplique pelo menos **duas transformações** nos dados (ex.: filtrar, remover nulos, converter formatos).\n",
    "- Salve o resultado em um arquivo JSON.\n",
    "\n",
    "### Dicas:\n",
    "- Explore APIs de seu interesse (esportes, música, astronomia, etc.).\n",
    "- Utilize `.dropna()`, `.filter()`, ou `.groupby()` para transformar os dados.\n",
    "- Salve usando `to_json()`."
   ]
  },
  {
   "cell_type": "code",
   "execution_count": null,
   "metadata": {
    "id": "Ow----3Pi3no"
   },
   "outputs": [
    {
     "ename": "KeyError",
     "evalue": "'comments'",
     "output_type": "error",
     "traceback": [
      "\u001b[1;31m---------------------------------------------------------------------------\u001b[0m",
      "\u001b[1;31mKeyError\u001b[0m                                  Traceback (most recent call last)",
      "File \u001b[1;32mc:\\Users\\84284528572\\OneDrive\\GitHub\\Terceiro_Semestre_Ciencia_de_Dados\\Projeto_Integrador\\.venv\\Lib\\site-packages\\pandas\\core\\indexes\\base.py:3805\u001b[0m, in \u001b[0;36mIndex.get_loc\u001b[1;34m(self, key)\u001b[0m\n\u001b[0;32m   3804\u001b[0m \u001b[38;5;28;01mtry\u001b[39;00m:\n\u001b[1;32m-> 3805\u001b[0m     \u001b[38;5;28;01mreturn\u001b[39;00m \u001b[38;5;28;43mself\u001b[39;49m\u001b[38;5;241;43m.\u001b[39;49m\u001b[43m_engine\u001b[49m\u001b[38;5;241;43m.\u001b[39;49m\u001b[43mget_loc\u001b[49m\u001b[43m(\u001b[49m\u001b[43mcasted_key\u001b[49m\u001b[43m)\u001b[49m\n\u001b[0;32m   3806\u001b[0m \u001b[38;5;28;01mexcept\u001b[39;00m \u001b[38;5;167;01mKeyError\u001b[39;00m \u001b[38;5;28;01mas\u001b[39;00m err:\n",
      "File \u001b[1;32mindex.pyx:167\u001b[0m, in \u001b[0;36mpandas._libs.index.IndexEngine.get_loc\u001b[1;34m()\u001b[0m\n",
      "File \u001b[1;32mindex.pyx:196\u001b[0m, in \u001b[0;36mpandas._libs.index.IndexEngine.get_loc\u001b[1;34m()\u001b[0m\n",
      "File \u001b[1;32mpandas\\\\_libs\\\\hashtable_class_helper.pxi:7081\u001b[0m, in \u001b[0;36mpandas._libs.hashtable.PyObjectHashTable.get_item\u001b[1;34m()\u001b[0m\n",
      "File \u001b[1;32mpandas\\\\_libs\\\\hashtable_class_helper.pxi:7089\u001b[0m, in \u001b[0;36mpandas._libs.hashtable.PyObjectHashTable.get_item\u001b[1;34m()\u001b[0m\n",
      "\u001b[1;31mKeyError\u001b[0m: 'comments'",
      "\nThe above exception was the direct cause of the following exception:\n",
      "\u001b[1;31mKeyError\u001b[0m                                  Traceback (most recent call last)",
      "Cell \u001b[1;32mIn[71], line 22\u001b[0m\n\u001b[0;32m     18\u001b[0m     \u001b[38;5;28mprint\u001b[39m(\u001b[38;5;124m\"\u001b[39m\u001b[38;5;124mArquivo Salvo em: Arquivo_Modificado.json\u001b[39m\u001b[38;5;124m\"\u001b[39m)\n\u001b[0;32m     20\u001b[0m     \u001b[38;5;28;01mreturn\u001b[39;00m df\n\u001b[1;32m---> 22\u001b[0m \u001b[43mopen_ended_exercise\u001b[49m\u001b[43m(\u001b[49m\u001b[43m)\u001b[49m\n",
      "Cell \u001b[1;32mIn[71], line 8\u001b[0m, in \u001b[0;36mopen_ended_exercise\u001b[1;34m()\u001b[0m\n\u001b[0;32m      5\u001b[0m df \u001b[38;5;241m=\u001b[39m pd\u001b[38;5;241m.\u001b[39mDataFrame(response\u001b[38;5;241m.\u001b[39mjson())\n\u001b[0;32m      7\u001b[0m \u001b[38;5;66;03m# Filtrando posts com mais de 100 comentarios\u001b[39;00m\n\u001b[1;32m----> 8\u001b[0m df \u001b[38;5;241m=\u001b[39m df[\u001b[43mdf\u001b[49m\u001b[43m[\u001b[49m\u001b[38;5;124;43m\"\u001b[39;49m\u001b[38;5;124;43mcomments\u001b[39;49m\u001b[38;5;124;43m\"\u001b[39;49m\u001b[43m]\u001b[49m\u001b[38;5;241m.\u001b[39mapply(\u001b[38;5;28mlen\u001b[39m) \u001b[38;5;241m>\u001b[39m \u001b[38;5;241m100\u001b[39m]\n\u001b[0;32m     10\u001b[0m \u001b[38;5;66;03m# Removendo posts sem título\u001b[39;00m\n\u001b[0;32m     11\u001b[0m df \u001b[38;5;241m=\u001b[39m df\u001b[38;5;241m.\u001b[39mdropna(subset\u001b[38;5;241m=\u001b[39m[\u001b[38;5;124m\"\u001b[39m\u001b[38;5;124mtitle\u001b[39m\u001b[38;5;124m\"\u001b[39m])\n",
      "File \u001b[1;32mc:\\Users\\84284528572\\OneDrive\\GitHub\\Terceiro_Semestre_Ciencia_de_Dados\\Projeto_Integrador\\.venv\\Lib\\site-packages\\pandas\\core\\frame.py:4102\u001b[0m, in \u001b[0;36mDataFrame.__getitem__\u001b[1;34m(self, key)\u001b[0m\n\u001b[0;32m   4100\u001b[0m \u001b[38;5;28;01mif\u001b[39;00m \u001b[38;5;28mself\u001b[39m\u001b[38;5;241m.\u001b[39mcolumns\u001b[38;5;241m.\u001b[39mnlevels \u001b[38;5;241m>\u001b[39m \u001b[38;5;241m1\u001b[39m:\n\u001b[0;32m   4101\u001b[0m     \u001b[38;5;28;01mreturn\u001b[39;00m \u001b[38;5;28mself\u001b[39m\u001b[38;5;241m.\u001b[39m_getitem_multilevel(key)\n\u001b[1;32m-> 4102\u001b[0m indexer \u001b[38;5;241m=\u001b[39m \u001b[38;5;28;43mself\u001b[39;49m\u001b[38;5;241;43m.\u001b[39;49m\u001b[43mcolumns\u001b[49m\u001b[38;5;241;43m.\u001b[39;49m\u001b[43mget_loc\u001b[49m\u001b[43m(\u001b[49m\u001b[43mkey\u001b[49m\u001b[43m)\u001b[49m\n\u001b[0;32m   4103\u001b[0m \u001b[38;5;28;01mif\u001b[39;00m is_integer(indexer):\n\u001b[0;32m   4104\u001b[0m     indexer \u001b[38;5;241m=\u001b[39m [indexer]\n",
      "File \u001b[1;32mc:\\Users\\84284528572\\OneDrive\\GitHub\\Terceiro_Semestre_Ciencia_de_Dados\\Projeto_Integrador\\.venv\\Lib\\site-packages\\pandas\\core\\indexes\\base.py:3812\u001b[0m, in \u001b[0;36mIndex.get_loc\u001b[1;34m(self, key)\u001b[0m\n\u001b[0;32m   3807\u001b[0m     \u001b[38;5;28;01mif\u001b[39;00m \u001b[38;5;28misinstance\u001b[39m(casted_key, \u001b[38;5;28mslice\u001b[39m) \u001b[38;5;129;01mor\u001b[39;00m (\n\u001b[0;32m   3808\u001b[0m         \u001b[38;5;28misinstance\u001b[39m(casted_key, abc\u001b[38;5;241m.\u001b[39mIterable)\n\u001b[0;32m   3809\u001b[0m         \u001b[38;5;129;01mand\u001b[39;00m \u001b[38;5;28many\u001b[39m(\u001b[38;5;28misinstance\u001b[39m(x, \u001b[38;5;28mslice\u001b[39m) \u001b[38;5;28;01mfor\u001b[39;00m x \u001b[38;5;129;01min\u001b[39;00m casted_key)\n\u001b[0;32m   3810\u001b[0m     ):\n\u001b[0;32m   3811\u001b[0m         \u001b[38;5;28;01mraise\u001b[39;00m InvalidIndexError(key)\n\u001b[1;32m-> 3812\u001b[0m     \u001b[38;5;28;01mraise\u001b[39;00m \u001b[38;5;167;01mKeyError\u001b[39;00m(key) \u001b[38;5;28;01mfrom\u001b[39;00m\u001b[38;5;250m \u001b[39m\u001b[38;5;21;01merr\u001b[39;00m\n\u001b[0;32m   3813\u001b[0m \u001b[38;5;28;01mexcept\u001b[39;00m \u001b[38;5;167;01mTypeError\u001b[39;00m:\n\u001b[0;32m   3814\u001b[0m     \u001b[38;5;66;03m# If we have a listlike key, _check_indexing_error will raise\u001b[39;00m\n\u001b[0;32m   3815\u001b[0m     \u001b[38;5;66;03m#  InvalidIndexError. Otherwise we fall through and re-raise\u001b[39;00m\n\u001b[0;32m   3816\u001b[0m     \u001b[38;5;66;03m#  the TypeError.\u001b[39;00m\n\u001b[0;32m   3817\u001b[0m     \u001b[38;5;28mself\u001b[39m\u001b[38;5;241m.\u001b[39m_check_indexing_error(key)\n",
      "\u001b[1;31mKeyError\u001b[0m: 'comments'"
     ]
    }
   ],
   "source": [
    "def open_ended_exercise():\n",
    "    # Substitua essa API por uma de sua escolha!\n",
    "    api_url = \"https://jsonplaceholder.typicode.com/posts\"\n",
    "    response = requests.get(api_url)\n",
    "    df = pd.DataFrame(response.json())\n",
    "    \n",
    "    df = df[df[\"comments\"].apply(len) > 100]\n",
    "    \n",
    "    df = df.dropna(subset=[\"title\"])\n",
    "    \n",
    "    df[\"created_at\"] = pd.to_datetime(df[\"created_at\"])\n",
    "    \n",
    "    df.to_json(\"Arquivo_Modificado.json\", index=False)\n",
    "    print(\"Arquivo Salvo em: Arquivo_Modificado.json\")\n",
    "\n",
    "    return df\n",
    "\n",
    "open_ended_exercise()\n"
   ]
  }
 ],
 "metadata": {
  "colab": {
   "provenance": []
  },
  "kernelspec": {
   "display_name": ".venv",
   "language": "python",
   "name": "python3"
  },
  "language_info": {
   "codemirror_mode": {
    "name": "ipython",
    "version": 3
   },
   "file_extension": ".py",
   "mimetype": "text/x-python",
   "name": "python",
   "nbconvert_exporter": "python",
   "pygments_lexer": "ipython3",
   "version": "3.11.9"
  }
 },
 "nbformat": 4,
 "nbformat_minor": 0
}
