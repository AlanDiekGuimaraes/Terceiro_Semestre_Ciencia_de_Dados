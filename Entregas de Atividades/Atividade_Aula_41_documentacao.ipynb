{
 "cells": [
  {
   "cell_type": "markdown",
   "metadata": {
    "id": "GkRyMowfpsqM"
   },
   "source": [
    "**Objetivos da aula:**\n",
    "1. Compreender os fundamentos do NumPy e sua importância no ecossistema Python\n",
    "2. Dominar a criação e manipulação de arrays multidimensionais\n",
    "3. Aprender operações matemáticas e de álgebra linear com NumPy\n",
    "4. Aplicar técnicas de broadcasting e indexação avançada\n",
    "5. Integrar NumPy com outras bibliotecas científicas\n",
    "\n",
    "**Carga horária estimada:** 4 horas (teoria + prática)\n",
    "\n",
    "**Pré-requisitos:**\n",
    "- Python intermediário (listas, dicionários, funções)\n",
    "- Noções básicas de álgebra linear\n",
    "- Acesso ao Google Colab"
   ]
  },
  {
   "cell_type": "markdown",
   "metadata": {
    "id": "eWlCL5YAp6Tu"
   },
   "source": [
    "## 1. Introdução Teórica ao NumPy\n",
    "\n",
    "### 1.1 O que é NumPy?\n",
    "NumPy (Numerical Python) é a biblioteca fundamental para computação científica em Python. Fornece:\n",
    "\n",
    "- Objeto **ndarray** multidimensional eficiente\n",
    "- Funções matemáticas otimizadas\n",
    "- Operações de álgebra linear, transformada de Fourier e números aleatórios\n",
    "- Integração com código C/C++/Fortran\n",
    "\n",
    "### 1.2 Por que usar NumPy?\n",
    "\n",
    "**Vantagens sobre listas Python:**\n",
    "- Velocidade: Operações vetorizadas (implementadas em C)\n",
    "- Menos memória: Armazena dados de forma contígua\n",
    "- Sintaxe concisa: Operações complexas com poucas linhas\n",
    "- Base para outras bibliotecas (Pandas, SciPy, scikit-learn)\n",
    "\n",
    "### 1.3 Arquitetura do NumPy\n",
    "\n",
    "Principais componentes:\n",
    "- **ndarray**: Estrutura de dados multidimensional\n",
    "- **Ufuncs**: Funções universais para operações vetorizadas\n",
    "- **DTypes**: Sistema de tipos numéricos flexível\n",
    "- **Broadcasting**: Regras para operações entre arrays de diferentes shapes\n",
    "\n",
    "### 1.4 NumPy vs Listas Python\n",
    "Para entender por que o NumPy é mais eficiente que listas tradicionais, vejamos um exemplo de soma de elementos:\n",
    "\n",
    "#### Com listas Python:\n",
    "```python\n",
    "lista = [1, 2, 3, 4, 5]\n",
    "resultado = [x + 10 for x in lista]\n",
    "print(resultado)  # Saída: [11, 12, 13, 14, 15]\n",
    "```\n",
    "\n",
    "#### Com NumPy:\n",
    "```python\n",
    "import numpy as np\n",
    "arr = np.array([1, 2, 3, 4, 5])\n",
    "resultado = arr + 10\n",
    "print(resultado)  # Saída: [11 12 13 14 15]\n",
    "```\n",
    "O NumPy executa a operação diretamente em todos os elementos do array, sem precisar de laços explícitos, tornando a execução mais rápida e eficiente."
   ]
  },
  {
   "cell_type": "markdown",
   "metadata": {
    "id": "hifMEyddqPv0"
   },
   "source": [
    "## 2. Configuração Inicial e Primeiros Passos\n",
    "\n",
    "### Instalando e Importando o NumPy\n",
    "Para garantir que o NumPy está instalado, utilize:\n",
    "```python\n",
    "!pip install numpy\n",
    "```\n",
    "Depois, importe a biblioteca com:\n",
    "```python\n",
    "import numpy as np\n",
    "```\n",
    "\n",
    "### 2.1 Como instalar o NumPy\n",
    "Se você estiver usando um ambiente local, instale o NumPy com:\n",
    "```python\n",
    "!pip install numpy\n",
    "```\n",
    "Se estiver no Google Colab, ele já vem pré-instalado.\n",
    "\n",
    "### 2.2 Importando o NumPy\n",
    "```python\n",
    "import numpy as np\n",
    "print(np.__version__)  # Verifica a versão instalada\n",
    "```"
   ]
  },
  {
   "cell_type": "code",
   "execution_count": 1,
   "metadata": {
    "id": "vxtF9j-yqUlg"
   },
   "outputs": [
    {
     "name": "stdout",
     "output_type": "stream",
     "text": [
      "NumPy versão: 1.26.4\n"
     ]
    }
   ],
   "source": [
    "import numpy as np\n",
    "import matplotlib.pyplot as plt\n",
    "from timeit import timeit\n",
    "\n",
    "# Verificando a versão\n",
    "print(f\"NumPy versão: {np.__version__}\")"
   ]
  },
  {
   "cell_type": "markdown",
   "metadata": {
    "id": "091tNMQlqedu"
   },
   "source": [
    "## 3. Criando Arrays NumPy\n",
    "\n",
    "### 3.1 Métodos Básicos de Criação\n",
    "\n",
    "### Exemplos de Criação de Arrays\n",
    "Criando um array unidimensional:\n",
    "```python\n",
    "arr1 = np.array([1, 2, 3, 4, 5])\n",
    "print(arr1)\n",
    "```\n",
    "Criando uma matriz 2D:\n",
    "```python\n",
    "arr2 = np.array([[1, 2, 3], [4, 5, 6]])\n",
    "print(arr2)\n",
    "```\n",
    "\n",
    "### 3.1 Criando Arrays a partir de Listas\n",
    "```python\n",
    "arr1 = np.array([10, 20, 30, 40])\n",
    "print(\"Array 1D:\", arr1)\n",
    "```\n",
    "\n",
    "### 3.2 Criando Matrizes\n",
    "```python\n",
    "arr2 = np.array([[1, 2, 3], [4, 5, 6]])\n",
    "print(\"Array 2D:\")\n",
    "print(arr2)\n",
    "```\n",
    "\n",
    "### 3.3 Criando Arrays com Zeros e Uns\n",
    "```python\n",
    "zeros = np.zeros((2, 3))  # Matriz 2x3 preenchida com zeros\n",
    "ones = np.ones((3, 3))   # Matriz 3x3 preenchida com uns\n",
    "print(\"Matriz de zeros:\")\n",
    "print(zeros)\n",
    "print(\"Matriz de uns:\")\n",
    "print(ones)\n",
    "```"
   ]
  },
  {
   "cell_type": "code",
   "execution_count": 2,
   "metadata": {
    "id": "9ApdDI74qhlw"
   },
   "outputs": [
    {
     "name": "stdout",
     "output_type": "stream",
     "text": [
      "1D array: [1 2 3 4 5]\n",
      "\n",
      "2D array:\n",
      " [[1 2 3]\n",
      " [4 5 6]]\n",
      "\n",
      "Zeros:\n",
      " [[0. 0. 0. 0.]\n",
      " [0. 0. 0. 0.]\n",
      " [0. 0. 0. 0.]]\n",
      "\n",
      "Ones 3D:\n",
      " [[[1. 1.]\n",
      "  [1. 1.]]\n",
      "\n",
      " [[1. 1.]\n",
      "  [1. 1.]]]\n",
      "\n",
      "Matriz identidade:\n",
      " [[1. 0. 0.]\n",
      " [0. 1. 0.]\n",
      " [0. 0. 1.]]\n",
      "\n",
      "Array com arange:\n",
      " [ 0  2  4  6  8 10 12 14 16 18]\n",
      "\n",
      "Array aleatório:\n",
      " [0.47116388 0.81041644 0.03184975 0.5059475  0.43344824]\n"
     ]
    }
   ],
   "source": [
    "# A partir de listas Python\n",
    "arr1 = np.array([1, 2, 3, 4, 5])\n",
    "print(\"1D array:\", arr1)\n",
    "\n",
    "# Array 2D\n",
    "arr2d = np.array([[1, 2, 3], [4, 5, 6]])\n",
    "print(\"\\n2D array:\\n\", arr2d)\n",
    "\n",
    "# Arrays especiais\n",
    "zeros = np.zeros((3, 4))\n",
    "ones = np.ones((2, 2, 2))\n",
    "identity = np.eye(3)\n",
    "range_arr = np.arange(0, 20, 2)  # Similar ao range() mas retorna array\n",
    "random_arr = np.random.rand(5)  # Valores uniformes entre [0, 1)\n",
    "\n",
    "print(\"\\nZeros:\\n\", zeros)\n",
    "print(\"\\nOnes 3D:\\n\", ones)\n",
    "print(\"\\nMatriz identidade:\\n\", identity)\n",
    "print(\"\\nArray com arange:\\n\", range_arr)\n",
    "print(\"\\nArray aleatório:\\n\", random_arr)"
   ]
  },
  {
   "cell_type": "markdown",
   "metadata": {
    "id": "3KKdYt91q1bE"
   },
   "source": [
    "3.2 Atributos Fundamentais de um Array\n",
    "\n",
    "Todo array NumPy possui:\n",
    "- **shape**: Dimensões do array (tupla)\n",
    "- **ndim**: Número de dimensões\n",
    "- **size**: Número total de elementos\n",
    "- **dtype**: Tipo dos dados\n",
    "- **itemsize**: Tamanho em bytes de cada elemento\n",
    "- **nbytes**: Tamanho total em bytes (size * itemsize)"
   ]
  },
  {
   "cell_type": "code",
   "execution_count": 3,
   "metadata": {
    "id": "WGcJBOZOq6jS"
   },
   "outputs": [
    {
     "name": "stdout",
     "output_type": "stream",
     "text": [
      "Array:\n",
      " [[[0.13675097 0.8815968 ]\n",
      "  [0.96841977 0.04147224]\n",
      "  [0.12369418 0.02252748]\n",
      "  [0.96647289 0.35939754]]\n",
      "\n",
      " [[0.98463281 0.19418038]\n",
      "  [0.19981773 0.6006658 ]\n",
      "  [0.97427017 0.0743025 ]\n",
      "  [0.06394964 0.41665774]]\n",
      "\n",
      " [[0.35400214 0.70511692]\n",
      "  [0.10454048 0.30578514]\n",
      "  [0.56111413 0.60419269]\n",
      "  [0.60252381 0.99284728]]]\n",
      "\n",
      "Shape: (3, 4, 2)\n",
      "Número de dimensões: 3\n",
      "Número total de elementos: 24\n",
      "Tipo dos dados: float64\n",
      "Tamanho de cada elemento (bytes): 8\n",
      "Tamanho total (bytes): 192\n"
     ]
    }
   ],
   "source": [
    "# Exemplo de inspeção de atributos\n",
    "arr = np.random.rand(3, 4, 2)\n",
    "\n",
    "print(\"Array:\\n\", arr)\n",
    "print(\"\\nShape:\", arr.shape)\n",
    "print(\"Número de dimensões:\", arr.ndim)\n",
    "print(\"Número total de elementos:\", arr.size)\n",
    "print(\"Tipo dos dados:\", arr.dtype)\n",
    "print(\"Tamanho de cada elemento (bytes):\", arr.itemsize)\n",
    "print(\"Tamanho total (bytes):\", arr.nbytes)"
   ]
  },
  {
   "cell_type": "markdown",
   "metadata": {
    "id": "dfuNeAOssXKf"
   },
   "source": [
    "## 4. Indexação e Slicing Avançado\n",
    "\n",
    "### 4.1 Teoria: Modelo de Indexação NumPy\n",
    "\n",
    "NumPy oferece vários métodos de indexação:\n",
    "1. **Indexação básica**: Similar a listas Python\n",
    "2. **Indexação booleana**: Seleção usando máscaras booleanas\n",
    "3. **Indexação fancy**: Usando arrays de índices\n",
    "4. **Slicing**: Acesso a subarrays com step e intervalos"
   ]
  },
  {
   "cell_type": "code",
   "execution_count": 4,
   "metadata": {
    "id": "hiKMBbfatnHs"
   },
   "outputs": [
    {
     "name": "stdout",
     "output_type": "stream",
     "text": [
      "Array original:\n",
      " [[ 1  2  3  4  5]\n",
      " [ 6  7  8  9 10]\n",
      " [11 12 13 14 15]\n",
      " [16 17 18 19 20]\n",
      " [21 22 23 24 25]]\n",
      "\n",
      "Elemento na linha 1, coluna 2: 8\n",
      "Última linha:\n",
      " [21 22 23 24 25]\n",
      "\n",
      "Linhas 1 a 3, colunas 2 a 4:\n",
      " [[ 8  9 10]\n",
      " [13 14 15]\n",
      " [18 19 20]]\n",
      "Todos os elementos com step 2:\n",
      " [[ 1  3  5]\n",
      " [11 13 15]\n",
      " [21 23 25]]\n",
      "\n",
      "Máscara booleana:\n",
      " [[False False False False False]\n",
      " [False False False False False]\n",
      " [False False False False False]\n",
      " [False False False False False]\n",
      " [ True  True  True  True  True]]\n",
      "Elementos > 20: [21 22 23 24 25]\n",
      "\n",
      "Selecionando linhas 0 e 4, colunas 1 e 3:\n",
      " [ 2 24]\n"
     ]
    }
   ],
   "source": [
    "# Criando array de exemplo\n",
    "arr = np.arange(1, 26).reshape(5, 5)\n",
    "print(\"Array original:\\n\", arr)\n",
    "\n",
    "# Indexação básica\n",
    "print(\"\\nElemento na linha 1, coluna 2:\", arr[1, 2])\n",
    "print(\"Última linha:\\n\", arr[-1])\n",
    "\n",
    "# Slicing\n",
    "print(\"\\nLinhas 1 a 3, colunas 2 a 4:\\n\", arr[1:4, 2:5])\n",
    "print(\"Todos os elementos com step 2:\\n\", arr[::2, ::2])\n",
    "\n",
    "# Indexação booleana\n",
    "mask = arr > 20\n",
    "print(\"\\nMáscara booleana:\\n\", mask)\n",
    "print(\"Elementos > 20:\", arr[mask])\n",
    "\n",
    "# Indexação fancy\n",
    "print(\"\\nSelecionando linhas 0 e 4, colunas 1 e 3:\\n\", arr[[0, 4], [1, 3]])"
   ]
  },
  {
   "cell_type": "markdown",
   "metadata": {
    "id": "b-cbDfe-t1V6"
   },
   "source": [
    "## Exercício 1: Manipulação de Arrays\n",
    "\n",
    "1. Crie um array 8x8 com valores aleatórios entre 10 e 50\n",
    "2. Selecione apenas os valores pares\n",
    "3. Extraia a submatriz central 4x4\n",
    "4. Inverta as linhas do array"
   ]
  },
  {
   "cell_type": "code",
   "execution_count": 5,
   "metadata": {
    "id": "FweNQkV8t50T"
   },
   "outputs": [
    {
     "name": "stdout",
     "output_type": "stream",
     "text": [
      "Array original:\n",
      " [[45 18 33 11 14 46 49 34]\n",
      " [21 16 45 17 11 19 36 46]\n",
      " [25 36 42 26 10 47 29 33]\n",
      " [11 35 21 21 22 44 28 15]\n",
      " [37 42 16 36 34 38 23 35]\n",
      " [18 23 20 28 17 22 23 14]\n",
      " [12 38 14 28 32 41 42 28]\n",
      " [30 14 13 47 24 27 12 11]]\n",
      "\n",
      "Valores pares:\n",
      " [18 14 46 34 16 36 46 36 42 26 10 22 44 28 42 16 36 34 38 18 20 28 22 14\n",
      " 12 38 14 28 32 42 28 30 14 24 12]\n",
      "\n",
      "Submatriz central:\n",
      " [[42 26 10 47]\n",
      " [21 21 22 44]\n",
      " [16 36 34 38]\n",
      " [20 28 17 22]]\n",
      "\n",
      "Array com linhas invertidas:\n",
      " [[30 14 13 47 24 27 12 11]\n",
      " [12 38 14 28 32 41 42 28]\n",
      " [18 23 20 28 17 22 23 14]\n",
      " [37 42 16 36 34 38 23 35]\n",
      " [11 35 21 21 22 44 28 15]\n",
      " [25 36 42 26 10 47 29 33]\n",
      " [21 16 45 17 11 19 36 46]\n",
      " [45 18 33 11 14 46 49 34]]\n"
     ]
    }
   ],
   "source": [
    "# 1. Criando array\n",
    "random_matrix = np.random.randint(10, 50, size=(8, 8))\n",
    "print(\"Array original:\\n\", random_matrix)\n",
    "\n",
    "# 2. Valores pares\n",
    "pares = random_matrix[random_matrix % 2 == 0]\n",
    "print(\"\\nValores pares:\\n\", pares)\n",
    "\n",
    "# 3. Submatriz central\n",
    "central = random_matrix[2:6, 2:6]\n",
    "print(\"\\nSubmatriz central:\\n\", central)\n",
    "\n",
    "# 4. Invertendo linhas\n",
    "inverted = random_matrix[::-1]\n",
    "print(\"\\nArray com linhas invertidas:\\n\", inverted)"
   ]
  },
  {
   "cell_type": "markdown",
   "metadata": {
    "id": "anPREU3SuDAr"
   },
   "source": [
    "## 5. Operações Matemáticas e Broadcasting\n",
    "\n",
    "### 5.1 Teoria: Broadcasting\n",
    "\n",
    "O broadcasting é um conjunto de regras que permite operações entre arrays de diferentes shapes:\n",
    "\n",
    "**Regras:**\n",
    "1. Dimensões são comparadas a partir da direita\n",
    "2. Dois eixos são compatíveis se:\n",
    "   - São iguais, ou\n",
    "   - Um deles é 1\n",
    "3. Arrays com menos dimensões têm '1' preposto ao seu shape"
   ]
  },
  {
   "cell_type": "code",
   "execution_count": 6,
   "metadata": {
    "id": "b1agUvjZuICh"
   },
   "outputs": [
    {
     "name": "stdout",
     "output_type": "stream",
     "text": [
      "Resultado do broadcasting:\n",
      " [[11 22 33]\n",
      " [14 25 36]\n",
      " [17 28 39]]\n",
      "\n",
      "Shape do resultado: (5, 3, 4)\n"
     ]
    }
   ],
   "source": [
    "# Exemplos de broadcasting\n",
    "\n",
    "# Array 3x3\n",
    "a = np.array([[1, 2, 3], [4, 5, 6], [7, 8, 9]])\n",
    "\n",
    "# Array 1x3\n",
    "b = np.array([10, 20, 30])\n",
    "\n",
    "# Operação com broadcasting\n",
    "result = a + b\n",
    "print(\"Resultado do broadcasting:\\n\", result)\n",
    "\n",
    "# Exemplo complexo\n",
    "arr1 = np.ones((5, 1, 4))\n",
    "arr2 = np.ones((3, 4))\n",
    "print(\"\\nShape do resultado:\", (arr1 + arr2).shape)"
   ]
  },
  {
   "cell_type": "markdown",
   "metadata": {
    "id": "dyUMUHYTuU9F"
   },
   "source": [
    "### 5.2 Operações Matemáticas Básicas"
   ]
  },
  {
   "cell_type": "code",
   "execution_count": 7,
   "metadata": {
    "id": "xtE_-csxuYvV"
   },
   "outputs": [
    {
     "name": "stdout",
     "output_type": "stream",
     "text": [
      "Adição: [5 7 9]\n",
      "Subtração: [-3 -3 -3]\n",
      "Multiplicação: [ 4 10 18]\n",
      "Divisão: [4.  2.5 2. ]\n",
      "Potenciação: [1 4 9]\n",
      "Produto escalar: 32\n",
      "\n",
      "Seno: [0.84147098 0.90929743 0.14112001]\n",
      "Exponencial: [ 2.71828183  7.3890561  20.08553692]\n",
      "Logaritmo: [0.         0.69314718 1.09861229]\n"
     ]
    }
   ],
   "source": [
    "x = np.array([1, 2, 3])\n",
    "y = np.array([4, 5, 6])\n",
    "\n",
    "print(\"Adição:\", x + y)  # ou np.add(x, y)\n",
    "print(\"Subtração:\", x - y)\n",
    "print(\"Multiplicação:\", x * y)  # Element-wise, não multiplicação matricial\n",
    "print(\"Divisão:\", y / x)\n",
    "print(\"Potenciação:\", x ** 2)\n",
    "print(\"Produto escalar:\", np.dot(x, y))\n",
    "\n",
    "# Funções matemáticas\n",
    "print(\"\\nSeno:\", np.sin(x))\n",
    "print(\"Exponencial:\", np.exp(x))\n",
    "print(\"Logaritmo:\", np.log(x))"
   ]
  },
  {
   "cell_type": "markdown",
   "metadata": {
    "id": "L508I8TTu1Jc"
   },
   "source": [
    "## Exercício 2: Cálculo Matricial\n",
    "\n",
    "1. Crie uma matriz 4x4 com valores de 1 a 16\n",
    "2. Calcule:\n",
    "   - A soma de todos os elementos\n",
    "   - A média de cada coluna\n",
    "   - O produto matricial consigo mesma\n",
    "   - O determinante\n",
    "3. Normalize a matriz (valores entre 0 e 1)"
   ]
  },
  {
   "cell_type": "code",
   "execution_count": 8,
   "metadata": {
    "id": "pnpfaa42u6AG"
   },
   "outputs": [
    {
     "name": "stdout",
     "output_type": "stream",
     "text": [
      "Matriz original:\n",
      " [[ 1  2  3  4]\n",
      " [ 5  6  7  8]\n",
      " [ 9 10 11 12]\n",
      " [13 14 15 16]]\n",
      "\n",
      "Soma total: 136\n",
      "Média das colunas: [ 7.  8.  9. 10.]\n",
      "\n",
      "Produto matricial:\n",
      " [[ 90 100 110 120]\n",
      " [202 228 254 280]\n",
      " [314 356 398 440]\n",
      " [426 484 542 600]]\n",
      "\n",
      "Determinante: 0.0\n",
      "\n",
      "Matriz normalizada:\n",
      " [[0.         0.06666667 0.13333333 0.2       ]\n",
      " [0.26666667 0.33333333 0.4        0.46666667]\n",
      " [0.53333333 0.6        0.66666667 0.73333333]\n",
      " [0.8        0.86666667 0.93333333 1.        ]]\n"
     ]
    }
   ],
   "source": [
    "# Solução do Exercício 2\n",
    "\n",
    "# 1. Criando matriz\n",
    "mat = np.arange(1, 17).reshape(4, 4)\n",
    "print(\"Matriz original:\\n\", mat)\n",
    "\n",
    "# 2. Cálculos\n",
    "print(\"\\nSoma total:\", mat.sum())\n",
    "print(\"Média das colunas:\", mat.mean(axis=0))\n",
    "print(\"\\nProduto matricial:\\n\", np.matmul(mat, mat))\n",
    "print(\"\\nDeterminante:\", np.linalg.det(mat))\n",
    "\n",
    "# 3. Normalização\n",
    "mat_norm = (mat - mat.min()) / (mat.max() - mat.min())\n",
    "print(\"\\nMatriz normalizada:\\n\", mat_norm)"
   ]
  },
  {
   "cell_type": "markdown",
   "metadata": {
    "id": "3H7hcmuFvUvm"
   },
   "source": [
    "## 6. Álgebra Linear com NumPy\n",
    "\n",
    "### 6.1 Teoria: Submódulo linalg\n",
    "\n",
    "O NumPy fornece o submódulo `numpy.linalg` com funções para:\n",
    "- Decomposições matriciais (LU, QR, SVD)\n",
    "- Solução de sistemas lineares\n",
    "- Cálculo de autovalores e autovetores\n",
    "- Normas matriciais"
   ]
  },
  {
   "cell_type": "code",
   "execution_count": 9,
   "metadata": {
    "id": "ZMVU4et2v3gQ"
   },
   "outputs": [
    {
     "name": "stdout",
     "output_type": "stream",
     "text": [
      "Solução do sistema: [2. 3.]\n",
      "\n",
      "Autovalores: [3.61803399 1.38196601]\n",
      "Autovetores:\n",
      " [[ 0.85065081 -0.52573111]\n",
      " [ 0.52573111  0.85065081]]\n",
      "\n",
      "Decomposição SVD:\n",
      "U:\n",
      " [[-0.85065081 -0.52573111]\n",
      " [-0.52573111  0.85065081]]\n",
      "S (valores singulares): [3.61803399 1.38196601]\n",
      "Vt:\n",
      " [[-0.85065081 -0.52573111]\n",
      " [-0.52573111  0.85065081]]\n"
     ]
    }
   ],
   "source": [
    "# Exemplos de álgebra linear\n",
    "\n",
    "# Sistema linear: 3x + y = 9, x + 2y = 8\n",
    "A = np.array([[3, 1], [1, 2]])\n",
    "b = np.array([9, 8])\n",
    "\n",
    "# Resolvendo o sistema\n",
    "x = np.linalg.solve(A, b)\n",
    "print(\"Solução do sistema:\", x)\n",
    "\n",
    "# Autovalores e autovetores\n",
    "eigenvalues, eigenvectors = np.linalg.eig(A)\n",
    "print(\"\\nAutovalores:\", eigenvalues)\n",
    "print(\"Autovetores:\\n\", eigenvectors)\n",
    "\n",
    "# Decomposição SVD\n",
    "U, S, Vt = np.linalg.svd(A)\n",
    "print(\"\\nDecomposição SVD:\")\n",
    "print(\"U:\\n\", U)\n",
    "print(\"S (valores singulares):\", S)\n",
    "print(\"Vt:\\n\", Vt)"
   ]
  },
  {
   "cell_type": "markdown",
   "metadata": {
    "id": "tsnrzm4ayC6F"
   },
   "source": [
    "## 7. Otimização de Performance\n",
    "\n",
    "### 7.1 Teoria: Vetorização vs Loops\n",
    "\n",
    "NumPy é otimizado para operações vetorizadas. Operações com loops Python são geralmente mais lentas."
   ]
  },
  {
   "cell_type": "code",
   "execution_count": 10,
   "metadata": {
    "id": "8eHIMfvXyG8D"
   },
   "outputs": [
    {
     "name": "stdout",
     "output_type": "stream",
     "text": [
      "Tempo com loop Python: 0.6412 segundos\n",
      "Tempo com NumPy: 0.004188 segundos\n",
      "NumPy foi 153x mais rápido\n"
     ]
    }
   ],
   "source": [
    "# Comparação de performance\n",
    "large_arr = np.random.rand(1000000)\n",
    "\n",
    "def sum_with_loop(arr):\n",
    "    total = 0\n",
    "    for num in arr:\n",
    "        total += num\n",
    "    return total\n",
    "\n",
    "# Medindo tempo\n",
    "loop_time = timeit('sum_with_loop(large_arr)', globals=globals(), number=10)\n",
    "numpy_time = timeit('np.sum(large_arr)', globals=globals(), number=10)\n",
    "\n",
    "print(f\"Tempo com loop Python: {loop_time:.4f} segundos\")\n",
    "print(f\"Tempo com NumPy: {numpy_time:.6f} segundos\")\n",
    "print(f\"NumPy foi {loop_time/numpy_time:.0f}x mais rápido\")"
   ]
  },
  {
   "cell_type": "markdown",
   "metadata": {
    "id": "OyowXu0Jz1KL"
   },
   "source": [
    "### 7.2 Técnicas de Otimização\n",
    "\n",
    "1. **Evitar loops Python**: Usar operações vetorizadas sempre que possível\n",
    "2. **Views vs cópias**: Operações de slicing retornam views (sem cópia)\n",
    "3. **Pré-alocação**: Criar arrays de destino antes das operações\n",
    "4. **Tipos de dados**: Usar dtype apropriado para economizar memória"
   ]
  },
  {
   "cell_type": "code",
   "execution_count": 11,
   "metadata": {
    "colab": {
     "base_uri": "https://localhost:8080/"
    },
    "id": "kPqss7AG0j-y",
    "outputId": "e968fa67-4901-4507-fb73-055356919923"
   },
   "outputs": [
    {
     "name": "stdout",
     "output_type": "stream",
     "text": [
      "Tempo com append: 0.3277 segundos\n",
      "Tempo com pré-alocação: 0.006799 segundos\n",
      "Pré-alocação foi 48x mais rápida\n"
     ]
    }
   ],
   "source": [
    "# Exemplo: Pré-alocação vs concatenação\n",
    "\n",
    "def slow_append(size):\n",
    "    result = np.array([])\n",
    "    for i in range(size):\n",
    "        result = np.append(result, i)\n",
    "    return result\n",
    "\n",
    "def fast_preallocate(size):\n",
    "    result = np.empty(size)\n",
    "    for i in range(size):\n",
    "        result[i] = i\n",
    "    return result\n",
    "\n",
    "# Comparação\n",
    "size = 10000\n",
    "slow_time = timeit('slow_append(size)', globals=globals(), number=10)\n",
    "fast_time = timeit('fast_preallocate(size)', globals=globals(), number=10)\n",
    "\n",
    "print(f\"Tempo com append: {slow_time:.4f} segundos\")\n",
    "print(f\"Tempo com pré-alocação: {fast_time:.6f} segundos\")\n",
    "print(f\"Pré-alocação foi {slow_time/fast_time:.0f}x mais rápida\")"
   ]
  }
 ],
 "metadata": {
  "colab": {
   "provenance": []
  },
  "kernelspec": {
   "display_name": "Python 3",
   "name": "python3"
  },
  "language_info": {
   "codemirror_mode": {
    "name": "ipython",
    "version": 3
   },
   "file_extension": ".py",
   "mimetype": "text/x-python",
   "name": "python",
   "nbconvert_exporter": "python",
   "pygments_lexer": "ipython3",
   "version": "3.12.9"
  }
 },
 "nbformat": 4,
 "nbformat_minor": 0
}
