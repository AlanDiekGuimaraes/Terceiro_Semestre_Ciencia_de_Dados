{
 "nbformat": 4,
 "nbformat_minor": 0,
 "metadata": {
  "colab": {
   "provenance": []
  },
  "kernelspec": {
   "name": "python3",
   "display_name": "Python 3"
  },
  "language_info": {
   "name": "python"
  }
 },
 "cells": [
  {
   "cell_type": "markdown",
   "source": [
    "# Aula de Pandas para Ciência de Dados - Introdução à Manipulação de Dados\n",
    "\n",
    "#### Descrição:\n",
    "Esta aula introdutória explora a biblioteca Pandas, uma ferramenta essencial para cientistas de dados.\n",
    "Abordaremos desde os conceitos básicos até operações mais avançadas de manipulação e análise de dados.\n",
    "\n",
    "**Objetivos da aula:**\n",
    "1. Entender os conceitos básicos do Pandas\n",
    "2. Aprender a manipular DataFrames\n",
    "3. Realizar operações de limpeza e transformação de dados\n",
    "4. Visualizar dados básicos com Pandas\n",
    "\n",
    "**Pré-requisitos:**\n",
    "- Conhecimento básico de programação em Python (variáveis, listas, dicionários).\n",
    "- Familiaridade com o ambiente Google Colab (criação e execução de notebooks).\n"
   ],
   "metadata": {
    "id": "qU8IleHakAQg"
   }
  },
  {
   "cell_type": "markdown",
   "source": [
    "## 1. Introdução ao Pandas\n",
    "\n",
    "* Nesta seção, vamos abordar os conceitos básicos do Pandas, como Series e DataFrames.\n",
    "\n",
    "O Pandas é uma biblioteca Python de código aberto para manipulação e análise de dados. Ele fornece estruturas de dados e operações para manipular tabelas numéricas e séries temporais.\n",
    "\n",
    "Principais estruturas:\n",
    "- **Series**: Array unidimensional que pode armazenar qualquer tipo de dados\n",
    "- **DataFrame**: Estrutura bidimensional (tabela) com linhas e colunas\n",
    "\n",
    "Vamos começar importando a biblioteca:"
   ],
   "metadata": {
    "id": "HGWMmAwtkSRL"
   }
  },
  {
   "cell_type": "code",
   "source": [
    "# Importando as bibliotecas necessárias\n",
    "# Pandas: biblioteca para manipulação e análise de dados\n",
    "# NumPy: biblioteca para operações numéricas em arrays\n",
    "import pandas as pd\n",
    "import numpy as np"
   ],
   "metadata": {
    "id": "qI6pAsl1kYgp"
   },
   "execution_count": 1,
   "outputs": []
  },
  {
   "cell_type": "markdown",
   "source": [
    "\n",
    "## 2. Criando DataFrames\n",
    "\n",
    "DataFrames são estruturas de dados tabulares, semelhantes a planilhas, que facilitam a manipulação e análise de dados em Python.\n",
    "\n",
    "Vamos explorar como criá-los a partir de diferentes fontes:\n",
    "- Dicionários: Criação rápida de DataFrames a partir de dados em formato de dicionário.\n",
    "- Listas: Construção de DataFrames a partir de listas de listas ou listas de dicionários.\n",
    "- Arrays NumPy: Conversão de arrays NumPy em DataFrames para análise eficiente.\n",
    "- Arquivos externos (CSV, Excel, etc.): Importação de dados de arquivos externos para DataFrames.\n"
   ],
   "metadata": {
    "id": "5u75MhIlkqNk"
   }
  },
  {
   "cell_type": "code",
   "source": [
    "# Criando um DataFrame a partir de um dicionário\n",
    "data = {\n",
    "    'Nome': ['Ana', 'João', 'Maria', 'Carlos'],\n",
    "    'Idade': [25, 30, 22, 35],\n",
    "    'Cidade': ['São Paulo', 'Rio de Janeiro', 'Belo Horizonte', 'Porto Alegre']\n",
    "}\n",
    "# pd.DataFrame(): cria um DataFrame a partir de um dicionário\n",
    "df = pd.DataFrame(data)\n",
    "df"
   ],
   "metadata": {
    "id": "5Ds0kNNCkwUB"
   },
   "execution_count": null,
   "outputs": []
  },
  {
   "cell_type": "markdown",
   "source": [
    "## 3. Operações Básicas com DataFrames: Explorando e Entendendo seus Dados\n",
    "\n",
    "####  Antes de mergulhar na análise, é crucial entender as operações básicas que o Pandas oferece:\n",
    "\n",
    "- Visualização de dados: `head()`, `tail()`, `info()`, `describe()`\n",
    "- Seleção de colunas e linhas\n",
    "- Ordenação de dados: `sort_values()`\n",
    "- Filtragem de dados: seleção condicional\n",
    "- Adição e remoção de colunas"
   ],
   "metadata": {
    "id": "X61FVP3MlUOi"
   }
  },
  {
   "cell_type": "code",
   "source": [
    "# Visualizando as primeiras linhas\n",
    "print(\"Primeiras linhas:\")\n",
    "print(df.head(2))\n",
    "\n",
    "# Visualizando as últimas linhas\n",
    "print(\"\\nÚltimas linhas:\")\n",
    "print(df.tail(2))\n",
    "\n",
    "# Informações sobre o DataFrame\n",
    "print(\"\\nInformações do DataFrame:\")\n",
    "print(df.info())\n",
    "\n",
    "# Estatísticas descritivas\n",
    "print(\"\\nEstatísticas descritivas:\")\n",
    "print(df.describe())"
   ],
   "metadata": {
    "id": "sY5LKmf_lcKn"
   },
   "execution_count": null,
   "outputs": []
  },
  {
   "cell_type": "markdown",
   "source": [
    "## 4. Seleção e Indexação: Acessando Dados Específicos\n",
    "\n",
    "#### A seleção e indexação são cruciais para acessar e manipular dados específicos em um DataFrame:\n",
    "\n",
    "Podemos selecionar dados de várias formas:"
   ],
   "metadata": {
    "id": "UmjgpwacmtxM"
   }
  },
  {
   "cell_type": "code",
   "source": [
    "# Selecionando uma coluna\n",
    "print(\"Coluna Nome:\")\n",
    "print(df['Nome'])\n",
    "\n",
    "# Selecionando múltiplas colunas\n",
    "print(\"\\nColunas Nome e Idade:\")\n",
    "print(df[['Nome', 'Idade']])\n",
    "\n",
    "# Selecionando linhas por índice\n",
    "print(\"\\nSegunda linha:\")\n",
    "print(df.iloc[1])\n",
    "\n",
    "# Selecionando com condições\n",
    "print(\"\\nPessoas com mais de 25 anos:\")\n",
    "print(df[df['Idade'] > 25])"
   ],
   "metadata": {
    "id": "LfB-TjJjmyrK"
   },
   "execution_count": null,
   "outputs": []
  },
  {
   "cell_type": "markdown",
   "source": [
    "## 5. Lidando com Dados Faltantes: Limpeza e Preparação de Dados\n",
    "\n",
    "#### Dados faltantes (NaN - Not a Number) são comuns em conjuntos de dados reais.\n",
    "\n",
    "Vamos aprender a lidar com eles."
   ],
   "metadata": {
    "id": "WefWKV01m8Bq"
   }
  },
  {
   "cell_type": "code",
   "source": [
    "# Criando DataFrame com dados faltantes\n",
    "data = {\n",
    "    'Nome': ['Ana', 'João', 'Maria', 'Carlos', None],\n",
    "    'Idade': [25, 30, None, 35, 28],\n",
    "    'Cidade': ['São Paulo', 'Rio de Janeiro', None, 'Porto Alegre', 'Curitiba']\n",
    "}\n",
    "\n",
    "df_nan = pd.DataFrame(data)\n",
    "print(\"DataFrame original:\")\n",
    "print(df_nan)\n",
    "\n",
    "# Identificando valores faltantes\n",
    "print(\"\\nValores faltantes:\")\n",
    "print(df_nan.isnull())\n",
    "\n",
    "# Removendo linhas com valores faltantes\n",
    "print(\"\\nRemovendo linhas com NaN:\")\n",
    "print(df_nan.dropna())\n",
    "\n",
    "# Preenchendo valores faltantes\n",
    "print(\"\\nPreenchendo NaN com valores padrão:\")\n",
    "print(df_nan.fillna({'Nome': 'Desconhecido', 'Idade': df_nan['Idade'].mean(), 'Cidade': 'Não informada'}))"
   ],
   "metadata": {
    "id": "GDKMqhtJnRBa"
   },
   "execution_count": null,
   "outputs": []
  },
  {
   "cell_type": "markdown",
   "source": [
    "## 6. Agregação e Agrupamento: Resumindo e Analisando Dados\n",
    "\n",
    "#### A agregação e o agrupamento são essenciais para resumir e analisar dados em DataFrames:\n",
    "\n",
    "- Agrupamento de dados: `groupby()`\n",
    "- Funções de agregação: `sum()`, `mean()`, `count()`, `min()`, `max()`, etc.\n",
    "- Aplicação de funções personalizadas: `agg()`, `apply()`\n",
    "- Tabelas dinâmicas: `pivot_table()`"
   ],
   "metadata": {
    "id": "e5iJdOStnnSl"
   }
  },
  {
   "cell_type": "code",
   "source": [
    "# Criando DataFrame de exemplo\n",
    "vendas = {\n",
    "    'Vendedor': ['Ana', 'João', 'Ana', 'Carlos', 'João', 'Maria'],\n",
    "    'Produto': ['TV', 'Notebook', 'Celular', 'TV', 'Celular', 'Notebook'],\n",
    "    'Valor': [2000, 3500, 1500, 2200, 1400, 3600],\n",
    "    'Data': ['2023-01-15', '2023-01-20', '2023-01-10', '2023-02-05', '2023-02-15', '2023-03-10']\n",
    "}\n",
    "\n",
    "df_vendas = pd.DataFrame(vendas)\n",
    "df_vendas['Data'] = pd.to_datetime(df_vendas['Data'])\n",
    "\n",
    "# Agregações básicas\n",
    "print(\"Soma dos valores:\")\n",
    "print(df_vendas['Valor'].sum())\n",
    "\n",
    "print(\"\\nMédia dos valores:\")\n",
    "print(df_vendas['Valor'].mean())\n",
    "\n",
    "# Agrupamento\n",
    "print(\"\\nTotal de vendas por vendedor:\")\n",
    "print(df_vendas.groupby('Vendedor')['Valor'].sum())\n",
    "\n",
    "print(\"\\nMédia de vendas por produto:\")\n",
    "print(df_vendas.groupby('Produto')['Valor'].mean())"
   ],
   "metadata": {
    "id": "-9wWi7p4ns1n"
   },
   "execution_count": null,
   "outputs": []
  },
  {
   "cell_type": "markdown",
   "source": [
    "## 7. Visualização Básica com Pandas: Explorando Dados Visualmente\n",
    "\n",
    "####  O Pandas oferece integração com Matplotlib para criar visualizações simples e informativas:\n",
    "\n",
    "- Gráficos de linhas: `plot(kind='line')`\n",
    "- Gráficos de barras: `plot(kind='bar')`\n",
    "- Histogramas: `plot(kind='hist')`\n",
    "- Gráficos de dispersão: `plot(kind='scatter')`\n",
    "- Personalização de gráficos: títulos, rótulos, cores, etc."
   ],
   "metadata": {
    "id": "v-p5Bv_mnyGW"
   }
  },
  {
   "cell_type": "code",
   "source": [
    "# Gráfico de barras\n",
    "df_vendas['Produto'].value_counts().plot(kind='bar', title='Vendas por Produto')\n",
    "\n",
    "# Histograma\n",
    "df_vendas['Valor'].plot(kind='hist', bins=5, title='Distribuição de Valores')\n",
    "\n",
    "# Boxplot\n",
    "df_vendas.boxplot(column='Valor', by='Produto')"
   ],
   "metadata": {
    "id": "SLtlwq2On12j"
   },
   "execution_count": null,
   "outputs": []
  }
 ]
}
